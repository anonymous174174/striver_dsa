{
 "cells": [
  {
   "cell_type": "markdown",
   "id": "1d3dac5f",
   "metadata": {
    "id": "94kOM2xaIlGD",
    "papermill": {
     "duration": 0.004039,
     "end_time": "2025-05-09T01:26:18.346769",
     "exception": false,
     "start_time": "2025-05-09T01:26:18.342730",
     "status": "completed"
    },
    "tags": []
   },
   "source": [
    "# Learn the basics"
   ]
  },
  {
   "cell_type": "markdown",
   "id": "c1a26f4a",
   "metadata": {
    "id": "3T2Kv1PvIteQ",
    "papermill": {
     "duration": 0.00294,
     "end_time": "2025-05-09T01:26:18.353411",
     "exception": false,
     "start_time": "2025-05-09T01:26:18.350471",
     "status": "completed"
    },
    "tags": []
   },
   "source": [
    "## Basic Recursion"
   ]
  },
  {
   "cell_type": "markdown",
   "id": "4adadeb5",
   "metadata": {
    "id": "Fz3q0BCGKWQP",
    "papermill": {
     "duration": 0.002867,
     "end_time": "2025-05-09T01:26:18.359544",
     "exception": false,
     "start_time": "2025-05-09T01:26:18.356677",
     "status": "completed"
    },
    "tags": []
   },
   "source": [
    "### reverse an array using recursion"
   ]
  },
  {
   "cell_type": "code",
   "execution_count": null,
   "id": "a2542886",
   "metadata": {
    "execution": {
     "iopub.execute_input": "2025-05-09T01:26:18.367407Z",
     "iopub.status.busy": "2025-05-09T01:26:18.367038Z",
     "iopub.status.idle": "2025-05-09T01:26:18.376482Z",
     "shell.execute_reply": "2025-05-09T01:26:18.375232Z"
    },
    "id": "-MfDNhcJG-Ss",
    "papermill": {
     "duration": 0.015796,
     "end_time": "2025-05-09T01:26:18.378522",
     "exception": false,
     "start_time": "2025-05-09T01:26:18.362726",
     "status": "completed"
    },
    "tags": []
   },
   "outputs": [],
   "source": [
    "def reverse_array(len_array,array,i):\n",
    "  if i==len_array//2:\n",
    "    #print(array)\n",
    "    return #array\n",
    "  array[i],array[len_array-1-i]=array[len_array-1-i],array[i]\n",
    "  reverse_array(len_array,array,i+1)"
   ]
  },
  {
   "cell_type": "code",
   "execution_count": 2,
   "id": "d510c925",
   "metadata": {
    "execution": {
     "iopub.execute_input": "2025-05-09T01:26:18.387871Z",
     "iopub.status.busy": "2025-05-09T01:26:18.387506Z",
     "iopub.status.idle": "2025-05-09T01:26:18.392764Z",
     "shell.execute_reply": "2025-05-09T01:26:18.391739Z"
    },
    "id": "fqFRQyMSIiTC",
    "papermill": {
     "duration": 0.01228,
     "end_time": "2025-05-09T01:26:18.394589",
     "exception": false,
     "start_time": "2025-05-09T01:26:18.382309",
     "status": "completed"
    },
    "tags": []
   },
   "outputs": [],
   "source": [
    "arr=[1,2,3,4,5]"
   ]
  },
  {
   "cell_type": "code",
   "execution_count": 3,
   "id": "2cee41f3",
   "metadata": {
    "execution": {
     "iopub.execute_input": "2025-05-09T01:26:18.405219Z",
     "iopub.status.busy": "2025-05-09T01:26:18.404179Z",
     "iopub.status.idle": "2025-05-09T01:26:18.409708Z",
     "shell.execute_reply": "2025-05-09T01:26:18.408603Z"
    },
    "id": "DUCDojfBI-I4",
    "papermill": {
     "duration": 0.01205,
     "end_time": "2025-05-09T01:26:18.411836",
     "exception": false,
     "start_time": "2025-05-09T01:26:18.399786",
     "status": "completed"
    },
    "tags": []
   },
   "outputs": [],
   "source": [
    "reverse_array(len(arr),arr,0)"
   ]
  },
  {
   "cell_type": "code",
   "execution_count": 4,
   "id": "3c20d600",
   "metadata": {
    "colab": {
     "base_uri": "https://localhost:8080/"
    },
    "execution": {
     "iopub.execute_input": "2025-05-09T01:26:18.420376Z",
     "iopub.status.busy": "2025-05-09T01:26:18.419978Z",
     "iopub.status.idle": "2025-05-09T01:26:18.427148Z",
     "shell.execute_reply": "2025-05-09T01:26:18.426091Z"
    },
    "id": "CWnGY3TdJCG9",
    "outputId": "e2c5f427-e2b7-4027-c669-faf490045c79",
    "papermill": {
     "duration": 0.013195,
     "end_time": "2025-05-09T01:26:18.428782",
     "exception": false,
     "start_time": "2025-05-09T01:26:18.415587",
     "status": "completed"
    },
    "tags": []
   },
   "outputs": [
    {
     "data": {
      "text/plain": [
       "[5, 4, 3, 2, 1]"
      ]
     },
     "execution_count": 4,
     "metadata": {},
     "output_type": "execute_result"
    }
   ],
   "source": [
    "arr"
   ]
  },
  {
   "cell_type": "markdown",
   "id": "85612e73",
   "metadata": {
    "id": "jBaBLpcPKcjA",
    "papermill": {
     "duration": 0.003099,
     "end_time": "2025-05-09T01:26:18.435657",
     "exception": false,
     "start_time": "2025-05-09T01:26:18.432558",
     "status": "completed"
    },
    "tags": []
   },
   "source": [
    "### Palindrome Check\n",
    "\n",
    "https://leetcode.com/problems/valid-palindrome/description/"
   ]
  },
  {
   "cell_type": "code",
   "execution_count": 5,
   "id": "574cb382",
   "metadata": {
    "execution": {
     "iopub.execute_input": "2025-05-09T01:26:18.443983Z",
     "iopub.status.busy": "2025-05-09T01:26:18.443626Z",
     "iopub.status.idle": "2025-05-09T01:26:18.450592Z",
     "shell.execute_reply": "2025-05-09T01:26:18.449584Z"
    },
    "id": "6U2CDpmrK11c",
    "papermill": {
     "duration": 0.013351,
     "end_time": "2025-05-09T01:26:18.452432",
     "exception": false,
     "start_time": "2025-05-09T01:26:18.439081",
     "status": "completed"
    },
    "tags": []
   },
   "outputs": [],
   "source": [
    "class Solution:\n",
    "    def isPalindrome(self, s):\n",
    "        \"\"\"\n",
    "        :type s: str\n",
    "        :rtype: bool\n",
    "        \"\"\"\n",
    "        cs=[i.lower() for i in s if i.isalnum()]#.join(\"\")\n",
    "        lcs=len(cs)\n",
    "        if lcs==0:\n",
    "          return True\n",
    "        def rec_pal_check(i):\n",
    "\n",
    "          if cs[lcs-1-i]!=cs[i]:\n",
    "            return False\n",
    "          if i==lcs//2:\n",
    "\n",
    "            return True\n",
    "          return rec_pal_check(i+1)\n",
    "        return rec_pal_check(0)\n",
    "\n"
   ]
  },
  {
   "cell_type": "code",
   "execution_count": 6,
   "id": "f14d7fe3",
   "metadata": {
    "colab": {
     "base_uri": "https://localhost:8080/"
    },
    "execution": {
     "iopub.execute_input": "2025-05-09T01:26:18.461077Z",
     "iopub.status.busy": "2025-05-09T01:26:18.460698Z",
     "iopub.status.idle": "2025-05-09T01:26:18.467249Z",
     "shell.execute_reply": "2025-05-09T01:26:18.466164Z"
    },
    "id": "vKdsiOAFN45q",
    "outputId": "58684aad-9854-4c01-dc5b-11ce4da214c1",
    "papermill": {
     "duration": 0.012933,
     "end_time": "2025-05-09T01:26:18.468970",
     "exception": false,
     "start_time": "2025-05-09T01:26:18.456037",
     "status": "completed"
    },
    "tags": []
   },
   "outputs": [
    {
     "name": "stdout",
     "output_type": "stream",
     "text": [
      "True\n"
     ]
    }
   ],
   "source": [
    "k=Solution()\n",
    "out=k.isPalindrome( \"            !@#@    \")\n",
    "print(out)"
   ]
  },
  {
   "cell_type": "markdown",
   "id": "ab4f8863",
   "metadata": {
    "id": "wTRPYoJsQ-gG",
    "papermill": {
     "duration": 0.003349,
     "end_time": "2025-05-09T01:26:18.476093",
     "exception": false,
     "start_time": "2025-05-09T01:26:18.472744",
     "status": "completed"
    },
    "tags": []
   },
   "source": [
    "### Fibonacci Number\n",
    "https://leetcode.com/problems/fibonacci-number/"
   ]
  },
  {
   "cell_type": "code",
   "execution_count": 7,
   "id": "63a1db8f",
   "metadata": {
    "execution": {
     "iopub.execute_input": "2025-05-09T01:26:18.484822Z",
     "iopub.status.busy": "2025-05-09T01:26:18.484483Z",
     "iopub.status.idle": "2025-05-09T01:26:18.490359Z",
     "shell.execute_reply": "2025-05-09T01:26:18.489149Z"
    },
    "id": "uFM5am8sRA-f",
    "papermill": {
     "duration": 0.012377,
     "end_time": "2025-05-09T01:26:18.492154",
     "exception": false,
     "start_time": "2025-05-09T01:26:18.479777",
     "status": "completed"
    },
    "tags": []
   },
   "outputs": [],
   "source": [
    "class Solution(object):\n",
    "    def fib(self, n):\n",
    "        \"\"\"\n",
    "        :type n: int\n",
    "        :rtype: int\n",
    "        \"\"\"\n",
    "\n",
    "        def fibo(a,b,n):\n",
    "          if n==0:\n",
    "            return a\n",
    "          b,a=a+b,b\n",
    "          return fibo(a,b,n-1)\n",
    "        return fibo(0,1,n)"
   ]
  },
  {
   "cell_type": "code",
   "execution_count": 8,
   "id": "612d5eec",
   "metadata": {
    "colab": {
     "base_uri": "https://localhost:8080/"
    },
    "execution": {
     "iopub.execute_input": "2025-05-09T01:26:18.501054Z",
     "iopub.status.busy": "2025-05-09T01:26:18.500696Z",
     "iopub.status.idle": "2025-05-09T01:26:18.507036Z",
     "shell.execute_reply": "2025-05-09T01:26:18.506129Z"
    },
    "id": "rYBw1oI1R_Kv",
    "outputId": "13e63e3c-f1b1-4d87-9cbc-187c6a161c18",
    "papermill": {
     "duration": 0.012539,
     "end_time": "2025-05-09T01:26:18.508540",
     "exception": false,
     "start_time": "2025-05-09T01:26:18.496001",
     "status": "completed"
    },
    "tags": []
   },
   "outputs": [
    {
     "data": {
      "text/plain": [
       "3"
      ]
     },
     "execution_count": 8,
     "metadata": {},
     "output_type": "execute_result"
    }
   ],
   "source": [
    "s=Solution()\n",
    "s.fib(4)"
   ]
  },
  {
   "cell_type": "markdown",
   "id": "251616c8",
   "metadata": {
    "id": "0WsyGJQDSxET",
    "papermill": {
     "duration": 0.003362,
     "end_time": "2025-05-09T01:26:18.515865",
     "exception": false,
     "start_time": "2025-05-09T01:26:18.512503",
     "status": "completed"
    },
    "tags": []
   },
   "source": [
    "## Learn Basic Hashing"
   ]
  },
  {
   "cell_type": "markdown",
   "id": "0f77a7e7",
   "metadata": {
    "id": "zRnjwSQBS3G5",
    "papermill": {
     "duration": 0.003195,
     "end_time": "2025-05-09T01:26:18.522745",
     "exception": false,
     "start_time": "2025-05-09T01:26:18.519550",
     "status": "completed"
    },
    "tags": []
   },
   "source": [
    "### Frequency of the Most Frequent Element (HARD)\n",
    "https://leetcode.com/problems/frequency-of-the-most-frequent-element/description/"
   ]
  },
  {
   "cell_type": "code",
   "execution_count": null,
   "id": "8b2791b6",
   "metadata": {
    "execution": {
     "iopub.execute_input": "2025-05-09T01:26:18.532007Z",
     "iopub.status.busy": "2025-05-09T01:26:18.531679Z",
     "iopub.status.idle": "2025-05-09T01:26:18.538580Z",
     "shell.execute_reply": "2025-05-09T01:26:18.537511Z"
    },
    "id": "z6UcSmH3S1yo",
    "papermill": {
     "duration": 0.013393,
     "end_time": "2025-05-09T01:26:18.540477",
     "exception": false,
     "start_time": "2025-05-09T01:26:18.527084",
     "status": "completed"
    },
    "tags": []
   },
   "outputs": [],
   "source": [
    "#why this works but mine didn't?\n",
    "class Solution(object):\n",
    "    def maxFrequency(self, nums, k):\n",
    "        \"\"\"\n",
    "        :type nums: List[int]\n",
    "        :type k: int\n",
    "        :rtype: int\n",
    "        \"\"\"\n",
    "        nums.sort()\n",
    "        length_nums = len(nums)\n",
    "\n",
    "        total_cost_till_now = 0\n",
    "        start = 0\n",
    "        maximum_length_subarray = 0\n",
    "\n",
    "        for end in range(length_nums):\n",
    "            # Accumulate the total cost to make nums[start:end+1] all equal to nums[end]\n",
    "            total_cost_till_now += (nums[end] - nums[end - 1]) * (end - start) if end > 0 else 0\n",
    "\n",
    "            # If cost exceeds k, shrink the window\n",
    "            while total_cost_till_now > k:\n",
    "                total_cost_till_now -= nums[end] - nums[start]\n",
    "                start += 1\n",
    "\n",
    "            # Update max window size\n",
    "            maximum_length_subarray = max(maximum_length_subarray, end - start + 1)\n",
    "\n",
    "        return maximum_length_subarray"
   ]
  },
  {
   "cell_type": "code",
   "execution_count": null,
   "id": "ad51f754",
   "metadata": {
    "execution": {
     "iopub.execute_input": "2025-05-09T01:26:18.550108Z",
     "iopub.status.busy": "2025-05-09T01:26:18.549782Z",
     "iopub.status.idle": "2025-05-09T01:26:18.557344Z",
     "shell.execute_reply": "2025-05-09T01:26:18.556092Z"
    },
    "id": "ytgHczts_uWz",
    "papermill": {
     "duration": 0.014344,
     "end_time": "2025-05-09T01:26:18.559099",
     "exception": false,
     "start_time": "2025-05-09T01:26:18.544755",
     "status": "completed"
    },
    "tags": []
   },
   "outputs": [],
   "source": [
    "class Solution(object):\n",
    "    def maxFrequency(self, nums, k):\n",
    "        \"\"\"\n",
    "        :type nums: List[int]\n",
    "        :type k: int\n",
    "        :rtype: int\n",
    "        \"\"\"\n",
    "        lee=0\n",
    "        tctn=0\n",
    "        mla=1\n",
    "        nums.sort()\n",
    "        for ep in range(len(nums)):\n",
    "            tctn+= (nums[ep]-nums[ep-1])*(ep-lee) if ep>0 else 0\n",
    "            while tctn>k:\n",
    "                tctn-=(nums[ep]-nums[lee])\n",
    "                lee+=1\n",
    "            mla=max(mla,ep-lee+1)\n",
    "        return mla\n",
    "            \n",
    "\n",
    "        "
   ]
  },
  {
   "cell_type": "code",
   "execution_count": null,
   "id": "cfa11dec",
   "metadata": {
    "colab": {
     "base_uri": "https://localhost:8080/"
    },
    "execution": {
     "iopub.execute_input": "2025-05-09T01:26:18.569343Z",
     "iopub.status.busy": "2025-05-09T01:26:18.568975Z",
     "iopub.status.idle": "2025-05-09T01:26:18.649038Z",
     "shell.execute_reply": "2025-05-09T01:26:18.647645Z"
    },
    "id": "bul1G40x6jBG",
    "outputId": "a7dda1a1-4bee-456f-a9a0-d473876bae96",
    "papermill": {
     "duration": 0.086732,
     "end_time": "2025-05-09T01:26:18.650482",
     "exception": true,
     "start_time": "2025-05-09T01:26:18.563750",
     "status": "failed"
    },
    "tags": []
   },
   "outputs": [],
   "source": [
    "s=Solution()\n",
    "arr=[3,6,9]#[9926,9960,10000,9992,9917,9986,9934,9985,9977,9950,9922,9913,9971,9978,9984,9959,9934,9948,9918,9916,9967,9965,9985,9977,9988,9983,9900,9945,9913,9966,9968,9986,9939,9914,9980,9957,9921,9927,9917,9972,9974,9953,9984,9912,9975,9920,9966,9932,9921,9904,9928,9959,9993,9937,9934,9974,9937,9964,9922,9963,9991,9930,9944,9930,9982,9980,9967,9904,9955,9947,9924,9973,9997,9950,9905,9924,9990,9947,9953,9924,9977,9938,9951,9982,9932,9926,9928,9912,9917,9929,9924,9921,9987,9910,9927,9921,9929,9937,9919,9995,9949,9953]\n",
    "k=2\n",
    "s.maxFrequency(nums=arr,k=k)"
   ]
  },
  {
   "cell_type": "markdown",
   "id": "a1865b8f",
   "metadata": {},
   "source": [
    "# Learn sorting techniques"
   ]
  },
  {
   "cell_type": "markdown",
   "id": "e23459f2",
   "metadata": {},
   "source": [
    "## Sorting - 1"
   ]
  },
  {
   "cell_type": "markdown",
   "id": "5a4766f2",
   "metadata": {},
   "source": [
    "### Selection Sort"
   ]
  },
  {
   "cell_type": "code",
   "execution_count": null,
   "id": "3e353bc2",
   "metadata": {},
   "outputs": [
    {
     "ename": "",
     "evalue": "",
     "output_type": "error",
     "traceback": [
      "\u001b[1;31mRunning cells with 'base (Python 3.13.2)' requires the ipykernel package.\n",
      "\u001b[1;31m<a href='command:jupyter.createPythonEnvAndSelectController'>Create a Python Environment</a> with the required packages.\n",
      "\u001b[1;31mOr install 'ipykernel' using the command: 'conda install -n base ipykernel --update-deps --force-reinstall'"
     ]
    }
   ],
   "source": [
    "def selection_sort(arr):\n",
    "\n",
    "    behind_index=0\n",
    "    moving_index=1\n",
    "    l_arr=len(arr)\n",
    "    if l_arr==0: return\n",
    "    min_number=arr[0]\n",
    "    min_number_index=0\n",
    "    while behind_index<l_arr-1:\n",
    "        if arr[moving_index]<min_number:\n",
    "            min_number=arr[moving_index]\n",
    "            min_number_index=moving_index\n",
    "        if moving_index==l_arr-1:\n",
    "            arr[behind_index],arr[min_number_index]=arr[min_number_index],arr[behind_index]\n",
    "            behind_index+=1\n",
    "            moving_index=behind_index#+1\n",
    "            min_number=arr[behind_index]\n",
    "            min_number_index=behind_index\n",
    "        moving_index+=1\n",
    "    # print(arr)\n",
    "        # print(\"behind_index = \",behind_index)\n",
    "        # print(\"moving_index = \",moving_index)\n",
    "        # print(\"min_number = \",min_number)\n",
    "        # print(\"min_number_index = \",min_number_index)\n",
    "        # print(\"____________________________________\")\n",
    "              \n",
    "\n",
    "\n"
   ]
  },
  {
   "cell_type": "code",
   "execution_count": null,
   "id": "5afb1ce1",
   "metadata": {},
   "outputs": [],
   "source": [
    "import random\n",
    "arr = random.sample(range(-1000, 1000), 100)  # 100 unique random numbers\n",
    "expected = sorted(arr)\n",
    "selection_sort(arr)\n",
    "print(arr == expected)  # Expected: True"
   ]
  },
  {
   "cell_type": "markdown",
   "id": "fa82d87d",
   "metadata": {},
   "source": [
    "### Bubble sort"
   ]
  },
  {
   "cell_type": "code",
   "execution_count": null,
   "id": "d991cfff",
   "metadata": {},
   "outputs": [],
   "source": [
    "def bubble_sort(arr):\n",
    "  i,l=0,len(arr)-1\n",
    "  flag=0\n",
    "  while l>0 :\n",
    "    if i<l:\n",
    "      if arr[i]>arr[i+1]:\n",
    "        arr[i],arr[i+1]=arr[i+1],arr[i]\n",
    "        flag=1\n",
    "      i+=1   \n",
    "    else:\n",
    "      if flag==0:\n",
    "        print(\"array sorted early\")\n",
    "        return\n",
    "      flag=0\n",
    "      i=0\n",
    "      l-=1"
   ]
  },
  {
   "cell_type": "code",
   "execution_count": null,
   "id": "36dc95f5",
   "metadata": {},
   "outputs": [],
   "source": [
    "def bubble_sort(arr):\n",
    "    l=len(arr)-1\n",
    "    swapped=False\n",
    "    while l>0:\n",
    "        for i in range(l):\n",
    "            if arr[i]>arr[i+1]:\n",
    "                arr[i],arr[i+1]=arr[i+1],arr[i]\n",
    "                swapped = True\n",
    "        if not swapped:\n",
    "            return\n",
    "        swapped = False \n",
    "        l-=1\n",
    "\n"
   ]
  },
  {
   "cell_type": "code",
   "execution_count": null,
   "id": "f29f42c8",
   "metadata": {},
   "outputs": [],
   "source": [
    "arr = [76,43,1,45,77,54,33,28]\n",
    "bubble_sort(arr)\n",
    "print(arr)"
   ]
  },
  {
   "cell_type": "markdown",
   "id": "9fdcafba",
   "metadata": {},
   "source": [
    "### Insertion Sort"
   ]
  },
  {
   "cell_type": "code",
   "execution_count": null,
   "id": "c471c064",
   "metadata": {},
   "outputs": [],
   "source": [
    "def insertion_sort(arr):\n",
    "  i,t=1,0\n",
    "  l_i=len(arr)-1\n",
    "  while t<l_i:\n",
    "    if arr[i]<arr[i-1]:\n",
    "      arr[i],arr[i-1]=arr[i-1],arr[i]\n",
    "    else:\n",
    "      t+=1\n",
    "      i=t+1\n",
    "      continue\n",
    "    i-=1\n",
    "    if i==0:\n",
    "      t+=1\n",
    "      i=t+1\n",
    "\n"
   ]
  },
  {
   "cell_type": "code",
   "execution_count": null,
   "id": "cc7fe2b2",
   "metadata": {},
   "outputs": [],
   "source": [
    "def insertion_sort(arr):\n",
    "    l=len(arr)\n",
    "    t=0\n",
    "    while t<l-1:\n",
    "        i=t+1\n",
    "        while i!=0:\n",
    "            if arr[i]<arr[i-1]:\n",
    "                arr[i],arr[i-1]=arr[i-1],arr[i]\n",
    "            else: break\n",
    "            i-=1\n",
    "        t+=1"
   ]
  },
  {
   "cell_type": "markdown",
   "id": "ec680890",
   "metadata": {},
   "source": [
    "## Sorting 2"
   ]
  },
  {
   "cell_type": "markdown",
   "id": "7bba40cb",
   "metadata": {},
   "source": [
    "### Merge Sort"
   ]
  },
  {
   "cell_type": "code",
   "execution_count": null,
   "id": "844cd706",
   "metadata": {},
   "outputs": [
    {
     "ename": "",
     "evalue": "",
     "output_type": "error",
     "traceback": [
      "\u001b[1;31mRunning cells with 'base (Python 3.13.2)' requires the ipykernel package.\n",
      "\u001b[1;31m<a href='command:jupyter.createPythonEnvAndSelectController'>Create a Python Environment</a> with the required packages.\n",
      "\u001b[1;31mOr install 'ipykernel' using the command: 'conda install -n base ipykernel --update-deps --force-reinstall'"
     ]
    }
   ],
   "source": [
    "def merge_sort(arr,start_p=0,end_p=len(arr)-1):\n",
    "  def merge(arr,start,mid,end):\n",
    "    dup = arr[mid:end+1]\n",
    "    arr_ind = mid-1\n",
    "    dup_ind = len(dup)-1\n",
    "    arr_free_ind=end\n",
    "    while arr_ind>=start and dup_ind>=0:\n",
    "      if arr[arr_ind]>dup[dup_ind]:\n",
    "        arr[arr_free_ind] = arr[arr_ind]\n",
    "        arr_ind-=1\n",
    "      else:\n",
    "        arr[arr_free_ind] = dup[dup_ind]\n",
    "        dup_ind-=1\n",
    "      arr_free_ind-=1\n",
    "    if dup_ind>=0:\n",
    "      arr[start:start+dup_ind+1] = dup[:dup_ind+1]\n",
    "\n",
    "\n",
    "\n",
    "  l_a=end_p-start_p+1\n",
    "  if l_a==1:\n",
    "    return \n",
    "  size_of_sub_arrays=1\n",
    "  while size_of_sub_arrays<l_a:\n",
    "    for i in range(0,l_a,2*size_of_sub_arrays):\n",
    "      start=start_p+i\n",
    "      mid = min(start+size_of_sub_arrays,end_p+1)\n",
    "      end = min(start+2*size_of_sub_arrays,end_p+1)-1\n",
    "      merge(arr,start,mid,end)\n",
    "    size_of_sub_arrays*=2"
   ]
  },
  {
   "cell_type": "code",
   "execution_count": null,
   "id": "73a9eb21",
   "metadata": {},
   "outputs": [],
   "source": [
    "def merge(arr,start,mid,end):\n",
    "    dup = arr[mid:end+1]\n",
    "    arr_ind = mid-1\n",
    "    dup_ind = len(dup)-1\n",
    "    arr_free_ind=end\n",
    "    while arr_ind>=start and dup_ind>=0:\n",
    "      if arr[arr_ind]>dup[dup_ind]:\n",
    "        arr[arr_free_ind] = arr[arr_ind]\n",
    "        arr_ind-=1\n",
    "      else:\n",
    "        arr[arr_free_ind] = dup[dup_ind]\n",
    "        dup_ind-=1\n",
    "      arr_free_ind-=1\n",
    "    if dup_ind>=0:\n",
    "      arr[start:start+dup_ind+1] = dup[:dup_ind+1]\n",
    "\n",
    "def merge_sort(arr,start,end):\n",
    "    if start==end:\n",
    "       return\n",
    "    mid = (start+end)//2\n",
    "    merge_sort(arr,start,mid)\n",
    "    merge_sort(arr,mid+1,end)\n",
    "    merge(arr,start,mid+1,end)"
   ]
  },
  {
   "cell_type": "code",
   "execution_count": null,
   "id": "151613b8",
   "metadata": {},
   "outputs": [],
   "source": [
    "def merge_sort(arr,start_p,end_p):\n",
    "  assert isinstance(start_p, int)\n",
    "  assert isinstance(end_p, int)\n",
    "  def merge(arr,start,mid,end):\n",
    "    dup = arr[mid:end+1]\n",
    "    arr_ind = mid-1\n",
    "    dup_ind = len(dup)-1\n",
    "    arr_free_ind=end\n",
    "    while arr_ind>=start and dup_ind>=0:\n",
    "      if arr[arr_ind]>dup[dup_ind]:\n",
    "        arr[arr_free_ind] = arr[arr_ind]\n",
    "        arr_ind-=1\n",
    "      else:\n",
    "        arr[arr_free_ind] = dup[dup_ind]\n",
    "        dup_ind-=1\n",
    "      arr_free_ind-=1\n",
    "    if dup_ind>=0:\n",
    "      arr[start:start+dup_ind+1] = dup[:dup_ind+1]\n",
    "\n",
    "\n",
    "\n",
    "  l_a=end_p-start_p+1\n",
    "  if l_a==1:\n",
    "    return \n",
    "  subarray_size = 1\n",
    "  while subarray_size < l_a:\n",
    "        i = start_p\n",
    "        while i <= end_p:\n",
    "            start = i\n",
    "            mid = min(i + subarray_size, end_p + 1)\n",
    "            end = min(i + 2 * subarray_size - 1, end_p)\n",
    "\n",
    "            if mid <= end:  # Only merge if there's something on the right\n",
    "                merge(arr, start, mid, end)\n",
    "\n",
    "            i += 2 * subarray_size\n",
    "        subarray_size *= 2"
   ]
  },
  {
   "cell_type": "markdown",
   "id": "653c306b",
   "metadata": {},
   "source": [
    "### Recursive Bubble sort\n"
   ]
  },
  {
   "cell_type": "code",
   "execution_count": null,
   "id": "182dd6d5",
   "metadata": {},
   "outputs": [],
   "source": [
    "def recursive_bubble_sort(arr,l=len(arr)):\n",
    "  if l==0:\n",
    "    return\n",
    "  for i in range(l-1):\n",
    "    if arr[i]>arr[i+1]:\n",
    "      arr[i],arr[i+1]=arr[i+1],arr[i]\n",
    "  recursive_bubble_sort(arr,l-1)"
   ]
  },
  {
   "cell_type": "markdown",
   "id": "f1347f58",
   "metadata": {},
   "source": [
    "### Quick Sort"
   ]
  },
  {
   "cell_type": "code",
   "execution_count": null,
   "id": "03586009",
   "metadata": {},
   "outputs": [],
   "source": [
    "from random import randint\n",
    "def partition(arr,low,high,pivot_index):\n",
    "    arr[high],arr[pivot_index]=arr[pivot_index],arr[high]\n",
    "    pivot=arr[high]\n",
    "    trail=low\n",
    "    for mov in range(low,high):\n",
    "        if arr[mov]<=pivot:\n",
    "            arr[trail],arr[mov]=arr[mov],arr[trail]\n",
    "            trail+=1\n",
    "    arr[trail], arr[high] = arr[high], arr[trail]\n",
    "    return trail\n",
    "def quick_sort( nums):\n",
    "\n",
    "    \"\"\"\n",
    "    :type nums: List[int]\n",
    "    :rtype: List[int]\n",
    "    \"\"\"\n",
    "\n",
    "    stack=[(0,len(nums)-1)]\n",
    "    while stack:\n",
    "        low,high=stack.pop()\n",
    "        if low>=high:\n",
    "            continue\n",
    "        pv=randint(low,high)\n",
    "        pivot_index=partition(nums,low,high,pv)\n",
    "        if pivot_index-1>low:stack.append((low,pivot_index-1))\n",
    "        if pivot_index+1<high:stack.append((pivot_index+1,high))\n",
    "    return nums"
   ]
  },
  {
   "cell_type": "markdown",
   "id": "9e03fd02",
   "metadata": {},
   "source": [
    "# Arrays"
   ]
  },
  {
   "cell_type": "markdown",
   "id": "2cb0ddd8",
   "metadata": {},
   "source": [
    "## Easy"
   ]
  },
  {
   "cell_type": "markdown",
   "id": "283251be",
   "metadata": {},
   "source": [
    "### Check if Array Is Sorted and Rotated"
   ]
  },
  {
   "cell_type": "code",
   "execution_count": null,
   "id": "56ab0fd7",
   "metadata": {},
   "outputs": [
    {
     "ename": "",
     "evalue": "",
     "output_type": "error",
     "traceback": [
      "\u001b[1;31mRunning cells with 'base (Python 3.13.2)' requires the ipykernel package.\n",
      "\u001b[1;31m<a href='command:jupyter.createPythonEnvAndSelectController'>Create a Python Environment</a> with the required packages.\n",
      "\u001b[1;31mOr install 'ipykernel' using the command: 'conda install -n base ipykernel --update-deps --force-reinstall'"
     ]
    }
   ],
   "source": [
    "# Reasoning If an array is rotated and was sorted the no of indexes where arr[i]>arr[i+1] will only be 1 and if it was rotated the arr[0]>=arr[-1]\n",
    "# if the array was not sorted and we encounter more than 1 point where arr[i]>arr[i+1] return false and in the case where arr[i]>arr[i+1] =1 but nums[0]<nums[-1] we return False\n",
    "class Solution(object):\n",
    "    def check(self, nums):\n",
    "        \"\"\"\n",
    "        :type nums: List[int]\n",
    "        :rtype: bool\n",
    "        \"\"\"\n",
    "        if not nums:\n",
    "            return False\n",
    "        if len(nums)==1:\n",
    "            return True\n",
    "\n",
    "        nrp=0\n",
    "\n",
    "        for i in range(0,len(nums)-1):\n",
    "            if nums[i]> nums[i+1]:\n",
    "                nrp+=1\n",
    "                if nrp>1:\n",
    "                    return False\n",
    "        if nrp==0: return True\n",
    "        if nrp==1 and nums[0]>=nums[-1]: return True\n",
    "        return False"
   ]
  },
  {
   "cell_type": "markdown",
   "id": "c80508d7",
   "metadata": {},
   "source": [
    "### Remove Duplicates from Sorted Array"
   ]
  },
  {
   "cell_type": "code",
   "execution_count": null,
   "id": "2456b726",
   "metadata": {},
   "outputs": [],
   "source": [
    "# ## [1,1,1,1,2,2,2,3,3,4,4,5] 1,1\n",
    "# [1,-1,1,1,2,2,2,3,3,4,4,5] 2,1\n",
    "# [1,-1,-1,1,2,2,2,3,3,4,4,5] 3,1\n",
    "# [1,-1,-1,-1,2,2,2,3,3,4,4,5] 4,1\n",
    "# [1,2,-1,-1,-1,-2,2,3,3,4,4,5] 6,2\n",
    "# [1,2,-1,-1,-1,-2,-2,3,3,4,4,5] 7,2\n",
    "# [1,2,3,-1,-1,-2,-2,-1,-3,4,4,5] 9,3\n",
    "# [1,2,3,4,-1,-2,-2,-1,-3,-1,-4,5] 11,4\n",
    "# [1,2,3,4,-1,-2,-2,-1,-3,-1,-4,5] 11,4"
   ]
  },
  {
   "cell_type": "code",
   "execution_count": null,
   "id": "3db34a5e",
   "metadata": {},
   "outputs": [],
   "source": [
    "def removeDuplicates(nums):\n",
    "  l_a=len(nums)-1\n",
    "  if l_a==0:\n",
    "    return\n",
    "  if l_a==1:\n",
    "    if nums[0]==nums[1]:\n",
    "       nums[1]*=-1\n",
    "       return\n",
    "  i,j=1,1\n",
    "  l_a=len(nums)-1\n",
    "  while i<l_a:\n",
    "      if nums[i]==int(nums[i-1]):\n",
    "          \n",
    "          nums[i]=str(nums[i])\n",
    "          i+=1\n",
    "      elif nums[i]!=int(nums[i-1]):\n",
    "          if nums[i]==nums[i+1]:\n",
    "              nums[i+1]=str(nums[i+1])\n",
    "              nums[j],nums[i]=nums[i],nums[j]\n",
    "              j+=1\n",
    "              i+=2\n",
    "          else:\n",
    "              nums[j],nums[i]=nums[i],nums[j]\n",
    "              j+=1\n",
    "              i+=1\n",
    "          while type(nums[j])==int and j<i:\n",
    "            j+=1\n",
    "            if j>l_a:\n",
    "              return\n",
    "      #print(i,j)\n",
    "  if i<=l_a and j<=l_a:\n",
    "    nums[j],nums[i]=nums[i],nums[j]\n",
    "    for con in range(j+1,len(nums)):\n",
    "      nums[con]=int(nums[con])\n",
    "  # print(i,j)\n",
    "  # print(nums)"
   ]
  },
  {
   "cell_type": "code",
   "execution_count": null,
   "id": "96e28323",
   "metadata": {},
   "outputs": [],
   "source": [
    "def removeDuplicates(nums):\n",
    "  l_a=len(nums)-1\n",
    "  if l_a==0:\n",
    "    return\n",
    "  if l_a==1:\n",
    "    if nums[0]==nums[1]:\n",
    "       nums[1]*=-1\n",
    "       return\n",
    "  i,j=1,1\n",
    "  l_a=len(nums)-1\n",
    "  while i<l_a:\n",
    "      if nums[i]==int(nums[i-1]):\n",
    "          \n",
    "          nums[i]=str(nums[i])\n",
    "          i+=1\n",
    "      elif nums[i]!=int(nums[i-1]):\n",
    "          if nums[i]==nums[i+1]:\n",
    "              nums[i+1]=str(nums[i+1])\n",
    "              nums[j],nums[i]=nums[i],nums[j]\n",
    "              j+=1\n",
    "              i+=2\n",
    "          else:\n",
    "              nums[j],nums[i]=nums[i],nums[j]\n",
    "              j+=1\n",
    "              i+=1\n",
    "          while type(nums[j])==int and j<i:\n",
    "            j+=1\n",
    "            if j>l_a:\n",
    "              return\n",
    "      #print(i,j)\n",
    "  if i<=l_a and j<=l_a:\n",
    "    nums[j],nums[i]=nums[i],nums[j]\n",
    "    for con in range(j+1,len(nums)):\n",
    "      nums[con]=int(nums[con])\n",
    "  # print(i,j)\n",
    "  # print(nums)"
   ]
  },
  {
   "cell_type": "code",
   "execution_count": null,
   "id": "7da37b7a",
   "metadata": {},
   "outputs": [],
   "source": [
    "class Solution(object):\n",
    "    def removeDuplicates(self, nums):\n",
    "        # if not nums:\n",
    "        #     return 0\n",
    "        \n",
    "        n = len(nums)\n",
    "        # if n == 1:\n",
    "        #     return 1\n",
    "        j = 1\n",
    "        for i in range(1, n):\n",
    "            if nums[i] != nums[i - 1]:\n",
    "                nums[j] = nums[i]\n",
    "                j += 1\n",
    "\n",
    "        return j\n",
    "            \n",
    "\n",
    "        "
   ]
  },
  {
   "cell_type": "markdown",
   "id": "45acb73f",
   "metadata": {},
   "source": [
    "### Rotate Array by k\n",
    "https://leetcode.com/problems/rotate-array/description/"
   ]
  },
  {
   "cell_type": "code",
   "execution_count": null,
   "id": "76b4483f",
   "metadata": {},
   "outputs": [],
   "source": [
    "import math\n",
    "# O(n) + O(1) but only for positive numbers\n",
    "def rotate_by_k(arr,k):\n",
    "  index,r_element=0,arr[0]\n",
    "  la=len(arr)\n",
    "  k=k%la\n",
    "  for _ in range(la):\n",
    "    next_index=(k+index)%la\n",
    "    if arr[next_index]<0 or arr[next_index]==-math.inf: \n",
    "      index+=1\n",
    "      r_element=arr[index]\n",
    "      next_index=(k+index)%la\n",
    "\n",
    "    r_element,arr[next_index] = arr[next_index],r_element\n",
    "    if arr[next_index]==0:\n",
    "      arr[next_index]=-math.inf\n",
    "    else:\n",
    "      arr[next_index]*=-1\n",
    "\n",
    "    index=next_index\n",
    "  for i in range(la):\n",
    "    if arr[i]==-math.inf:\n",
    "      arr[i]=0\n",
    "    else:\n",
    "      arr[i]*=-1"
   ]
  },
  {
   "cell_type": "code",
   "execution_count": null,
   "id": "92f11692",
   "metadata": {},
   "outputs": [],
   "source": [
    "\n",
    "# O(n) + O(1)\n",
    "def rotate_by_k(arr,k):\n",
    "  index,r_element=0,arr[0]\n",
    "  la=len(arr)\n",
    "  k=k%la\n",
    "  for _ in range(la):\n",
    "    next_index=(k+index)%la\n",
    "    if type(arr[next_index])==float: \n",
    "      index+=1\n",
    "      r_element=arr[index]\n",
    "      next_index=(k+index)%la\n",
    "\n",
    "    r_element,arr[next_index] = arr[next_index],r_element\n",
    "    arr[next_index]=float(arr[next_index])\n",
    "\n",
    "    index=next_index\n",
    "  for i in range(la):\n",
    "    arr[i]=int(arr[i])\n"
   ]
  },
  {
   "cell_type": "code",
   "execution_count": null,
   "id": "ea295a16",
   "metadata": {},
   "outputs": [],
   "source": [
    "#most optimal solution\n",
    "def rotate_by_k(arr,k):\n",
    "    la=len(arr)\n",
    "    k=k%la\n",
    "    mov=0\n",
    "    for cycle in range(la):\n",
    "        if mov>=la:\n",
    "            break\n",
    "        index,re_element=cycle,arr[cycle]\n",
    "        while True:\n",
    "            next_index=(k+index)%la\n",
    "            re_element,arr[next_index]=arr[next_index],re_element\n",
    "            index=next_index\n",
    "            mov+=1\n",
    "            if index == cycle:\n",
    "                break"
   ]
  },
  {
   "cell_type": "markdown",
   "id": "7f723b4d",
   "metadata": {},
   "source": [
    "### Move Zeroes\n"
   ]
  },
  {
   "cell_type": "code",
   "execution_count": null,
   "id": "2d89b5a2",
   "metadata": {},
   "outputs": [],
   "source": [
    "class Solution(object):\n",
    "    def moveZeroes(self, nums):\n",
    "        \"\"\"\n",
    "        :type nums: List[int]\n",
    "        :rtype: None Do not return anything, modify nums in-place instead.\n",
    "        \"\"\"\n",
    "    \n",
    "        j=0\n",
    "        l_a=len(nums)\n",
    "        if l_a==1:\n",
    "            return\n",
    "        for i in range(0,l_a):\n",
    "            if nums[i]>0 or nums[i]<0:\n",
    "                nums[j]=nums[i]\n",
    "                if j<i:nums[i]=0\n",
    "                j+=1\n"
   ]
  },
  {
   "cell_type": "markdown",
   "id": "7b834357",
   "metadata": {},
   "source": [
    "### Missing Number\n",
    "https://leetcode.com/problems/missing-number/"
   ]
  },
  {
   "cell_type": "code",
   "execution_count": null,
   "id": "90cf063b",
   "metadata": {},
   "outputs": [],
   "source": [
    "class Solution(object):\n",
    "    def missingNumber(self, nums):\n",
    "        \"\"\"\n",
    "        :type nums: List[int]\n",
    "        :rtype: int\n",
    "        \"\"\"\n",
    "        n=len(nums)\n",
    "        mn=(n*(n+1))/2\n",
    "        mn = mn - sum(nums)\n",
    "        #for i in nums: mn-=i\n",
    "\n",
    "        return mn\n",
    "        "
   ]
  },
  {
   "cell_type": "markdown",
   "id": "e17ba464",
   "metadata": {},
   "source": [
    "### Max Consecutive Ones\n",
    "https://leetcode.com/problems/max-consecutive-ones/"
   ]
  },
  {
   "cell_type": "code",
   "execution_count": null,
   "id": "efc8e9ac",
   "metadata": {},
   "outputs": [],
   "source": [
    "class Solution(object):\n",
    "    def findMaxConsecutiveOnes(self, nums):\n",
    "        \"\"\"\n",
    "        :type nums: List[int]\n",
    "        :rtype: int\n",
    "        \"\"\"\n",
    "        l_a=len(nums)\n",
    "        m_o=0\n",
    "        m_t=0\n",
    "        for i in range(l_a):\n",
    "            if nums[i]==1:\n",
    "                m_o+=1\n",
    "            else:\n",
    "                if m_t<m_o:\n",
    "                    m_t=m_o\n",
    "                m_o=0\n",
    "        if m_t<m_o: m_t=m_o\n",
    "        return m_t"
   ]
  },
  {
   "cell_type": "markdown",
   "id": "aa726dc7",
   "metadata": {},
   "source": [
    "### Single Number\n",
    "https://leetcode.com/problems/single-number/"
   ]
  },
  {
   "cell_type": "code",
   "execution_count": null,
   "id": "1b0bf237",
   "metadata": {},
   "outputs": [],
   "source": [
    "class Solution(object):\n",
    "    def singleNumber(self, nums):\n",
    "        \"\"\"\n",
    "        :type nums: List[int]\n",
    "        :rtype: int\n",
    "        \"\"\"\n",
    "        n=0\n",
    "        for i in nums:\n",
    "            n^=i\n",
    "\n",
    "        return n"
   ]
  },
  {
   "cell_type": "markdown",
   "id": "b5d65bfc",
   "metadata": {},
   "source": [
    "## Medium"
   ]
  },
  {
   "cell_type": "markdown",
   "id": "8962a152",
   "metadata": {},
   "source": [
    "### Two Sum\n",
    "https://leetcode.com/problems/two-sum/"
   ]
  },
  {
   "cell_type": "code",
   "execution_count": null,
   "id": "bc30a990",
   "metadata": {},
   "outputs": [],
   "source": [
    "class Solution(object):\n",
    "    def twoSum(self, nums, target):\n",
    "        \"\"\"\n",
    "        :type nums: List[int]\n",
    "        :type target: int\n",
    "        :rtype: List[int]\n",
    "        \"\"\"\n",
    "        d={}\n",
    "        for i in range(len(nums)):\n",
    "            num =nums[i]\n",
    "            diff=target-num\n",
    "            if num in d:\n",
    "                return [d[num],i]\n",
    "            d[diff] = i"
   ]
  },
  {
   "cell_type": "markdown",
   "id": "2bee5bc7",
   "metadata": {},
   "source": [
    "### Sort Colors\n",
    "https://leetcode.com/problems/sort-colors/description/"
   ]
  },
  {
   "cell_type": "code",
   "execution_count": null,
   "id": "ad72841a",
   "metadata": {},
   "outputs": [],
   "source": [
    "class Solution(object):\n",
    "    def sortColors(self, nums):\n",
    "        \"\"\"\n",
    "        :type nums: List[int]\n",
    "        :rtype: None Do not return anything, modify nums in-place instead.\n",
    "        \"\"\"\n",
    "        # la=len(nums)\n",
    "        # lp=la-1\n",
    "        # sp=0\n",
    "        # mp=0\n",
    "        # while mp<=lp:\n",
    "        #     if nums[mp]==0:\n",
    "        #         nums[sp],nums[mp]=nums[mp],nums[sp]\n",
    "        #         mp+=1\n",
    "        #         sp+=1\n",
    "        #     elif nums[mp]==1:\n",
    "        #         mp+=1\n",
    "        #     else:\n",
    "        #         nums[lp],nums[mp]=nums[mp],nums[lp]\n",
    "        #         lp-=1\n",
    "        la=len(nums)\n",
    "        lp=la-1\n",
    "        sp=0\n",
    "        mp=la-1\n",
    "        while mp>=sp:\n",
    "            if nums[mp]==2:\n",
    "                nums[mp],nums[lp]=nums[lp],nums[mp]\n",
    "                mp-=1\n",
    "                lp-=1\n",
    "            elif nums[mp]==1:\n",
    "                mp-=1\n",
    "            else:\n",
    "                nums[mp],nums[sp]=nums[sp],nums[mp]\n",
    "                sp+=1\n",
    "            "
   ]
  },
  {
   "cell_type": "markdown",
   "id": "a459d2ea",
   "metadata": {},
   "source": [
    "### Majority Element\n",
    "https://leetcode.com/problems/majority-element/description/"
   ]
  },
  {
   "cell_type": "code",
   "execution_count": null,
   "id": "d1ff2989",
   "metadata": {},
   "outputs": [],
   "source": [
    "class Solution(object):\n",
    "    def majorityElement(self, nums):\n",
    "        \"\"\"\n",
    "        :type nums: List[int]\n",
    "        :rtype: int\n",
    "        \"\"\"\n",
    "        mv=0\n",
    "        can=-1\n",
    "        for i in nums:\n",
    "            if mv==0: can = i\n",
    "            if can == i:\n",
    "                mv+=1\n",
    "            else:\n",
    "                mv-=1\n",
    "\n",
    "        return can\n",
    "        "
   ]
  },
  {
   "cell_type": "markdown",
   "id": "fd925b07",
   "metadata": {},
   "source": [
    "### Maximum Subarray Kadane algorithm\n",
    "https://leetcode.com/problems/maximum-subarray/description/?source=submission-ac"
   ]
  },
  {
   "cell_type": "code",
   "execution_count": null,
   "id": "ba354584",
   "metadata": {},
   "outputs": [],
   "source": [
    "class Solution(object):\n",
    "    def maxSubArray(self, nums):\n",
    "        \"\"\"\n",
    "        :type nums: List[int]\n",
    "        :rtype: int\n",
    "        \"\"\"\n",
    "\n",
    "        l_a=len(nums)\n",
    "        sum=nums[0]\n",
    "        max_sum=sum\n",
    "        for i in range(1,l_a):\n",
    "            if sum<0:\n",
    "                sum=0\n",
    "            sum = nums[i]+sum\n",
    "            if sum>max_sum: max_sum=sum\n",
    "        return max_sum\n",
    "\n",
    "        "
   ]
  },
  {
   "cell_type": "markdown",
   "id": "6dd25148",
   "metadata": {},
   "source": [
    "### Best Time to Buy and Sell Stock\n",
    "https://leetcode.com/problems/best-time-to-buy-and-sell-stock/description/"
   ]
  },
  {
   "cell_type": "code",
   "execution_count": null,
   "id": "aff12b77",
   "metadata": {},
   "outputs": [],
   "source": [
    "class Solution(object):\n",
    "    def maxProfit(self, prices):\n",
    "        \"\"\"\n",
    "        :type prices: List[int]\n",
    "        :rtype: int\n",
    "        \"\"\"\n",
    "        # profit=0\n",
    "        # buy=prices[0]\n",
    "        # for price in range(1,len(prices)):\n",
    "        #     if prices[price]<buy:\n",
    "        #         buy=prices[price]\n",
    "        #     elif prices[price]-buy>profit:\n",
    "        #         profit=prices[price]-buy\n",
    "        profit=0\n",
    "        buy=prices[0]\n",
    "        l_a=len(prices)\n",
    "        for i in range(1,l_a):\n",
    "            c=prices[i]\n",
    "            p = c-buy\n",
    "            if p>profit:profit=p\n",
    "            if buy>c: buy=c\n",
    "\n",
    "        return profit"
   ]
  },
  {
   "cell_type": "markdown",
   "id": "de56aa4f",
   "metadata": {},
   "source": [
    "### Rearrange Array Elements by Sign\n"
   ]
  },
  {
   "cell_type": "code",
   "execution_count": null,
   "id": "bf3d58ec",
   "metadata": {},
   "outputs": [],
   "source": [
    "class Solution(object):\n",
    "    def rearrangeArray(self, nums):\n",
    "        \"\"\"\n",
    "        :type nums: List[int]\n",
    "        :rtype: List[int]\n",
    "        \"\"\"\n",
    "        pos = [i for i in nums if i>0]\n",
    "        neg = [i for i in nums if i<0]\n",
    "        l_a=len(nums)\n",
    "        for i in range(l_a//2):\n",
    "            nums[2*i]=pos[i]\n",
    "            nums[2*i+1]=neg[i]\n",
    "        return nums"
   ]
  },
  {
   "cell_type": "markdown",
   "id": "4be7fd7b",
   "metadata": {},
   "source": [
    "### Next Permutation\n",
    "https://leetcode.com/problems/next-permutation/description/"
   ]
  },
  {
   "cell_type": "code",
   "execution_count": null,
   "id": "3f586b4a",
   "metadata": {},
   "outputs": [],
   "source": [
    "class Solution(object):\n",
    "    def nextPermutation(self, nums):\n",
    "        \"\"\"\n",
    "        :type nums: List[int]\n",
    "        :rtype: None Do not return anything, modify nums in-place instead.\n",
    "        \"\"\"\n",
    "        l_a=len(nums)\n",
    "        i=l_a-2\n",
    "        while nums[i]>=nums[i+1] and i>=0 :i-=1\n",
    "        if i<0: \n",
    "            nums.reverse()\n",
    "            return        \n",
    "        num=nums[i]\n",
    "        j=l_a-1\n",
    "        while nums[j]<=num:j-=1\n",
    "        nums[i],nums[j]=nums[j],nums[i]\n",
    "        l,r=i+1,l_a-1\n",
    "        while r>l:\n",
    "            nums[l],nums[r]=nums[r],nums[l]\n",
    "            r-=1\n",
    "            l+=1"
   ]
  },
  {
   "cell_type": "markdown",
   "id": "96b2d906",
   "metadata": {},
   "source": [
    "### Longest Consecutive Sequence\n",
    "https://leetcode.com/problems/longest-consecutive-sequence/submissions/1741795673/"
   ]
  },
  {
   "cell_type": "code",
   "execution_count": null,
   "id": "a351d39f",
   "metadata": {},
   "outputs": [],
   "source": [
    "class Solution(object):\n",
    "    def longestConsecutive(self, nums):\n",
    "        \"\"\"\n",
    "        :type nums: List[int]\n",
    "        :rtype: int\n",
    "        \"\"\"\n",
    "        if not nums: return 0\n",
    "        seen =set(nums)\n",
    "        ssn=[i for i in seen if i-1 not in seen ]\n",
    "        msl=1\n",
    "        for i in ssn:\n",
    "            k=i\n",
    "            while k+1 in seen: k+=1\n",
    "            if k-i+1>msl: msl=k-i+1\n",
    "        return msl \n",
    "                "
   ]
  },
  {
   "cell_type": "markdown",
   "id": "6b21617a",
   "metadata": {},
   "source": [
    "### Set Matrix Zeroes\n",
    "https://leetcode.com/problems/set-matrix-zeroes/description/"
   ]
  },
  {
   "cell_type": "code",
   "execution_count": null,
   "id": "45237535",
   "metadata": {},
   "outputs": [],
   "source": [
    "class Solution(object):\n",
    "    def setZeroes(self, matrix):\n",
    "        \"\"\"\n",
    "        :type matrix: List[List[int]]\n",
    "        :rtype: None Do not return anything, modify matrix in-place instead.\n",
    "        \"\"\"\n",
    "        m = len(matrix)\n",
    "        n = len(matrix[0])\n",
    "        nums=matrix\n",
    "        if nums[0][0]!=0:\n",
    "            for i in range(1,m):\n",
    "                if nums[i][0]==0: \n",
    "                    nums[0][0]='r'\n",
    "                    break\n",
    "            for j in range(1,n):\n",
    "                if nums[0][j]==0:\n",
    "                    if nums[0][0]=='r':\n",
    "                        nums[0][0]='rc'\n",
    "                        break\n",
    "                    else:\n",
    "                        nums[0][0]='c'\n",
    "                        break\n",
    "        else:\n",
    "            nums[0][0]='rc'\n",
    "        for i in range(1,m):\n",
    "            for j in range(1,n):\n",
    "                if nums[i][j]==0:\n",
    "                    nums[i][0]=0\n",
    "                    nums[0][j]=0\n",
    "        \n",
    "        for i in range(1,m):\n",
    "            for j in range(1,n):\n",
    "                if nums[i][0]==0 or nums[0][j]==0:\n",
    "                    nums[i][j]=0 \n",
    "        ch=nums[0][0]\n",
    "        if ch=='r':\n",
    "            for i in range(m):\n",
    "                nums[i][0]=0\n",
    "        elif ch=='c':\n",
    "            for j in range(n):\n",
    "                nums[0][j]=0\n",
    "        elif ch=='rc':\n",
    "            for i in range(m):\n",
    "                nums[i][0]=0\n",
    "            for j in range(n):\n",
    "                nums[0][j]=0"
   ]
  },
  {
   "cell_type": "markdown",
   "id": "797eda0d",
   "metadata": {},
   "source": [
    "### Rotate Image\n",
    "https://leetcode.com/problems/rotate-image/description/"
   ]
  },
  {
   "cell_type": "code",
   "execution_count": null,
   "id": "15db4eb2",
   "metadata": {},
   "outputs": [],
   "source": [
    "class Solution(object):\n",
    "    def rotate(self, matrix):\n",
    "        m=len(matrix)\n",
    "        n=len(matrix[0])\n",
    "        for i in range(m//2):\n",
    "            matrix[i],matrix[m-1-i]=matrix[m-1-i],matrix[i]\n",
    "        print(matrix)\n",
    "        for i in range(m):\n",
    "            for j in range(i+1,n):\n",
    "                matrix[i][j],matrix[j][i]=matrix[j][i],matrix[i][j]\n",
    "\n",
    "\n",
    "        # ll=len(matrix)\n",
    "        # h=0\n",
    "        # lup=0\n",
    "        # for i in range(ll-1,-1,-1):\n",
    "        #     k=[matrix[j][h] for j in range(ll+lup-1,-1+lup,-1)]\n",
    "        #     matrix.insert(h,k)\n",
    "        #     h+=1;lup+=1\n",
    "        # matrix[ll:]=[]"
   ]
  },
  {
   "cell_type": "markdown",
   "id": "7a902b10",
   "metadata": {},
   "source": [
    "### Spiral Matrix\n",
    "https://leetcode.com/problems/spiral-matrix/description/"
   ]
  },
  {
   "cell_type": "code",
   "execution_count": null,
   "id": "17de1f37",
   "metadata": {},
   "outputs": [],
   "source": [
    "class Solution(object):\n",
    "    def spiralOrder(self, matrix):\n",
    "        \"\"\"\n",
    "        :type matrix: List[List[int]]\n",
    "        :rtype: List[int]\n",
    "        \"\"\"\n",
    "        m=len(matrix)\n",
    "        n=len(matrix[0])\n",
    "        i,j=0,0\n",
    "        k=0\n",
    "        a,b,c,d=True,False,False,False\n",
    "        m_max,n_max=m-1,n-1\n",
    "        m_min,n_min=0,0\n",
    "        out=[0]*(m*n)\n",
    "        while k<=m*n-1:\n",
    "            out[k]=matrix[i][j]\n",
    "            k+=1\n",
    "            if a: \n",
    "                if j==n_max: \n",
    "                    a=False\n",
    "                    b=True\n",
    "                    m_min+=1\n",
    "                    i+=1\n",
    "                else:\n",
    "                    j+=1\n",
    "            elif b:\n",
    "                if i==m_max:\n",
    "                    b=False\n",
    "                    c=True\n",
    "                    n_max-=1\n",
    "                    j-=1\n",
    "                else: i+=1\n",
    "\n",
    "            elif c:\n",
    "                if j==n_min:\n",
    "                    c=False\n",
    "                    d=True\n",
    "                    m_max-=1\n",
    "                    i-=1\n",
    "                else: j-=1\n",
    "            elif d:\n",
    "                if i==m_min:\n",
    "                    d=False\n",
    "                    a=True\n",
    "                    n_min+=1\n",
    "                    j+=1\n",
    "                else: i-=1\n",
    "        return out"
   ]
  },
  {
   "cell_type": "markdown",
   "id": "e0bce602",
   "metadata": {},
   "source": [
    "### Subarray Sum Equals K \n",
    "https://leetcode.com/problems/subarray-sum-equals-k/description/"
   ]
  },
  {
   "cell_type": "code",
   "execution_count": null,
   "id": "ba7503a5",
   "metadata": {},
   "outputs": [],
   "source": [
    "class Solution(object):\n",
    "    def subarraySum(self, nums, k):\n",
    "        \"\"\"\n",
    "        :type nums: List[int]\n",
    "        :type k: int\n",
    "        :rtype: int\n",
    "        \"\"\"\n",
    "        if not nums: return 0\n",
    "        accum_sum_track=dict()\n",
    "        tnsa=0\n",
    "        current_sum=0\n",
    "        accum_sum_track[0]=1\n",
    "        for num in nums:\n",
    "            current_sum+=num\n",
    "            if current_sum-k in accum_sum_track:\n",
    "                tnsa+= accum_sum_track[current_sum-k]\n",
    "            \n",
    "            accum_sum_track[current_sum]=accum_sum_track.get(current_sum,0)+1\n",
    "\n",
    "        return tnsa"
   ]
  },
  {
   "cell_type": "markdown",
   "id": "09ae514b",
   "metadata": {},
   "source": [
    "## Hard"
   ]
  },
  {
   "cell_type": "markdown",
   "id": "03c6ec05",
   "metadata": {},
   "source": [
    "### Pascal's Triangle\n",
    "https://leetcode.com/problems/pascals-triangle/description/"
   ]
  },
  {
   "cell_type": "code",
   "execution_count": null,
   "id": "325f70ad",
   "metadata": {},
   "outputs": [],
   "source": [
    "class Solution(object):\n",
    "    __slots__ = ()\n",
    "    def generate_row(self,row):\n",
    "        \"\"\"\n",
    "        r-1 n-1\n",
    "        ncr = n-1cr-1 +n-1cr\n",
    "        (r-1)!/(r-c)!*(c-1)! * r-c/c -> (r-1)!/(r-c-1)!(c)!\n",
    "        \"\"\"\n",
    "        first=1\n",
    "        l=[1]\n",
    "        for c in range(1,row):\n",
    "            first = first*(row-c)\n",
    "            first = first//c\n",
    "            l.append(first)\n",
    "        return l\n",
    "\n",
    "\n",
    "    def generate(self, numRows):\n",
    "        \"\"\"\n",
    "        :type numRows: int\n",
    "        :rtype: List[List[int]]\n",
    "        \"\"\"\n",
    "        o=[]\n",
    "        for i in range(1,numRows+1):\n",
    "            o.append(self.generate_row(i))\n",
    "        return o"
   ]
  },
  {
   "cell_type": "markdown",
   "id": "d87218f6",
   "metadata": {},
   "source": [
    "### Majority Element II\n",
    "https://leetcode.com/problems/majority-element-ii/description/"
   ]
  },
  {
   "cell_type": "code",
   "execution_count": null,
   "id": "ead698d5",
   "metadata": {},
   "outputs": [],
   "source": [
    "class Solution(object):\n",
    "    def majorityElement(self, nums):\n",
    "        \"\"\"\n",
    "        :type nums: List[int]\n",
    "        :rtype: List[int]\n",
    "        \"\"\"\n",
    "        if not nums:\n",
    "            return nums\n",
    "        \n",
    "        ele1,ele2=None,None\n",
    "        c1,c2=0,0\n",
    "        l_a = len(nums)\n",
    "        for num in nums:\n",
    "            if ele1==num:\n",
    "                c1+=1\n",
    "            elif ele2==num:\n",
    "                c2+=1\n",
    "            elif c1==0:\n",
    "                ele1=num\n",
    "                c1=1\n",
    "            elif c2==0:\n",
    "                ele2=num\n",
    "                c2=1\n",
    "            else:\n",
    "                c1-=1\n",
    "                c2-=1\n",
    "        res=[]\n",
    "        cv1,cv2=0,0\n",
    "        for i in nums: \n",
    "            if i==ele1: cv1+=1 \n",
    "            elif i==ele2:cv2+=1\n",
    "        if ele1 is not None and cv1>l_a//3:res.append(ele1)\n",
    "        if ele2 is not None and cv2>l_a//3:res.append(ele2)\n",
    "        return res\n",
    "\n",
    "class Solution(object):\n",
    "    def majorityElement(self, nums):\n",
    "        \"\"\"\n",
    "        :type nums: List[int]\n",
    "        :rtype: List[int]\n",
    "        \"\"\"\n",
    "        output = []\n",
    "        nums.sort()\n",
    "        x = len(nums)/3\n",
    "        for i in range(0, len(nums)-x):\n",
    "            if nums[i] == nums[i+x]:\n",
    "                if nums[i] not in output:\n",
    "                    output.append(nums[i])\n",
    "            else:\n",
    "                pass\n",
    "            if len(output)==2:\n",
    "                break\n",
    "        return output"
   ]
  },
  {
   "cell_type": "markdown",
   "id": "1ea3f27b",
   "metadata": {},
   "source": [
    "### 3 Sum\n",
    "https://leetcode.com/problems/3sum/description/"
   ]
  },
  {
   "cell_type": "code",
   "execution_count": null,
   "id": "43a20dfe",
   "metadata": {},
   "outputs": [],
   "source": [
    "class Solution(object):\n",
    "    def threeSum(self, nums):\n",
    "        \"\"\"\n",
    "        :type nums: List[int]\n",
    "        :rtype: List[List[int]]\n",
    "        \"\"\"\n",
    "        # Hash Based Solution\n",
    "        # l_a=len(nums)\n",
    "        # triplet=set()\n",
    "        # for i in range(l_a):\n",
    "        #     seen=set()\n",
    "        #     target = -nums[i]\n",
    "        #     for j in range(i+1,l_a):\n",
    "        #         if target-nums[j] in seen:\n",
    "        #             triplet.add(tuple(sorted((nums[j],-target,-nums[j]+target))))\n",
    "        #         seen.add(nums[j])\n",
    "        # return [list(i)for i in triplet]\n",
    "        # 2 Pointer and sort\n",
    "        nums.sort()\n",
    "        triplets=[]\n",
    "        if nums[0]>0:\n",
    "            return []\n",
    "        l_a =len(nums)\n",
    "        for i in range(l_a):\n",
    "            if i>0 and nums[i]==nums[i-1]:\n",
    "                continue\n",
    "            sp=i+1\n",
    "            ep=l_a-1\n",
    "            target=nums[i]\n",
    "            if target>0:\n",
    "                break\n",
    "            \n",
    "            while ep>sp:\n",
    "                n1,n2=nums[sp],nums[ep]\n",
    "                if n1+n2+target==0:\n",
    "                    triplets.append([n1,n2,target])\n",
    "                    sp+=1\n",
    "                    ep-=1\n",
    "                    while ep>sp and nums[sp]==nums[sp-1]:sp+=1\n",
    "                    while ep>sp and nums[ep]==nums[ep+1]:ep-=1\n",
    "                elif n1+n2+target<0:\n",
    "                    sp+=1\n",
    "                elif n1+n2+target>0:\n",
    "                    ep-=1\n",
    "            \n",
    "        return triplets\n",
    "        "
   ]
  },
  {
   "cell_type": "markdown",
   "id": "27065bdf",
   "metadata": {},
   "source": [
    "### 4 Sum\n",
    "https://leetcode.com/problems/4sum/\n"
   ]
  },
  {
   "cell_type": "code",
   "execution_count": null,
   "id": "484a274c",
   "metadata": {},
   "outputs": [],
   "source": [
    "class Solution(object):\n",
    "    def fourSum(self, nums, target):\n",
    "        \"\"\"\n",
    "        :type nums: List[int]\n",
    "        :type target: int\n",
    "        :rtype: List[List[int]]\n",
    "        \"\"\"\n",
    "        nums.sort()\n",
    "        quadruples=[]\n",
    "        avg = target//4\n",
    "        if nums[0]>avg or nums[-1]<avg:\n",
    "            return []\n",
    "        l_a = len(nums)\n",
    "        for i in range(l_a):\n",
    "            if i>0 and nums[i]==nums[i-1]:\n",
    "                continue\n",
    "            for j in range(i+1,l_a):\n",
    "                if j>i+1 and nums[j]==nums[j-1]:\n",
    "                    continue\n",
    "                sp=j+1\n",
    "                ep=l_a-1\n",
    "                to_add = nums[i]+nums[j]\n",
    "                while ep>sp:\n",
    "                    n1,n2=nums[sp],nums[ep]\n",
    "                    if n1+n2+to_add == target:\n",
    "                        quadruples.append([n1,n2,nums[i],nums[j]])\n",
    "                        sp+=1\n",
    "                        ep-=1\n",
    "                        while ep>sp and nums[ep]==nums[ep+1]: ep-=1\n",
    "                        while ep>sp and nums[sp]==nums[sp-1]: sp+=1\n",
    "                    elif n1+n2+to_add<target:\n",
    "                        sp+=1\n",
    "                    else:\n",
    "                        ep-=1\n",
    "\n",
    "\n",
    "        return quadruples\n",
    "\n",
    "class Solution(object):\n",
    "    def fourSum(self, nums, target):\n",
    "      ans = []\n",
    "\n",
    "      def nSum(l, r, target, n, path, ans):\n",
    "        if r - l + 1 < n or n < 2 or target < nums[l] * n or target > nums[r] * n:\n",
    "          return\n",
    "        if n == 2:\n",
    "          while l < r:\n",
    "            summ = nums[l] + nums[r]\n",
    "            if summ == target:\n",
    "              ans.append(path + [nums[l], nums[r]])\n",
    "              l += 1\n",
    "              r -= 1\n",
    "              while nums[l] == nums[l - 1] and l < r:\n",
    "                l += 1\n",
    "              while nums[r]==nums[r+1] and r>l:\n",
    "                r-=1\n",
    "            elif summ < target:\n",
    "              l += 1\n",
    "            else:\n",
    "              r -= 1\n",
    "          return\n",
    "\n",
    "        for i in range(l, r + 1):\n",
    "          if i > l and nums[i] == nums[i - 1]:\n",
    "            continue\n",
    "\n",
    "          nSum(i + 1, r, target - nums[i], n - 1, path + [nums[i]], ans)\n",
    "\n",
    "      nums.sort()\n",
    "      nSum(0, len(nums) - 1, target, 4, [], ans)\n",
    "      return ans\n",
    "\n"
   ]
  },
  {
   "cell_type": "markdown",
   "id": "1ef3f4de",
   "metadata": {},
   "source": [
    "### Largest Subarray with Sum 0\n",
    "https://takeuforward.org/plus/dsa/problems/largest-subarray-with-sum-0"
   ]
  },
  {
   "cell_type": "code",
   "execution_count": null,
   "id": "5eda0e86",
   "metadata": {},
   "outputs": [],
   "source": [
    "class Solution:\n",
    "    def maxLen(self, arr):\n",
    "        if not arr:\n",
    "            return 0\n",
    "        mls=0\n",
    "        curr_sum=0\n",
    "        accumating_sum_track={0:-1}\n",
    "        for i,num in enumerate(arr):\n",
    "            curr_sum+=num\n",
    "            if curr_sum-0 in accumating_sum_track:\n",
    "                first_index=accumating_sum_track[curr_sum-0]\n",
    "                if i-first_index>mls:\n",
    "                    mls = i-first_index\n",
    "            else:\n",
    "                accumating_sum_track[curr_sum-0]=i\n",
    "        return mls"
   ]
  },
  {
   "cell_type": "markdown",
   "id": "2e14adc1",
   "metadata": {},
   "source": [
    "### Count subarrays with given xor K\n",
    "https://takeuforward.org/plus/dsa/problems/count-subarrays-with-given-xor-k"
   ]
  },
  {
   "cell_type": "code",
   "execution_count": null,
   "id": "91b5caf1",
   "metadata": {},
   "outputs": [],
   "source": [
    "class Solution:\n",
    "    def subarraysWithXorK(self, nums, k):\n",
    "        tnsa=0\n",
    "        sum_xor=0\n",
    "        accum_xor = {0:1}\n",
    "        for num in nums:\n",
    "            sum_xor = sum_xor^num\n",
    "            if sum_xor^k in accum_xor:\n",
    "                tnsa += accum_xor[sum_xor^k]\n",
    "            accum_xor[sum_xor] = accum_xor.get(sum_xor,0)+1\n",
    "        return tnsa"
   ]
  },
  {
   "cell_type": "markdown",
   "id": "6396b9ac",
   "metadata": {},
   "source": [
    "### Merge Intervals\n",
    "https://leetcode.com/problems/merge-intervals/description/"
   ]
  },
  {
   "cell_type": "code",
   "execution_count": null,
   "id": "888220b1",
   "metadata": {},
   "outputs": [],
   "source": [
    "class Solution(object):\n",
    "    def merge(self, intervals):\n",
    "        \"\"\"\n",
    "        :type intervals: List[List[int]]\n",
    "        :rtype: List[List[int]]\n",
    "        \"\"\"\n",
    "        intervals.sort(key=lambda x:x[0])\n",
    "        i=1\n",
    "        while i<len(intervals):\n",
    "            prev_last =intervals[i-1][1]\n",
    "            if prev_last>=intervals[i][0]:\n",
    "                intervals[i-1][1]=max(prev_last,intervals[i][1])\n",
    "                intervals.pop(i)\n",
    "            else:\n",
    "                i+=1\n",
    "        return intervals"
   ]
  },
  {
   "cell_type": "markdown",
   "id": "ed44dfa8",
   "metadata": {},
   "source": [
    "### Merge Sorted Array\n",
    "https://leetcode.com/problems/merge-sorted-array/"
   ]
  },
  {
   "cell_type": "code",
   "execution_count": null,
   "id": "6e03320d",
   "metadata": {},
   "outputs": [],
   "source": [
    "class Solution(object):\n",
    "    def merge(self, nums1, m, nums2, n):\n",
    "        \"\"\"\n",
    "        :type nums1: List[int]\n",
    "        :type m: int\n",
    "        :type nums2: List[int]\n",
    "        :type n: int\n",
    "        :rtype: None Do not return anything, modify nums1 in-place instead.\n",
    "        \"\"\"\n",
    "        n1=m-1\n",
    "        n2=n-1\n",
    "        f = m+n-1\n",
    "        while n1>=0 and n2>=0:\n",
    "            if nums1[n1]>nums2[n2]:\n",
    "                nums1[f]=nums1[n1]\n",
    "                n1-=1\n",
    "            elif nums2[n2]>=nums1[n1]:\n",
    "                nums1[f]=nums2[n2]\n",
    "                n2-=1\n",
    "            f-=1\n",
    "        while n2>=0:\n",
    "            nums1[f]=nums2[n2]\n",
    "            n2-=1\n",
    "            f-=1\n"
   ]
  },
  {
   "cell_type": "markdown",
   "id": "4bd018c2",
   "metadata": {},
   "source": [
    "### Count Inversions\n",
    "https://takeuforward.org/plus/dsa/problems/count-inversions"
   ]
  },
  {
   "cell_type": "code",
   "execution_count": null,
   "id": "95728fbf",
   "metadata": {},
   "outputs": [],
   "source": [
    "class Solution:\n",
    "    def numberOfInversions(self, nums):\n",
    "        def merge(arr,start,mid,end):\n",
    "            temp = arr[mid:end+1]\n",
    "            arr_free = end \n",
    "            arr_in = mid-1\n",
    "            l_tp=len(temp)\n",
    "            temp_in =  l_tp-1\n",
    "            inv_count=0\n",
    "            while arr_in>=start and temp_in>=0:\n",
    "                if arr[arr_in]>temp[temp_in]:\n",
    "                    inv_count=inv_count+temp_in+1\n",
    "                    arr[arr_free]=arr[arr_in]\n",
    "                    arr_in-=1\n",
    "                else:\n",
    "                    arr[arr_free]=temp[temp_in]\n",
    "                    temp_in-=1\n",
    "                arr_free-=1\n",
    "            while temp_in>=0:\n",
    "                arr[arr_free]=temp[temp_in]\n",
    "                temp_in-=1\n",
    "                arr_free-=1\n",
    "            return inv_count\n",
    "            \n",
    "        def merge_sort(arr,start,end):\n",
    "            if start>=end:\n",
    "                return 0\n",
    "            mid = (start +end)//2\n",
    "            left_inv = merge_sort(arr,start,mid)\n",
    "            right_inv=merge_sort(arr,mid+1,end)\n",
    "            inv=merge(arr,start,mid+1,end)\n",
    "            return left_inv+right_inv+inv\n",
    "        return merge_sort(arr=nums,start=0,end=len(nums)-1)"
   ]
  },
  {
   "cell_type": "markdown",
   "id": "4a472adf",
   "metadata": {},
   "source": [
    "### Find missing and repeat Number \n",
    "https://takeuforward.org/plus/dsa/problems/find-the-repeating-and-missing-number"
   ]
  },
  {
   "cell_type": "code",
   "execution_count": null,
   "id": "c2d40df3",
   "metadata": {},
   "outputs": [],
   "source": [
    "class Solution:\n",
    "    def findMissingRepeatingNumbers(self, nums):\n",
    "        mn,rn=0,0\n",
    "        n=len(nums)\n",
    "        l_a = n\n",
    "        es = n*(n+1)/2\n",
    "        \"\"\"as = n*n+1/2 -mn + rn\"\"\"\n",
    "        k=0\n",
    "        for i,j in enumerate(nums):\n",
    "            k=k+ (i+1)**2-j**2\n",
    "            es=es-j\n",
    "        \"k=mn^2 - rn^2\"\n",
    "        \"es = mn-rn\"\n",
    "        mn = (k/es +es)/2\n",
    "        rn = mn-es\n",
    "        return [int(rn),int(mn)]        "
   ]
  },
  {
   "cell_type": "markdown",
   "id": "96835be8",
   "metadata": {},
   "source": [
    "### Reverse Pairs\n",
    "https://leetcode.com/problems/reverse-pairs/"
   ]
  },
  {
   "cell_type": "code",
   "execution_count": null,
   "id": "1d473f39",
   "metadata": {},
   "outputs": [],
   "source": [
    "class Solution:\n",
    "    def reversePairs(self, nums):\n",
    "        def merge(arr,start,mid,end):\n",
    "            temp = arr[mid:end+1]\n",
    "            arr_free = end \n",
    "            arr_in = mid-1\n",
    "            l_tp=len(temp)\n",
    "            temp_in =  l_tp-1\n",
    "            reverse_p=0\n",
    "            while arr_in>=start and temp_in>=0:\n",
    "                ain = arr[arr_in]\n",
    "                tin = temp[temp_in]\n",
    "                if ain>2*tin:\n",
    "                    reverse_p=reverse_p+temp_in+1\n",
    "                    arr_in-=1\n",
    "                else:\n",
    "                    temp_in-=1\n",
    "            arr_in = mid -1\n",
    "            temp_in = l_tp-1\n",
    "\n",
    "            while arr_in>=start and temp_in>=0:\n",
    "                ain = arr[arr_in]\n",
    "                tin = temp[temp_in]\n",
    "                if ain>tin:\n",
    "                    arr[arr_free]=arr[arr_in]\n",
    "                    arr_in-=1\n",
    "                else:\n",
    "                    arr[arr_free]=temp[temp_in]\n",
    "                    temp_in-=1\n",
    "                arr_free-=1\n",
    "            while temp_in>=0:\n",
    "                arr[arr_free]=temp[temp_in]\n",
    "                temp_in-=1\n",
    "                arr_free-=1\n",
    "            return reverse_p\n",
    "            \n",
    "        def merge_sort(arr,start,end):\n",
    "            if start>=end:\n",
    "                return 0\n",
    "            mid = (start +end)//2\n",
    "            left_pair = merge_sort(arr,start,mid)\n",
    "            right_pair =merge_sort(arr,mid+1,end)\n",
    "            pair=merge(arr,start,mid+1,end)\n",
    "            return left_pair+right_pair+pair\n",
    "        return merge_sort(arr=nums,start=0,end=len(nums)-1)\n",
    "        "
   ]
  },
  {
   "cell_type": "markdown",
   "id": "611a4651",
   "metadata": {},
   "source": [
    "### Maximum Product Subarray\n",
    "https://leetcode.com/problems/maximum-product-subarray/description/"
   ]
  },
  {
   "cell_type": "code",
   "execution_count": null,
   "id": "99f51983",
   "metadata": {},
   "outputs": [],
   "source": [
    "\n",
    "class Solution:\n",
    "    def maxProduct(self, nums):\n",
    "        mps=maxx=minn=nums[0]\n",
    "        for i in nums[1:]:\n",
    "            if i<0:\n",
    "                maxx,minn=minn,maxx\n",
    "            maxx=max(i,maxx*i)\n",
    "            minn=min(i,i*minn)\n",
    "            mps=max(mps,maxx)\n",
    "        return mps\n",
    "class Solution:\n",
    "    def maxProduct(self, nums):\n",
    "        numsRev = nums[::-1]\n",
    "        max_prod = 0\n",
    "        for i in range(1, len(nums)):\n",
    "            nums[i] *=nums[i-1] or 1\n",
    "            numsRev[i] *= numsRev[i-1] or 1\n",
    "        return max(nums + numsRev)"
   ]
  },
  {
   "cell_type": "markdown",
   "id": "6ba400af",
   "metadata": {},
   "source": [
    "# Binary Search"
   ]
  },
  {
   "cell_type": "markdown",
   "id": "f9774dd2",
   "metadata": {},
   "source": [
    "## BS on 1d array"
   ]
  },
  {
   "cell_type": "markdown",
   "id": "aff813c4",
   "metadata": {},
   "source": [
    "### Binary Search to find X in sorted array\n",
    "https://leetcode.com/problems/binary-search/"
   ]
  },
  {
   "cell_type": "code",
   "execution_count": null,
   "id": "188d862f",
   "metadata": {},
   "outputs": [],
   "source": [
    "class Solution:\n",
    "    def search(self, nums, target):\n",
    "        low = 0\n",
    "        length = len(nums)\n",
    "        high = length -1\n",
    "        mid = -1\n",
    "        \n",
    "        while low<=high:\n",
    "            mid = (low + high)//2\n",
    "            if nums[mid]>target:\n",
    "                high = mid-1\n",
    "            elif nums[mid]<target:\n",
    "                low = mid+1\n",
    "            else:\n",
    "                return mid \n",
    "            \n",
    "        return -1 "
   ]
  },
  {
   "cell_type": "markdown",
   "id": "c740d888",
   "metadata": {},
   "source": [
    "### Lower Bound"
   ]
  },
  {
   "cell_type": "code",
   "execution_count": null,
   "id": "b4871c05",
   "metadata": {},
   "outputs": [],
   "source": [
    "class Solution:\n",
    "    def lowerBound(self, nums, x):\n",
    "        low = 0\n",
    "        high = len(nums)\n",
    "        ans = len(nums)  \n",
    "\n",
    "        while low < high:\n",
    "            mid = (low + high) // 2\n",
    "            if nums[mid] >= x:\n",
    "                ans = mid\n",
    "                high = mid\n",
    "            else:\n",
    "                low = mid + 1\n",
    "\n",
    "        return ans if ans != len(nums) else -1\n"
   ]
  },
  {
   "cell_type": "markdown",
   "id": "f9b97c2c",
   "metadata": {},
   "source": [
    "### Upper Bound"
   ]
  },
  {
   "cell_type": "code",
   "execution_count": null,
   "id": "0070f7e1",
   "metadata": {},
   "outputs": [],
   "source": [
    "class Solution:\n",
    "    def upperBound(self, nums, x):\n",
    "        low = 0\n",
    "        high = len(nums)\n",
    "        ans = len(nums)  \n",
    "\n",
    "        while low < high:\n",
    "            mid = (low + high) // 2\n",
    "            if nums[mid] > x:\n",
    "                ans = mid\n",
    "                high = mid\n",
    "            else:\n",
    "                low = mid + 1\n",
    "        return ans if ans != len(nums) else -1\n"
   ]
  },
  {
   "cell_type": "markdown",
   "id": "a1736dca",
   "metadata": {},
   "source": [
    "### Search Insert Position\n",
    "https://leetcode.com/problems/search-insert-position/\n"
   ]
  },
  {
   "cell_type": "code",
   "execution_count": null,
   "id": "3550a8fc",
   "metadata": {},
   "outputs": [],
   "source": [
    "class Solution:\n",
    "    def searchInsert(self, nums, target):\n",
    "        l=0\n",
    "        length = len(nums)\n",
    "        r = length-1\n",
    "        ub=length\n",
    "        while l<=r:\n",
    "            mid = (l+r)//2\n",
    "            if nums[mid]>target:\n",
    "                ub=mid\n",
    "                r=mid-1\n",
    "            elif nums[mid]<target:\n",
    "                l=mid+1\n",
    "            else:\n",
    "                return mid\n",
    "        return ub "
   ]
  },
  {
   "cell_type": "markdown",
   "id": "ce14b31d",
   "metadata": {},
   "source": [
    "### Get Floor and Ceil"
   ]
  },
  {
   "cell_type": "code",
   "execution_count": null,
   "id": "9df6e5e7",
   "metadata": {},
   "outputs": [],
   "source": [
    "class Solution:\n",
    "    def getFloorAndCeil(self, nums, x):\n",
    "        l = 0\n",
    "        length = len(nums)\n",
    "        h=length -1 \n",
    "        floor = nums[l]\n",
    "        ceil = nums[h]\n",
    "        while l<=h:\n",
    "            m=(l+h)//2\n",
    "            cn=nums[m]\n",
    "            if cn>x:\n",
    "                ceil = cn\n",
    "                h = m -1\n",
    "            elif cn<x:\n",
    "                floor = cn\n",
    "                l=m+1\n",
    "            else:\n",
    "                return cn,cn\n",
    "        \n",
    "        return floor,ceil\n",
    "\n",
    "       \n"
   ]
  },
  {
   "cell_type": "markdown",
   "id": "3bae6176",
   "metadata": {},
   "source": [
    "### Find First and Last Position of Element in Sorted Array\n",
    "https://leetcode.com/problems/find-first-and-last-position-of-element-in-sorted-array/"
   ]
  },
  {
   "cell_type": "code",
   "execution_count": null,
   "id": "99feb111",
   "metadata": {},
   "outputs": [],
   "source": [
    "class Solution(object):\n",
    "    def searchRange(self, nums, target):\n",
    "        \"\"\"\n",
    "        :type nums: List[int]\n",
    "        :type target: int\n",
    "        :rtype: List[int]\n",
    "        \"\"\"\n",
    "        if not nums:\n",
    "            return [-1,-1]\n",
    "        l = 0\n",
    "        l_a = len(nums)\n",
    "        h = l_a-1\n",
    "        sp = 0\n",
    "        ep = l_a - 1\n",
    "        while l<=h:\n",
    "            m = (l + h)//2\n",
    "            cn = nums[m]\n",
    "            if cn>=target:\n",
    "                sp = m\n",
    "                h = m - 1\n",
    "            else:\n",
    "                l = m + 1\n",
    "        if nums[sp]!=target: return [-1,-1]\n",
    "        l = sp\n",
    "        h = l_a -1\n",
    "        while l<=h:\n",
    "            m = (l + h)//2 \n",
    "            cn = nums[m]\n",
    "            if cn<=target:\n",
    "                ep = m\n",
    "                l = m + 1\n",
    "            else:\n",
    "                h = m - 1\n",
    "\n",
    "        return [sp,ep]"
   ]
  },
  {
   "cell_type": "markdown",
   "id": "3c5ecb37",
   "metadata": {},
   "source": [
    "### Count Occurances in a sorted array"
   ]
  },
  {
   "cell_type": "code",
   "execution_count": null,
   "id": "f84d88a6",
   "metadata": {},
   "outputs": [],
   "source": [
    "class Solution:\n",
    "    def countOccurrences(self, arr, target):\n",
    "        # Your code goes here\n",
    "        nums = arr\n",
    "        if not nums:\n",
    "            return 0\n",
    "        l = 0\n",
    "        l_a = len(nums)\n",
    "        h = l_a-1\n",
    "        sp = 0\n",
    "        ep = l_a - 1\n",
    "        while l<=h:\n",
    "            m = (l + h)//2\n",
    "            cn = nums[m]\n",
    "            if cn>=target:\n",
    "                sp = m\n",
    "                h = m - 1\n",
    "            else:\n",
    "                l = m + 1\n",
    "        if nums[sp]!=target: return 0\n",
    "        l = sp\n",
    "        h = l_a -1\n",
    "        while l<=h:\n",
    "            m = (l + h)//2 \n",
    "            cn = nums[m]\n",
    "            if cn<=target:\n",
    "                ep = m\n",
    "                l = m + 1\n",
    "            else:\n",
    "                h = m - 1\n",
    "\n",
    "        return ep-sp + 1"
   ]
  },
  {
   "cell_type": "markdown",
   "id": "10fb8dcd",
   "metadata": {},
   "source": [
    "### Search in Rotated Sorted Array\n",
    "https://leetcode.com/problems/search-in-rotated-sorted-array/description/"
   ]
  },
  {
   "cell_type": "code",
   "execution_count": null,
   "id": "b9007444",
   "metadata": {},
   "outputs": [],
   "source": [
    "class Solution(object):\n",
    "    def search(self, nums, target):\n",
    "        # Modified Binary Search\n",
    "        low = 0\n",
    "        length = len(nums)\n",
    "        high = length - 1\n",
    "\n",
    "        while low <= high:\n",
    "            mid = (low + high)//2\n",
    "            if nums[mid]==target: return mid\n",
    "            elif nums[mid]>=nums[high]:\n",
    "                if nums[low] <= target <= nums[mid]:\n",
    "                    high = mid - 1\n",
    "                else:\n",
    "                    low = mid + 1\n",
    "            else:\n",
    "                if nums[mid]<=target<=nums[high]:\n",
    "                    low = mid + 1\n",
    "                else:\n",
    "                    high = mid - 1\n",
    "        return -1\n"
   ]
  },
  {
   "cell_type": "markdown",
   "id": "7e5bd1f6",
   "metadata": {},
   "source": [
    "### Search in Rotated Sorted Array II (Fuck this problem) dumb shit\n",
    "https://leetcode.com/problems/search-in-rotated-sorted-array-ii/"
   ]
  },
  {
   "cell_type": "code",
   "execution_count": null,
   "id": "7e1fb6fe",
   "metadata": {},
   "outputs": [],
   "source": [
    "class Solution(object):\n",
    "    def search(self, nums, target):\n",
    "        \"\"\"\n",
    "        :type nums: List[int]\n",
    "        :type target: int\n",
    "        :rtype: bool\n",
    "        \"\"\"\n",
    "        low = 0\n",
    "        length = len(nums)\n",
    "        high = length - 1\n",
    "\n",
    "        while low <= high:\n",
    "            mid = (low + high)//2\n",
    "            if nums[mid]==target: return True\n",
    "            if nums[low] == nums[mid] and nums[mid] == nums[high]:\n",
    "                low+=1\n",
    "                high-=1\n",
    "            elif nums[mid]>nums[high]:\n",
    "                if nums[low] <= target <= nums[mid]:\n",
    "                    high = mid - 1\n",
    "                else:\n",
    "                    low = mid + 1\n",
    "            else:\n",
    "                if nums[mid]<=target<=nums[high]:\n",
    "                    low = mid + 1\n",
    "                else:\n",
    "                    high = mid - 1\n",
    "        return False\n",
    "        "
   ]
  },
  {
   "cell_type": "markdown",
   "id": "81d74049",
   "metadata": {},
   "source": [
    "### Find Minimum in Rotated Sorted Array\n",
    "https://leetcode.com/problems/find-minimum-in-rotated-sorted-array/"
   ]
  },
  {
   "cell_type": "code",
   "execution_count": null,
   "id": "ccfdfdf6",
   "metadata": {},
   "outputs": [],
   "source": [
    "class Solution(object):\n",
    "    def findMin(self, nums):\n",
    "        \"\"\"\n",
    "        :type nums: List[int]\n",
    "        :rtype: int\n",
    "        \"\"\"\n",
    "        low = 0\n",
    "        length = len(nums)\n",
    "        high = length - 1\n",
    "\n",
    "        while low <= high:\n",
    "            mid = (low + high)//2\n",
    "\n",
    "            if nums[mid]>nums[high]:\n",
    "                low = mid + 1\n",
    "            else:\n",
    "                if mid >0 and nums[mid-1]<nums[mid]:\n",
    "                    high = mid - 1\n",
    "                else:\n",
    "                    return nums[mid]\n",
    "        return -1\n",
    "# this is more optimal and more elegant \n",
    "class Solution(object):\n",
    "    def findMin(self, nums):\n",
    "        \"\"\"\n",
    "        Finds the minimum element in a rotated sorted array using binary search.\n",
    "        \n",
    "        :type nums: List[int]\n",
    "        :rtype: int\n",
    "        \"\"\"\n",
    "        # Initialize pointers for the start and end of the array\n",
    "        low, high = 0, len(nums) - 1\n",
    "        \n",
    "        # The loop continues until the search space is narrowed to one element.\n",
    "        # We use low < high because when low == high, we've found our element.\n",
    "        while low < high:\n",
    "            # Calculate the middle index\n",
    "            mid = low + (high - low) // 2\n",
    "            \n",
    "            # --- The Core Logic ---\n",
    "            # If nums[mid] is greater than nums[high], the pivot (minimum)\n",
    "            # must be in the right half of the current search space.\n",
    "            if nums[mid] > nums[high]:\n",
    "                low = mid + 1\n",
    "            # Otherwise, the pivot is in the left half (including mid),\n",
    "            # so we shrink the search space from the right.\n",
    "            else:\n",
    "                high = mid\n",
    "                \n",
    "        # When the loop terminates, 'low' will be pointing to the minimum element.\n",
    "        return nums[low]"
   ]
  },
  {
   "cell_type": "markdown",
   "id": "6ac3770d",
   "metadata": {},
   "source": [
    "### Find out how many times the array is rotated"
   ]
  },
  {
   "cell_type": "code",
   "execution_count": null,
   "id": "9c93ea49",
   "metadata": {},
   "outputs": [],
   "source": [
    "class Solution:\n",
    "    def findKRotation(self, nums):\n",
    "        low, high = 0, len(nums) - 1\n",
    "        \n",
    "        while low < high:\n",
    "\n",
    "            mid = low + (high - low) // 2\n",
    "            \n",
    "            if nums[mid] > nums[high]:\n",
    "                low = mid + 1\n",
    "\n",
    "            else:\n",
    "                high = mid\n",
    "        return high"
   ]
  },
  {
   "cell_type": "markdown",
   "id": "d2f35c5a",
   "metadata": {},
   "source": [
    "### Single Element in a Sorted Array\n",
    "https://leetcode.com/problems/single-element-in-a-sorted-array/"
   ]
  },
  {
   "cell_type": "code",
   "execution_count": null,
   "id": "16e9a6fc",
   "metadata": {},
   "outputs": [],
   "source": [
    "# Mine solution works is robust but not elegant\n",
    "class Solution(object):\n",
    "    def singleNonDuplicate(self, nums):\n",
    "        \"\"\"\n",
    "        :type nums: List[int]\n",
    "        :rtype: int\n",
    "        \"\"\"\n",
    "        \n",
    "        l_a = len(nums)\n",
    "        if l_a==1 or nums[0]!=nums[1]:\n",
    "            return nums[0]\n",
    "        # if nums[0]!=nums[1]:\n",
    "        #     return nums[0]\n",
    "        if nums[-1]!=nums[-2]:\n",
    "            return nums[-1]\n",
    "        low,high = 0, l_a-1\n",
    "        mid = low + (high - low)//2\n",
    "        while low<=high and mid>0 and mid<l_a-1:\n",
    "            mid = low + (high - low)//2\n",
    "            prev = nums[mid-1]\n",
    "            next = nums[mid+1]\n",
    "            cur = nums[mid]\n",
    "            if prev<cur<next:\n",
    "                return cur\n",
    "            if cur == next:\n",
    "                if (mid - low)%2!=0:\n",
    "                    high=mid-1\n",
    "                else:\n",
    "                    low =mid+2\n",
    "            elif cur == prev:\n",
    "                if (mid-low-1)%2!=0:\n",
    "                    high = mid-1\n",
    "                else:\n",
    "                    low = mid + 1\n",
    "        return -1\n",
    "        "
   ]
  },
  {
   "cell_type": "code",
   "execution_count": null,
   "id": "75e5a6c4",
   "metadata": {},
   "outputs": [],
   "source": [
    "# Robust and Elegant\n",
    "class Solution(object):\n",
    "    def singleNonDuplicate(self, nums):\n",
    "        low, high = 0, len(nums) - 1\n",
    "        \n",
    "        while low < high:\n",
    "            mid = low + (high - low) // 2\n",
    "            \n",
    "            # We want to ensure our check is always on the first element of a pair.\n",
    "            # All \"normal\" pairs start at an even index (0, 2, 4...).\n",
    "            # If mid is odd, we move it back one to an even index.\n",
    "            if mid % 2 == 1:\n",
    "                mid -= 1\n",
    "            \n",
    "            # Now mid is guaranteed to be an even index.\n",
    "            # We check if the pair starting at mid is intact.\n",
    "            if nums[mid] == nums[mid + 1]:\n",
    "                # Pair is normal. The single element must be to the right.\n",
    "                # We can safely skip this entire pair.\n",
    "                low = mid + 2\n",
    "            else:\n",
    "                # Pair is broken. The single element is here or to the left.\n",
    "                high = mid\n",
    "                \n",
    "        return nums[low]"
   ]
  },
  {
   "cell_type": "code",
   "execution_count": null,
   "id": "424bf2d6",
   "metadata": {},
   "outputs": [],
   "source": [
    "# Interviewer will reject because nobody can implement this under pressure\n",
    "class Solution(object):\n",
    "    def singleNonDuplicate(self, nums):\n",
    "        \"\"\"\n",
    "        Finds the single non-duplicate element in a sorted array using a robust binary search.\n",
    "        \n",
    "        :type nums: List[int]\n",
    "        :rtype: int\n",
    "        \"\"\"\n",
    "        low, high = 0, len(nums) - 1\n",
    "        \n",
    "        # We use 'low < high' to narrow the search space down to a single element.\n",
    "        while low < high:\n",
    "            mid = low + (high - low) // 2\n",
    "            \n",
    "            # The core of the robust logic:\n",
    "            # We check if nums[mid] is part of a pair. The index of its partner\n",
    "            # can be found with `mid ^ 1`. This works because:\n",
    "            # - If 'mid' is even (e.g., 4), 'mid ^ 1' is 5.\n",
    "            # - If 'mid' is odd (e.g., 5), 'mid ^ 1' is 4.\n",
    "            if nums[mid] == nums[mid ^ 1]:\n",
    "                # If they match, it means mid is part of a correct pair.\n",
    "                # This implies the single element must be in the right half.\n",
    "                # We can safely discard the left half, including mid's pair.\n",
    "                low = mid + 1\n",
    "            else:\n",
    "                # If they don't match, the pair is \"broken\". The single element\n",
    "                # is either at 'mid' or somewhere to its left.\n",
    "                high = mid\n",
    "                \n",
    "        # The loop terminates when low and high converge on the single element's index.\n",
    "        return nums[low]"
   ]
  },
  {
   "cell_type": "markdown",
   "id": "258e6e5c",
   "metadata": {},
   "source": [
    "### Find Peak Element\n",
    "https://leetcode.com/problems/find-peak-element/description/"
   ]
  },
  {
   "cell_type": "code",
   "execution_count": null,
   "id": "5e495d66",
   "metadata": {},
   "outputs": [],
   "source": [
    "# if prev>curr we can safely discard right half because if nothin,g prev is a vialble candidate but if number at prev-1 is greater, then prev-1 becomes a viable candidate and so on and so forth similarly if nexxt>curr nexxt is a viable candidate and chain reasoning\n",
    "class Solution(object):\n",
    "    def findPeakElement(self, nums):\n",
    "        \"\"\"\n",
    "        :type nums: List[int]\n",
    "        :rtype: int\n",
    "        \"\"\"\n",
    "        l_a = len(nums)\n",
    "        if l_a==1:\n",
    "            return 0\n",
    "        if nums[0]>nums[1]:\n",
    "            return 0\n",
    "        if nums[-1]>nums[-2]:\n",
    "            return l_a-1\n",
    "        low = 1 \n",
    "        high = l_a - 2\n",
    "        while low<=high:\n",
    "            mid = low + (high - low)//2\n",
    "            prev = nums[mid-1]\n",
    "            curr = nums[mid]\n",
    "            nexxt = nums[mid+1]\n",
    "            if prev<curr>nexxt:\n",
    "                return mid\n",
    "            if curr<prev: #and nexxt < prev:#if curr<prev and nexxt<=prev:\n",
    "                high=mid-1\n",
    "            else:#elif curr<nexxt and prev<=nexxt:\n",
    "                low=mid+1\n",
    "            "
   ]
  },
  {
   "cell_type": "markdown",
   "id": "a8de2f04",
   "metadata": {},
   "source": [
    "## BS on Answers"
   ]
  },
  {
   "cell_type": "markdown",
   "id": "e74be80f",
   "metadata": {},
   "source": [
    "### Find Sqrt of number only use basic operators"
   ]
  },
  {
   "cell_type": "code",
   "execution_count": null,
   "id": "076f85ba",
   "metadata": {},
   "outputs": [],
   "source": [
    "class Solution:\n",
    "    def floorSqrt(self, n: int) -> int:\n",
    "        low = 1 \n",
    "        high = n\n",
    "        mid = 1\n",
    "        while low<=high:\n",
    "            mid = low + (high-low)//2\n",
    "            mid_sq = mid*mid\n",
    "            if mid_sq > n:\n",
    "                high = mid - 1\n",
    "            else:\n",
    "                low = mid + 1\n",
    "        return high"
   ]
  },
  {
   "cell_type": "markdown",
   "id": "299bdd3f",
   "metadata": {},
   "source": [
    "### Find Nth Root"
   ]
  },
  {
   "cell_type": "code",
   "execution_count": null,
   "id": "3149d49e",
   "metadata": {},
   "outputs": [],
   "source": [
    "class Solution:\n",
    "    def NthRoot(self, n, m):\n",
    "        low = 1 \n",
    "        high = m\n",
    "        mid = 1\n",
    "        while low<=high:\n",
    "            mid = low + (high-low)//2\n",
    "            mid_p = mid**n\n",
    "            if mid_p > m:\n",
    "                high = mid - 1\n",
    "            elif mid_p<m:\n",
    "                low = mid + 1\n",
    "            else:\n",
    "                return mid\n",
    "\n",
    "        return -1 "
   ]
  },
  {
   "cell_type": "markdown",
   "id": "1f31ec06",
   "metadata": {},
   "source": [
    "### Koko Eating\n",
    "https://leetcode.com/problems/koko-eating-bananas/description/"
   ]
  },
  {
   "cell_type": "code",
   "execution_count": null,
   "id": "80c2f6cb",
   "metadata": {},
   "outputs": [],
   "source": [
    "class Solution(object):\n",
    "    @staticmethod\n",
    "    def check(piles,k,h):\n",
    "        h_c=0\n",
    "        for i in piles:\n",
    "            h_c = h_c + (i+k-1)//k\n",
    "            if h_c>h:\n",
    "                return False\n",
    "\n",
    "        return True\n",
    "\n",
    "    def minEatingSpeed(self, piles, h):\n",
    "        \"\"\"\n",
    "        :type piles: List[int]\n",
    "        :type h: int\n",
    "        :rtype: int\n",
    "        \"\"\"\n",
    "        max_k =max(piles)\n",
    "        low = 1\n",
    "        high = max_k\n",
    "        while low<=high:\n",
    "            mid = low + (high-low)//2\n",
    "            if not Solution.check(piles,mid,h):\n",
    "                low = mid +1\n",
    "            else:\n",
    "                high = mid -1\n",
    "        return low"
   ]
  },
  {
   "cell_type": "markdown",
   "id": "7a44b1af",
   "metadata": {},
   "source": [
    "### Minimum Number of Days to Make m Bouquets\n",
    "https://leetcode.com/problems/minimum-number-of-days-to-make-m-bouquets/description/"
   ]
  },
  {
   "cell_type": "code",
   "execution_count": null,
   "id": "9d50f94f",
   "metadata": {},
   "outputs": [],
   "source": [
    "class Solution:\n",
    "    def can_make(self,arr,m,k,g):\n",
    "        b_r=0\n",
    "        ct=0\n",
    "        for bd in arr:\n",
    "            if bd<=g:\n",
    "                ct+=1\n",
    "            else:\n",
    "                b_r = b_r + ct//k\n",
    "                ct=0\n",
    "                if b_r == m:\n",
    "                    return True\n",
    "            # if ct==k:\n",
    "            #     b_r-=1\n",
    "            #     ct=0\n",
    "            # if b_r==0:\n",
    "            #     return True\n",
    "        return b_r + ct //k >= m\n",
    "    def minDays(self, bloomDay, m, k):\n",
    "        n=len(bloomDay)\n",
    "        if m*k>n:\n",
    "            return -1\n",
    "\n",
    "        low = min(bloomDay)\n",
    "        high = max(bloomDay)\n",
    "        while low<=high:\n",
    "            #print(low,high)\n",
    "            mid = low + (high-low)//2\n",
    "            if self.can_make(bloomDay,m,k,mid):\n",
    "                high = mid - 1\n",
    "            else:\n",
    "                low = mid + 1\n",
    "        return low"
   ]
  },
  {
   "cell_type": "markdown",
   "id": "b713ce58",
   "metadata": {},
   "source": [
    "### Find the Smallest Divisor Given a Threshold\n",
    "https://leetcode.com/problems/find-the-smallest-divisor-given-a-threshold/description/"
   ]
  },
  {
   "cell_type": "code",
   "execution_count": null,
   "id": "70f00843",
   "metadata": {},
   "outputs": [],
   "source": [
    "class Solution:\n",
    "    def sum_is(self,nums,divisor):\n",
    "        s=0\n",
    "        for num in nums: s = s + (num + divisor -1)//divisor\n",
    "        return s\n",
    "\n",
    "    def smallestDivisor(self, nums: List[int], threshold: int) -> int:\n",
    "        low = 1\n",
    "        high = max(nums)\n",
    "        while low<=high:\n",
    "            mid = low + (high-low)//2\n",
    "            if self.sum_is(nums,mid)>threshold:\n",
    "                low = mid + 1\n",
    "            else:\n",
    "                high = mid - 1\n",
    "        return low\n",
    "\n",
    "        "
   ]
  },
  {
   "cell_type": "markdown",
   "id": "6ffcf495",
   "metadata": {},
   "source": [
    "###  Capacity To Ship Packages Within D Days\n",
    "https://leetcode.com/problems/capacity-to-ship-packages-within-d-days/"
   ]
  },
  {
   "cell_type": "code",
   "execution_count": null,
   "id": "a8d6e9f0",
   "metadata": {},
   "outputs": [],
   "source": [
    "class Solution:\n",
    "    def can_deliver(self,weights,days,weight_capacity):\n",
    "        days_passed=0\n",
    "        current_weights = 0\n",
    "        for weight in weights:\n",
    "            if current_weights+weight<=weight_capacity:\n",
    "                current_weights+=weight\n",
    "            else:\n",
    "                days_passed+=1\n",
    "                current_weights = weight\n",
    "                if days_passed == days:\n",
    "                    return False\n",
    "                \n",
    "        return True\n",
    "\n",
    "\n",
    "    def shipWithinDays(self, weights, days):\n",
    "        total_weights = sum(weights)\n",
    "        maxw = max(weights)\n",
    "        low = max(int((total_weights+days-1)/days),maxw)\n",
    "        high = min(low + maxw, int(((len(weights)+days-1)//days)*maxw))\n",
    "\n",
    "        while low<=high:\n",
    "            # print(low,high)\n",
    "            mid = low + (high-low)//2\n",
    "            if self.can_deliver(weights,days,mid):\n",
    "                high = mid-1\n",
    "            else:\n",
    "                low = mid+1\n",
    "\n",
    "        return low\n",
    "\n",
    "        "
   ]
  },
  {
   "cell_type": "markdown",
   "id": "b085cc38",
   "metadata": {},
   "source": [
    "### Kth Missing Positive Number\n",
    "https://leetcode.com/problems/kth-missing-positive-number/description/"
   ]
  },
  {
   "cell_type": "code",
   "execution_count": null,
   "id": "ad69f647",
   "metadata": {},
   "outputs": [],
   "source": [
    "class Solution:\n",
    "    def findKthPositive(self, arr, k):\n",
    "        l_a = len(arr)\n",
    "        low = 0\n",
    "        high = l_a -1\n",
    "        missing = arr[high] - high -1\n",
    "        if missing<=0:\n",
    "            return k + high + 1\n",
    "        missing = arr[low] - low -1\n",
    "        if missing >=k:\n",
    "            return k\n",
    "        while low<=high:\n",
    "            mid = low + (high-low)//2\n",
    "            if arr[mid] - mid - 1 <k:\n",
    "                low = mid + 1\n",
    "            else:\n",
    "                high = mid - 1\n",
    "        # print(low,high,missing)\n",
    "        #print(arr[missing] + k - (arr[missing]-missing-1))\n",
    "        # if high == 0:\n",
    "        #     return k\n",
    "            #return arr[missing] - (k - (arr[missing]-missing-1))\n",
    "        # if low == l_a-1:\n",
    "\n",
    "        return k+low "
   ]
  },
  {
   "cell_type": "markdown",
   "id": "a7f17a72",
   "metadata": {},
   "source": [
    "### Split Array Largest Sum\n",
    "https://leetcode.com/problems/split-array-largest-sum/submissions/1751068281/"
   ]
  },
  {
   "cell_type": "code",
   "execution_count": null,
   "id": "fb2c0e61",
   "metadata": {},
   "outputs": [],
   "source": [
    "import math\n",
    "from typing import List\n",
    "# fully optimal\n",
    "class Solution:\n",
    "    def count_subarrays(self, nums, allowed_sum):\n",
    "        \"\"\"\n",
    "        Greedily counts how many subarrays are needed if no subarray\n",
    "        can exceed the allowed_sum.\n",
    "        \"\"\"\n",
    "        subarrays_needed = 1\n",
    "        current_sum = 0\n",
    "        for num in nums:\n",
    "            if current_sum + num <= allowed_sum:\n",
    "                current_sum += num\n",
    "            else:\n",
    "                subarrays_needed += 1\n",
    "                current_sum = num\n",
    "        return subarrays_needed\n",
    "\n",
    "    def splitArray(self, nums: List[int], k: int) -> int:\n",
    "        # The answer must be between the largest single element and the total sum.\n",
    "        low = max(nums)\n",
    "        high = sum(nums)\n",
    "        ans = high\n",
    "\n",
    "        # Binary search for the minimum possible \"allowed_sum\".\n",
    "        while low <= high:\n",
    "            mid = low + (high - low) // 2  # 'mid' is our guess for the answer.\n",
    "            \n",
    "            # Check if our guess is feasible.\n",
    "            if self.count_subarrays(nums, mid) <= k:\n",
    "                # This guess works! It's a potential answer.\n",
    "                # Let's try to find an even smaller sum that also works.\n",
    "                ans = mid\n",
    "                high = mid - 1\n",
    "            else:\n",
    "                # This guess is too small. We need to allow a larger sum.\n",
    "                low = mid + 1\n",
    "                \n",
    "        return ans\n",
    "# optimal TIme complexity but not the most optimal code \n",
    "class Solution:\n",
    "    def split_min_sum(self,nums,k,allowed_sum):\n",
    "        no_of_subarrays=0\n",
    "        sm=0\n",
    "        max_sum=0\n",
    "        for num in nums:\n",
    "            # if num>allowed_sum: set low in binary search to max of nums\n",
    "            #     return False\n",
    "            if sm + num<=allowed_sum:\n",
    "                sm+=num\n",
    "            else:\n",
    "                no_of_subarrays+=1\n",
    "                max_sum=max(sm,max_sum)\n",
    "                sm = num\n",
    "        if sm<=allowed_sum: \n",
    "            no_of_subarrays+=1\n",
    "            max_sum = max(sm,max_sum)\n",
    "        return no_of_subarrays,max_sum\n",
    "\n",
    "    def splitArray(self, nums: List[int], k: int) -> int:\n",
    "        low = max(nums)\n",
    "        high = sum(nums)\n",
    "        summ = math.inf\n",
    "        while low<=high:\n",
    "            mid = low + (high-low)//2\n",
    "            \n",
    "            num_sa,max_sum = self.split_min_sum(nums,k,mid)\n",
    "            #print(low,mid,high,num_sa,max_sum,summ)\n",
    "                \n",
    "            if num_sa<=k:\n",
    "                summ = min(summ,max_sum)\n",
    "                high = mid - 1\n",
    "            else:\n",
    "                low = mid +1\n",
    "\n",
    "            \n",
    "        # if summ==math.inf:\n",
    "        #     return -1\n",
    "        return summ\n",
    "        \n",
    "\n"
   ]
  },
  {
   "cell_type": "markdown",
   "id": "449bf32b",
   "metadata": {},
   "source": [
    "### Minimize Max Distance to Gas Station\n",
    "https://leetcode.com/problems/minimize-max-distance-to-gas-station/description/"
   ]
  },
  {
   "cell_type": "code",
   "execution_count": null,
   "id": "4420d065",
   "metadata": {},
   "outputs": [],
   "source": [
    "class Solution:\n",
    "    def add_stations(self,stations,allowed_dist):\n",
    "        k_done = 0\n",
    "        for i in range(1,len(stations)):\n",
    "            gap = stations[i]-stations[i-1]\n",
    "            if gap > allowed_dist:\n",
    "                k_done = k_done + math.ceil(gap/allowed_dist) - 1\n",
    "                #k_done = k_done + (gap+allowed_dist-1)//allowed_dist - 1\n",
    "        return k_done\n",
    "                \n",
    "    def minMaxDist(self,stations,k):\n",
    "        epsilon = 1e-5\n",
    "        low = 0.0\n",
    "        high = float(stations[-1] - stations[0]) \n",
    "        # high = 0.0\n",
    "        # for i in range(1,len(stations)):\n",
    "        #     gap = stations[i]-stations[i-1]\n",
    "        #     high = max(high,gap)\n",
    "        \n",
    "        while high-low>epsilon:\n",
    "            mid = low + (high-low)/2.0\n",
    "            stations_added = self.add_stations(stations,mid)\n",
    "            print(low,mid,high,stations_added)\n",
    "            if stations_added>k:\n",
    "                low = mid \n",
    "            else:\n",
    "                high =  mid\n",
    "        return round(high,2)"
   ]
  },
  {
   "cell_type": "markdown",
   "id": "33afebf2",
   "metadata": {},
   "source": [
    "### Median of 2 sorted Arrays"
   ]
  },
  {
   "cell_type": "code",
   "execution_count": null,
   "id": "211b6114",
   "metadata": {},
   "outputs": [],
   "source": [
    "class Solution:\n",
    "    def findMedianSortedArrays(self, nums1: List[int], nums2: List[int]) -> float:\n",
    "        # Ensure nums1 is the shorter array to minimize binary search range\n",
    "        if len(nums1) > len(nums2):\n",
    "            nums1, nums2 = nums2, nums1\n",
    "        m, n = len(nums1), len(nums2)\n",
    "        \n",
    "        # Handle edge case: one or both arrays are empty\n",
    "        if m == 0:\n",
    "            if n % 2 == 0:\n",
    "                return (nums2[n//2 - 1] + nums2[n//2]) / 2\n",
    "            return nums2[n//2]\n",
    "        if n == 0:\n",
    "            if m % 2 == 0:\n",
    "                return (nums1[m//2 - 1] + nums1[m//2]) / 2\n",
    "            return nums1[m//2]\n",
    "        \n",
    "        # Binary search on the shorter array\n",
    "        low, high = 0, m\n",
    "        while low <= high:\n",
    "            p1 = (low + high) // 2  # Partition point in nums1\n",
    "            p2 = (m + n + 1) // 2 - p1  # Partition point in nums2\n",
    "            \n",
    "            # Get left and right elements for both arrays\n",
    "            max_left1 = float('-inf') if p1 == 0 else nums1[p1 - 1]\n",
    "            min_right1 = float('inf') if p1 == m else nums1[p1]\n",
    "            max_left2 = float('-inf') if p2 == 0 else nums2[p2 - 1]\n",
    "            min_right2 = float('inf') if p2 == n else nums2[p2]\n",
    "            \n",
    "            # Check if we found the correct partition\n",
    "            if max_left1 <= min_right2 and max_left2 <= min_right1:\n",
    "                # If total length is odd, return max of left sides\n",
    "                if (m + n) % 2 == 1:\n",
    "                    return max(max_left1, max_left2)\n",
    "                # If total length is even, return average of max(left) and min(right)\n",
    "                else:\n",
    "                    return (max(max_left1, max_left2) + min(min_right1, min_right2)) / 2\n",
    "            elif max_left1 > min_right2:\n",
    "                # Too many elements in nums1's left partition, move left\n",
    "                high = p1 - 1\n",
    "            else:\n",
    "                # Too few elements in nums1's left partition, move right\n",
    "                low = p1 + 1"
   ]
  },
  {
   "cell_type": "markdown",
   "id": "25ecfef4",
   "metadata": {},
   "source": []
  },
  {
   "cell_type": "code",
   "execution_count": null,
   "id": "377660b5",
   "metadata": {},
   "outputs": [],
   "source": []
  },
  {
   "cell_type": "markdown",
   "id": "3da1fe54",
   "metadata": {},
   "source": []
  },
  {
   "cell_type": "code",
   "execution_count": null,
   "id": "cb2ff4ad",
   "metadata": {},
   "outputs": [],
   "source": []
  },
  {
   "cell_type": "markdown",
   "id": "72c14e62",
   "metadata": {},
   "source": []
  },
  {
   "cell_type": "code",
   "execution_count": null,
   "id": "b3092c32",
   "metadata": {},
   "outputs": [],
   "source": []
  },
  {
   "cell_type": "markdown",
   "id": "3620b276",
   "metadata": {},
   "source": []
  },
  {
   "cell_type": "code",
   "execution_count": null,
   "id": "a1cfd98a",
   "metadata": {},
   "outputs": [],
   "source": []
  },
  {
   "cell_type": "markdown",
   "id": "a58cc069",
   "metadata": {},
   "source": []
  },
  {
   "cell_type": "code",
   "execution_count": null,
   "id": "9f424a0d",
   "metadata": {},
   "outputs": [],
   "source": []
  },
  {
   "cell_type": "markdown",
   "id": "83a5cf1c",
   "metadata": {},
   "source": []
  },
  {
   "cell_type": "code",
   "execution_count": null,
   "id": "1eaea75e",
   "metadata": {},
   "outputs": [],
   "source": []
  },
  {
   "cell_type": "markdown",
   "id": "c134e835",
   "metadata": {},
   "source": []
  },
  {
   "cell_type": "code",
   "execution_count": null,
   "id": "f5cacf9f",
   "metadata": {},
   "outputs": [],
   "source": []
  },
  {
   "cell_type": "markdown",
   "id": "36f17ac9",
   "metadata": {},
   "source": []
  },
  {
   "cell_type": "code",
   "execution_count": null,
   "id": "3aeeeacd",
   "metadata": {},
   "outputs": [],
   "source": []
  },
  {
   "cell_type": "markdown",
   "id": "659a306a",
   "metadata": {},
   "source": []
  },
  {
   "cell_type": "code",
   "execution_count": null,
   "id": "a4ed51d6",
   "metadata": {},
   "outputs": [],
   "source": []
  },
  {
   "cell_type": "markdown",
   "id": "f49d3f6f",
   "metadata": {},
   "source": []
  },
  {
   "cell_type": "code",
   "execution_count": null,
   "id": "32d0ae82",
   "metadata": {},
   "outputs": [],
   "source": []
  },
  {
   "cell_type": "markdown",
   "id": "e6504c09",
   "metadata": {},
   "source": []
  },
  {
   "cell_type": "code",
   "execution_count": null,
   "id": "d935a9e4",
   "metadata": {},
   "outputs": [],
   "source": []
  },
  {
   "cell_type": "markdown",
   "id": "9e2502d8",
   "metadata": {},
   "source": []
  },
  {
   "cell_type": "code",
   "execution_count": null,
   "id": "39b6d426",
   "metadata": {},
   "outputs": [],
   "source": []
  },
  {
   "cell_type": "markdown",
   "id": "2f03dc23",
   "metadata": {},
   "source": []
  },
  {
   "cell_type": "code",
   "execution_count": null,
   "id": "2354fdc9",
   "metadata": {},
   "outputs": [],
   "source": []
  },
  {
   "cell_type": "markdown",
   "id": "014247d7",
   "metadata": {},
   "source": []
  },
  {
   "cell_type": "markdown",
   "id": "285cb175",
   "metadata": {},
   "source": []
  },
  {
   "cell_type": "code",
   "execution_count": null,
   "id": "8a23e9a9",
   "metadata": {},
   "outputs": [],
   "source": []
  },
  {
   "cell_type": "markdown",
   "id": "c0af8bb3",
   "metadata": {},
   "source": []
  },
  {
   "cell_type": "code",
   "execution_count": null,
   "id": "24ccd1bd",
   "metadata": {},
   "outputs": [],
   "source": []
  }
 ],
 "metadata": {
  "colab": {
   "provenance": []
  },
  "kernelspec": {
   "display_name": "base",
   "language": "python",
   "name": "python3"
  },
  "language_info": {
   "codemirror_mode": {
    "name": "ipython",
    "version": 3
   },
   "file_extension": ".py",
   "mimetype": "text/x-python",
   "name": "python",
   "nbconvert_exporter": "python",
   "pygments_lexer": "ipython3",
   "version": "3.13.2"
  },
  "papermill": {
   "default_parameters": {},
   "duration": 6.123111,
   "end_time": "2025-05-09T01:26:19.176023",
   "environment_variables": {},
   "exception": true,
   "input_path": "__notebook__.ipynb",
   "output_path": "__notebook__.ipynb",
   "parameters": {},
   "start_time": "2025-05-09T01:26:13.052912",
   "version": "2.6.0"
  }
 },
 "nbformat": 4,
 "nbformat_minor": 5
}
