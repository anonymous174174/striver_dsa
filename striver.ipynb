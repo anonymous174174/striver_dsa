{
 "cells": [
  {
   "cell_type": "markdown",
   "id": "1d3dac5f",
   "metadata": {
    "id": "94kOM2xaIlGD",
    "papermill": {
     "duration": 0.004039,
     "end_time": "2025-05-09T01:26:18.346769",
     "exception": false,
     "start_time": "2025-05-09T01:26:18.342730",
     "status": "completed"
    },
    "tags": []
   },
   "source": [
    "# Learn the basics"
   ]
  },
  {
   "cell_type": "markdown",
   "id": "c1a26f4a",
   "metadata": {
    "id": "3T2Kv1PvIteQ",
    "papermill": {
     "duration": 0.00294,
     "end_time": "2025-05-09T01:26:18.353411",
     "exception": false,
     "start_time": "2025-05-09T01:26:18.350471",
     "status": "completed"
    },
    "tags": []
   },
   "source": [
    "## Basic Recursion"
   ]
  },
  {
   "cell_type": "markdown",
   "id": "4adadeb5",
   "metadata": {
    "id": "Fz3q0BCGKWQP",
    "papermill": {
     "duration": 0.002867,
     "end_time": "2025-05-09T01:26:18.359544",
     "exception": false,
     "start_time": "2025-05-09T01:26:18.356677",
     "status": "completed"
    },
    "tags": []
   },
   "source": [
    "### reverse an array using recursion"
   ]
  },
  {
   "cell_type": "code",
   "execution_count": 1,
   "id": "a2542886",
   "metadata": {
    "execution": {
     "iopub.execute_input": "2025-05-09T01:26:18.367407Z",
     "iopub.status.busy": "2025-05-09T01:26:18.367038Z",
     "iopub.status.idle": "2025-05-09T01:26:18.376482Z",
     "shell.execute_reply": "2025-05-09T01:26:18.375232Z"
    },
    "id": "-MfDNhcJG-Ss",
    "papermill": {
     "duration": 0.015796,
     "end_time": "2025-05-09T01:26:18.378522",
     "exception": false,
     "start_time": "2025-05-09T01:26:18.362726",
     "status": "completed"
    },
    "tags": []
   },
   "outputs": [],
   "source": [
    "def reverse_array(len_array,array,i):\n",
    "  if i==len_array//2:\n",
    "    #print(array)\n",
    "    return #array\n",
    "  array[i],array[len_array-1-i]=array[len_array-1-i],array[i]\n",
    "  reverse_array(len_array,array,i+1)"
   ]
  },
  {
   "cell_type": "code",
   "execution_count": 2,
   "id": "d510c925",
   "metadata": {
    "execution": {
     "iopub.execute_input": "2025-05-09T01:26:18.387871Z",
     "iopub.status.busy": "2025-05-09T01:26:18.387506Z",
     "iopub.status.idle": "2025-05-09T01:26:18.392764Z",
     "shell.execute_reply": "2025-05-09T01:26:18.391739Z"
    },
    "id": "fqFRQyMSIiTC",
    "papermill": {
     "duration": 0.01228,
     "end_time": "2025-05-09T01:26:18.394589",
     "exception": false,
     "start_time": "2025-05-09T01:26:18.382309",
     "status": "completed"
    },
    "tags": []
   },
   "outputs": [],
   "source": [
    "arr=[1,2,3,4,5]"
   ]
  },
  {
   "cell_type": "code",
   "execution_count": 3,
   "id": "2cee41f3",
   "metadata": {
    "execution": {
     "iopub.execute_input": "2025-05-09T01:26:18.405219Z",
     "iopub.status.busy": "2025-05-09T01:26:18.404179Z",
     "iopub.status.idle": "2025-05-09T01:26:18.409708Z",
     "shell.execute_reply": "2025-05-09T01:26:18.408603Z"
    },
    "id": "DUCDojfBI-I4",
    "papermill": {
     "duration": 0.01205,
     "end_time": "2025-05-09T01:26:18.411836",
     "exception": false,
     "start_time": "2025-05-09T01:26:18.399786",
     "status": "completed"
    },
    "tags": []
   },
   "outputs": [],
   "source": [
    "reverse_array(len(arr),arr,0)"
   ]
  },
  {
   "cell_type": "code",
   "execution_count": 4,
   "id": "3c20d600",
   "metadata": {
    "colab": {
     "base_uri": "https://localhost:8080/"
    },
    "execution": {
     "iopub.execute_input": "2025-05-09T01:26:18.420376Z",
     "iopub.status.busy": "2025-05-09T01:26:18.419978Z",
     "iopub.status.idle": "2025-05-09T01:26:18.427148Z",
     "shell.execute_reply": "2025-05-09T01:26:18.426091Z"
    },
    "id": "CWnGY3TdJCG9",
    "outputId": "e2c5f427-e2b7-4027-c669-faf490045c79",
    "papermill": {
     "duration": 0.013195,
     "end_time": "2025-05-09T01:26:18.428782",
     "exception": false,
     "start_time": "2025-05-09T01:26:18.415587",
     "status": "completed"
    },
    "tags": []
   },
   "outputs": [
    {
     "data": {
      "text/plain": [
       "[5, 4, 3, 2, 1]"
      ]
     },
     "execution_count": 4,
     "metadata": {},
     "output_type": "execute_result"
    }
   ],
   "source": [
    "arr"
   ]
  },
  {
   "cell_type": "markdown",
   "id": "85612e73",
   "metadata": {
    "id": "jBaBLpcPKcjA",
    "papermill": {
     "duration": 0.003099,
     "end_time": "2025-05-09T01:26:18.435657",
     "exception": false,
     "start_time": "2025-05-09T01:26:18.432558",
     "status": "completed"
    },
    "tags": []
   },
   "source": [
    "### Palindrome Check\n",
    "\n",
    "https://leetcode.com/problems/valid-palindrome/description/"
   ]
  },
  {
   "cell_type": "code",
   "execution_count": 5,
   "id": "574cb382",
   "metadata": {
    "execution": {
     "iopub.execute_input": "2025-05-09T01:26:18.443983Z",
     "iopub.status.busy": "2025-05-09T01:26:18.443626Z",
     "iopub.status.idle": "2025-05-09T01:26:18.450592Z",
     "shell.execute_reply": "2025-05-09T01:26:18.449584Z"
    },
    "id": "6U2CDpmrK11c",
    "papermill": {
     "duration": 0.013351,
     "end_time": "2025-05-09T01:26:18.452432",
     "exception": false,
     "start_time": "2025-05-09T01:26:18.439081",
     "status": "completed"
    },
    "tags": []
   },
   "outputs": [],
   "source": [
    "class Solution:\n",
    "    def isPalindrome(self, s):\n",
    "        \"\"\"\n",
    "        :type s: str\n",
    "        :rtype: bool\n",
    "        \"\"\"\n",
    "        cs=[i.lower() for i in s if i.isalnum()]#.join(\"\")\n",
    "        lcs=len(cs)\n",
    "        if lcs==0:\n",
    "          return True\n",
    "        def rec_pal_check(i):\n",
    "\n",
    "          if cs[lcs-1-i]!=cs[i]:\n",
    "            return False\n",
    "          if i==lcs//2:\n",
    "\n",
    "            return True\n",
    "          return rec_pal_check(i+1)\n",
    "        return rec_pal_check(0)\n",
    "\n"
   ]
  },
  {
   "cell_type": "code",
   "execution_count": 6,
   "id": "f14d7fe3",
   "metadata": {
    "colab": {
     "base_uri": "https://localhost:8080/"
    },
    "execution": {
     "iopub.execute_input": "2025-05-09T01:26:18.461077Z",
     "iopub.status.busy": "2025-05-09T01:26:18.460698Z",
     "iopub.status.idle": "2025-05-09T01:26:18.467249Z",
     "shell.execute_reply": "2025-05-09T01:26:18.466164Z"
    },
    "id": "vKdsiOAFN45q",
    "outputId": "58684aad-9854-4c01-dc5b-11ce4da214c1",
    "papermill": {
     "duration": 0.012933,
     "end_time": "2025-05-09T01:26:18.468970",
     "exception": false,
     "start_time": "2025-05-09T01:26:18.456037",
     "status": "completed"
    },
    "tags": []
   },
   "outputs": [
    {
     "name": "stdout",
     "output_type": "stream",
     "text": [
      "True\n"
     ]
    }
   ],
   "source": [
    "k=Solution()\n",
    "out=k.isPalindrome( \"            !@#@    \")\n",
    "print(out)"
   ]
  },
  {
   "cell_type": "markdown",
   "id": "ab4f8863",
   "metadata": {
    "id": "wTRPYoJsQ-gG",
    "papermill": {
     "duration": 0.003349,
     "end_time": "2025-05-09T01:26:18.476093",
     "exception": false,
     "start_time": "2025-05-09T01:26:18.472744",
     "status": "completed"
    },
    "tags": []
   },
   "source": [
    "### Fibonacci Number\n",
    "https://leetcode.com/problems/fibonacci-number/"
   ]
  },
  {
   "cell_type": "code",
   "execution_count": 7,
   "id": "63a1db8f",
   "metadata": {
    "execution": {
     "iopub.execute_input": "2025-05-09T01:26:18.484822Z",
     "iopub.status.busy": "2025-05-09T01:26:18.484483Z",
     "iopub.status.idle": "2025-05-09T01:26:18.490359Z",
     "shell.execute_reply": "2025-05-09T01:26:18.489149Z"
    },
    "id": "uFM5am8sRA-f",
    "papermill": {
     "duration": 0.012377,
     "end_time": "2025-05-09T01:26:18.492154",
     "exception": false,
     "start_time": "2025-05-09T01:26:18.479777",
     "status": "completed"
    },
    "tags": []
   },
   "outputs": [],
   "source": [
    "class Solution(object):\n",
    "    def fib(self, n):\n",
    "        \"\"\"\n",
    "        :type n: int\n",
    "        :rtype: int\n",
    "        \"\"\"\n",
    "\n",
    "        def fibo(a,b,n):\n",
    "          if n==0:\n",
    "            return a\n",
    "          b,a=a+b,b\n",
    "          return fibo(a,b,n-1)\n",
    "        return fibo(0,1,n)"
   ]
  },
  {
   "cell_type": "code",
   "execution_count": 8,
   "id": "612d5eec",
   "metadata": {
    "colab": {
     "base_uri": "https://localhost:8080/"
    },
    "execution": {
     "iopub.execute_input": "2025-05-09T01:26:18.501054Z",
     "iopub.status.busy": "2025-05-09T01:26:18.500696Z",
     "iopub.status.idle": "2025-05-09T01:26:18.507036Z",
     "shell.execute_reply": "2025-05-09T01:26:18.506129Z"
    },
    "id": "rYBw1oI1R_Kv",
    "outputId": "13e63e3c-f1b1-4d87-9cbc-187c6a161c18",
    "papermill": {
     "duration": 0.012539,
     "end_time": "2025-05-09T01:26:18.508540",
     "exception": false,
     "start_time": "2025-05-09T01:26:18.496001",
     "status": "completed"
    },
    "tags": []
   },
   "outputs": [
    {
     "data": {
      "text/plain": [
       "3"
      ]
     },
     "execution_count": 8,
     "metadata": {},
     "output_type": "execute_result"
    }
   ],
   "source": [
    "s=Solution()\n",
    "s.fib(4)"
   ]
  },
  {
   "cell_type": "markdown",
   "id": "251616c8",
   "metadata": {
    "id": "0WsyGJQDSxET",
    "papermill": {
     "duration": 0.003362,
     "end_time": "2025-05-09T01:26:18.515865",
     "exception": false,
     "start_time": "2025-05-09T01:26:18.512503",
     "status": "completed"
    },
    "tags": []
   },
   "source": [
    "## Learn Basic Hashing"
   ]
  },
  {
   "cell_type": "markdown",
   "id": "0f77a7e7",
   "metadata": {
    "id": "zRnjwSQBS3G5",
    "papermill": {
     "duration": 0.003195,
     "end_time": "2025-05-09T01:26:18.522745",
     "exception": false,
     "start_time": "2025-05-09T01:26:18.519550",
     "status": "completed"
    },
    "tags": []
   },
   "source": [
    "### Frequency of the Most Frequent Element (HARD)\n",
    "https://leetcode.com/problems/frequency-of-the-most-frequent-element/description/"
   ]
  },
  {
   "cell_type": "code",
   "execution_count": 9,
   "id": "8b2791b6",
   "metadata": {
    "execution": {
     "iopub.execute_input": "2025-05-09T01:26:18.532007Z",
     "iopub.status.busy": "2025-05-09T01:26:18.531679Z",
     "iopub.status.idle": "2025-05-09T01:26:18.538580Z",
     "shell.execute_reply": "2025-05-09T01:26:18.537511Z"
    },
    "id": "z6UcSmH3S1yo",
    "papermill": {
     "duration": 0.013393,
     "end_time": "2025-05-09T01:26:18.540477",
     "exception": false,
     "start_time": "2025-05-09T01:26:18.527084",
     "status": "completed"
    },
    "tags": []
   },
   "outputs": [],
   "source": [
    "#why this works but mine didn't?\n",
    "class Solution(object):\n",
    "    def maxFrequency(self, nums, k):\n",
    "        \"\"\"\n",
    "        :type nums: List[int]\n",
    "        :type k: int\n",
    "        :rtype: int\n",
    "        \"\"\"\n",
    "        nums.sort()\n",
    "        length_nums = len(nums)\n",
    "\n",
    "        total_cost_till_now = 0\n",
    "        start = 0\n",
    "        maximum_length_subarray = 0\n",
    "\n",
    "        for end in range(length_nums):\n",
    "            # Accumulate the total cost to make nums[start:end+1] all equal to nums[end]\n",
    "            total_cost_till_now += (nums[end] - nums[end - 1]) * (end - start) if end > 0 else 0\n",
    "\n",
    "            # If cost exceeds k, shrink the window\n",
    "            while total_cost_till_now > k:\n",
    "                total_cost_till_now -= nums[end] - nums[start]\n",
    "                start += 1\n",
    "\n",
    "            # Update max window size\n",
    "            maximum_length_subarray = max(maximum_length_subarray, end - start + 1)\n",
    "\n",
    "        return maximum_length_subarray"
   ]
  },
  {
   "cell_type": "code",
   "execution_count": 10,
   "id": "ad51f754",
   "metadata": {
    "execution": {
     "iopub.execute_input": "2025-05-09T01:26:18.550108Z",
     "iopub.status.busy": "2025-05-09T01:26:18.549782Z",
     "iopub.status.idle": "2025-05-09T01:26:18.557344Z",
     "shell.execute_reply": "2025-05-09T01:26:18.556092Z"
    },
    "id": "ytgHczts_uWz",
    "papermill": {
     "duration": 0.014344,
     "end_time": "2025-05-09T01:26:18.559099",
     "exception": false,
     "start_time": "2025-05-09T01:26:18.544755",
     "status": "completed"
    },
    "tags": []
   },
   "outputs": [],
   "source": [
    "#my solution-doesn't work but is very close\n",
    "class Solution(object):\n",
    "    def maxFrequency(self, nums, k):\n",
    "        \"\"\"\n",
    "        :type nums: List[int]\n",
    "        :type k: int\n",
    "        :rtype: int\n",
    "        \"\"\"\n",
    "        nums.sort()\n",
    "\n",
    "        length_nums=len(nums)\n",
    "\n",
    "        diff_cost_hash_map = {nums[ind]: nums[ind + 1] - nums[ind] for ind in range(length_nums - 1)}\n",
    "\n",
    "        total_cost_till_now, start, maximum_length_subarray, end, diff_total = 0, 0, 1, 1, 0\n",
    "\n",
    "        while end<len(nums):\n",
    "          diff=nums[end]-nums[end-1]\n",
    "          if total_cost_till_now + (end-start)*diff <=k:\n",
    "\n",
    "            diff_total+=diff\n",
    "            total_cost_till_now+=(end-start)*diff\n",
    "            end+=1\n",
    "          else:\n",
    "\n",
    "\n",
    "            total_cost_till_now-=diff_total\n",
    "            if start in diff_cost_hash_map:\n",
    "              diff_total -= diff_cost_hash_map[start]\n",
    "            diff_total-=diff_cost_hash_map[start]\n",
    "            start+=1\n",
    "          maximum_length_subarray=max(maximum_length_subarray,end-start)\n",
    "\n",
    "        return maximum_length_subarray"
   ]
  },
  {
   "cell_type": "code",
   "execution_count": 11,
   "id": "cfa11dec",
   "metadata": {
    "colab": {
     "base_uri": "https://localhost:8080/"
    },
    "execution": {
     "iopub.execute_input": "2025-05-09T01:26:18.569343Z",
     "iopub.status.busy": "2025-05-09T01:26:18.568975Z",
     "iopub.status.idle": "2025-05-09T01:26:18.649038Z",
     "shell.execute_reply": "2025-05-09T01:26:18.647645Z"
    },
    "id": "bul1G40x6jBG",
    "outputId": "a7dda1a1-4bee-456f-a9a0-d473876bae96",
    "papermill": {
     "duration": 0.086732,
     "end_time": "2025-05-09T01:26:18.650482",
     "exception": true,
     "start_time": "2025-05-09T01:26:18.563750",
     "status": "failed"
    },
    "tags": []
   },
   "outputs": [
    {
     "ename": "KeyError",
     "evalue": "0",
     "output_type": "error",
     "traceback": [
      "\u001b[0;31m---------------------------------------------------------------------------\u001b[0m",
      "\u001b[0;31mKeyError\u001b[0m                                  Traceback (most recent call last)",
      "\u001b[0;32m/tmp/ipykernel_13/988607618.py\u001b[0m in \u001b[0;36m<cell line: 0>\u001b[0;34m()\u001b[0m\n\u001b[1;32m      2\u001b[0m \u001b[0marr\u001b[0m\u001b[0;34m=\u001b[0m\u001b[0;34m[\u001b[0m\u001b[0;36m3\u001b[0m\u001b[0;34m,\u001b[0m\u001b[0;36m6\u001b[0m\u001b[0;34m,\u001b[0m\u001b[0;36m9\u001b[0m\u001b[0;34m]\u001b[0m\u001b[0;31m#[9926,9960,10000,9992,9917,9986,9934,9985,9977,9950,9922,9913,9971,9978,9984,9959,9934,9948,9918,9916,9967,9965,9985,9977,9988,9983,9900,9945,9913,9966,9968,9986,9939,9914,9980,9957,9921,9927,9917,9972,9974,9953,9984,9912,9975,9920,9966,9932,9921,9904,9928,9959,9993,9937,9934,9974,9937,9964,9922,9963,9991,9930,9944,9930,9982,9980,9967,9904,9955,9947,9924,9973,9997,9950,9905,9924,9990,9947,9953,9924,9977,9938,9951,9982,9932,9926,9928,9912,9917,9929,9924,9921,9987,9910,9927,9921,9929,9937,9919,9995,9949,9953]\u001b[0m\u001b[0;34m\u001b[0m\u001b[0;34m\u001b[0m\u001b[0m\n\u001b[1;32m      3\u001b[0m \u001b[0mk\u001b[0m\u001b[0;34m=\u001b[0m\u001b[0;36m2\u001b[0m\u001b[0;34m\u001b[0m\u001b[0;34m\u001b[0m\u001b[0m\n\u001b[0;32m----> 4\u001b[0;31m \u001b[0ms\u001b[0m\u001b[0;34m.\u001b[0m\u001b[0mmaxFrequency\u001b[0m\u001b[0;34m(\u001b[0m\u001b[0mnums\u001b[0m\u001b[0;34m=\u001b[0m\u001b[0marr\u001b[0m\u001b[0;34m,\u001b[0m\u001b[0mk\u001b[0m\u001b[0;34m=\u001b[0m\u001b[0mk\u001b[0m\u001b[0;34m)\u001b[0m\u001b[0;34m\u001b[0m\u001b[0;34m\u001b[0m\u001b[0m\n\u001b[0m",
      "\u001b[0;32m/tmp/ipykernel_13/2598090638.py\u001b[0m in \u001b[0;36mmaxFrequency\u001b[0;34m(self, nums, k)\u001b[0m\n\u001b[1;32m     28\u001b[0m             \u001b[0;32mif\u001b[0m \u001b[0mstart\u001b[0m \u001b[0;32min\u001b[0m \u001b[0mdiff_cost_hash_map\u001b[0m\u001b[0;34m:\u001b[0m\u001b[0;34m\u001b[0m\u001b[0;34m\u001b[0m\u001b[0m\n\u001b[1;32m     29\u001b[0m               \u001b[0mdiff_total\u001b[0m \u001b[0;34m-=\u001b[0m \u001b[0mdiff_cost_hash_map\u001b[0m\u001b[0;34m[\u001b[0m\u001b[0mstart\u001b[0m\u001b[0;34m]\u001b[0m\u001b[0;34m\u001b[0m\u001b[0;34m\u001b[0m\u001b[0m\n\u001b[0;32m---> 30\u001b[0;31m             \u001b[0mdiff_total\u001b[0m\u001b[0;34m-=\u001b[0m\u001b[0mdiff_cost_hash_map\u001b[0m\u001b[0;34m[\u001b[0m\u001b[0mstart\u001b[0m\u001b[0;34m]\u001b[0m\u001b[0;34m\u001b[0m\u001b[0;34m\u001b[0m\u001b[0m\n\u001b[0m\u001b[1;32m     31\u001b[0m             \u001b[0mstart\u001b[0m\u001b[0;34m+=\u001b[0m\u001b[0;36m1\u001b[0m\u001b[0;34m\u001b[0m\u001b[0;34m\u001b[0m\u001b[0m\n\u001b[1;32m     32\u001b[0m           \u001b[0mmaximum_length_subarray\u001b[0m\u001b[0;34m=\u001b[0m\u001b[0mmax\u001b[0m\u001b[0;34m(\u001b[0m\u001b[0mmaximum_length_subarray\u001b[0m\u001b[0;34m,\u001b[0m\u001b[0mend\u001b[0m\u001b[0;34m-\u001b[0m\u001b[0mstart\u001b[0m\u001b[0;34m)\u001b[0m\u001b[0;34m\u001b[0m\u001b[0;34m\u001b[0m\u001b[0m\n",
      "\u001b[0;31mKeyError\u001b[0m: 0"
     ]
    }
   ],
   "source": [
    "s=Solution()\n",
    "arr=[3,6,9]#[9926,9960,10000,9992,9917,9986,9934,9985,9977,9950,9922,9913,9971,9978,9984,9959,9934,9948,9918,9916,9967,9965,9985,9977,9988,9983,9900,9945,9913,9966,9968,9986,9939,9914,9980,9957,9921,9927,9917,9972,9974,9953,9984,9912,9975,9920,9966,9932,9921,9904,9928,9959,9993,9937,9934,9974,9937,9964,9922,9963,9991,9930,9944,9930,9982,9980,9967,9904,9955,9947,9924,9973,9997,9950,9905,9924,9990,9947,9953,9924,9977,9938,9951,9982,9932,9926,9928,9912,9917,9929,9924,9921,9987,9910,9927,9921,9929,9937,9919,9995,9949,9953]\n",
    "k=2\n",
    "s.maxFrequency(nums=arr,k=k)"
   ]
  },
  {
   "cell_type": "markdown",
   "id": "a1865b8f",
   "metadata": {},
   "source": [
    "# Learn sorting techniques"
   ]
  },
  {
   "cell_type": "markdown",
   "id": "e23459f2",
   "metadata": {},
   "source": [
    "## Sorting - 1"
   ]
  },
  {
   "cell_type": "markdown",
   "id": "5a4766f2",
   "metadata": {},
   "source": [
    "### Selection Sort"
   ]
  },
  {
   "cell_type": "code",
   "execution_count": null,
   "id": "3e353bc2",
   "metadata": {},
   "outputs": [
    {
     "ename": "",
     "evalue": "",
     "output_type": "error",
     "traceback": [
      "\u001b[1;31mRunning cells with 'base (Python 3.13.2)' requires the ipykernel package.\n",
      "\u001b[1;31m<a href='command:jupyter.createPythonEnvAndSelectController'>Create a Python Environment</a> with the required packages.\n",
      "\u001b[1;31mOr install 'ipykernel' using the command: 'conda install -n base ipykernel --update-deps --force-reinstall'"
     ]
    }
   ],
   "source": [
    "def selection_sort(arr):\n",
    "\n",
    "    behind_index=0\n",
    "    moving_index=1\n",
    "    l_arr=len(arr)\n",
    "    if l_arr==0: return\n",
    "    min_number=arr[0]\n",
    "    min_number_index=0\n",
    "    while behind_index<l_arr-1:\n",
    "        if arr[moving_index]<min_number:\n",
    "            min_number=arr[moving_index]\n",
    "            min_number_index=moving_index\n",
    "        if moving_index==l_arr-1:\n",
    "            arr[behind_index],arr[min_number_index]=arr[min_number_index],arr[behind_index]\n",
    "            behind_index+=1\n",
    "            moving_index=behind_index#+1\n",
    "            min_number=arr[behind_index]\n",
    "            min_number_index=behind_index\n",
    "        moving_index+=1\n",
    "    # print(arr)\n",
    "        # print(\"behind_index = \",behind_index)\n",
    "        # print(\"moving_index = \",moving_index)\n",
    "        # print(\"min_number = \",min_number)\n",
    "        # print(\"min_number_index = \",min_number_index)\n",
    "        # print(\"____________________________________\")\n",
    "              \n",
    "\n",
    "\n"
   ]
  },
  {
   "cell_type": "code",
   "execution_count": null,
   "id": "5afb1ce1",
   "metadata": {},
   "outputs": [],
   "source": [
    "import random\n",
    "arr = random.sample(range(-1000, 1000), 100)  # 100 unique random numbers\n",
    "expected = sorted(arr)\n",
    "selection_sort(arr)\n",
    "print(arr == expected)  # Expected: True"
   ]
  },
  {
   "cell_type": "markdown",
   "id": "fa82d87d",
   "metadata": {},
   "source": [
    "### Bubble sort"
   ]
  },
  {
   "cell_type": "code",
   "execution_count": null,
   "id": "d991cfff",
   "metadata": {},
   "outputs": [],
   "source": [
    "def bubble_sort(arr):\n",
    "  i,l=0,len(arr)-1\n",
    "  flag=0\n",
    "  while l>0 :\n",
    "    if i<l:\n",
    "      if arr[i]>arr[i+1]:\n",
    "        arr[i],arr[i+1]=arr[i+1],arr[i]\n",
    "        flag=1\n",
    "      i+=1   \n",
    "    else:\n",
    "      if flag==0:\n",
    "        print(\"array sorted early\")\n",
    "        return\n",
    "      flag=0\n",
    "      i=0\n",
    "      l-=1"
   ]
  },
  {
   "cell_type": "code",
   "execution_count": null,
   "id": "f29f42c8",
   "metadata": {},
   "outputs": [],
   "source": [
    "arr = [76,43,1,45,77,54,33,28]\n",
    "bubble_sort(arr)\n",
    "print(arr)"
   ]
  },
  {
   "cell_type": "markdown",
   "id": "9fdcafba",
   "metadata": {},
   "source": [
    "### Insertion Sort"
   ]
  },
  {
   "cell_type": "code",
   "execution_count": null,
   "id": "c471c064",
   "metadata": {},
   "outputs": [],
   "source": [
    "def insertion_sort(arr):\n",
    "  i,t=1,0\n",
    "  l_i=len(arr)-1\n",
    "  while t<l_i:\n",
    "    if arr[i]<arr[i-1]:\n",
    "      arr[i],arr[i-1]=arr[i-1],arr[i]\n",
    "    else:\n",
    "      t+=1\n",
    "      i=t+1\n",
    "      continue\n",
    "    i-=1\n",
    "    if i==0:\n",
    "      t+=1\n",
    "      i=t+1\n",
    "\n"
   ]
  },
  {
   "cell_type": "markdown",
   "id": "ec680890",
   "metadata": {},
   "source": [
    "## Sorting 2"
   ]
  },
  {
   "cell_type": "markdown",
   "id": "7bba40cb",
   "metadata": {},
   "source": [
    "### Merge Sort"
   ]
  },
  {
   "cell_type": "code",
   "execution_count": null,
   "id": "844cd706",
   "metadata": {},
   "outputs": [
    {
     "ename": "",
     "evalue": "",
     "output_type": "error",
     "traceback": [
      "\u001b[1;31mRunning cells with 'base (Python 3.13.2)' requires the ipykernel package.\n",
      "\u001b[1;31m<a href='command:jupyter.createPythonEnvAndSelectController'>Create a Python Environment</a> with the required packages.\n",
      "\u001b[1;31mOr install 'ipykernel' using the command: 'conda install -n base ipykernel --update-deps --force-reinstall'"
     ]
    }
   ],
   "source": [
    "def merge_sort(arr,start_p=0,end_p=len(arr)-1):\n",
    "  def merge(arr,start,mid,end):\n",
    "    dup = arr[mid:end+1]\n",
    "    arr_ind = mid-1\n",
    "    dup_ind = len(dup)-1\n",
    "    arr_free_ind=end\n",
    "    while arr_ind>=start and dup_ind>=0:\n",
    "      if arr[arr_ind]>dup[dup_ind]:\n",
    "        arr[arr_free_ind] = arr[arr_ind]\n",
    "        arr_ind-=1\n",
    "      else:\n",
    "        arr[arr_free_ind] = dup[dup_ind]\n",
    "        dup_ind-=1\n",
    "      arr_free_ind-=1\n",
    "    if dup_ind>=0:\n",
    "      arr[start:start+dup_ind+1] = dup[:dup_ind+1]\n",
    "\n",
    "\n",
    "\n",
    "  l_a=end_p-start_p+1\n",
    "  if l_a==1:\n",
    "    return \n",
    "  size_of_sub_arrays=1\n",
    "  while size_of_sub_arrays<l_a:\n",
    "    for i in range(0,l_a,2*size_of_sub_arrays):\n",
    "      start=start_p+i\n",
    "      mid = min(start+size_of_sub_arrays,end_p+1)\n",
    "      end = min(start+2*size_of_sub_arrays,end_p+1)-1\n",
    "      merge(arr,start,mid,end)\n",
    "      # # if start<=mid<=end:\n",
    "      # if start<=mid<=end:\n",
    "      #   merge(arr,start,mid,end)\n",
    "    size_of_sub_arrays*=2"
   ]
  },
  {
   "cell_type": "code",
   "execution_count": null,
   "id": "73a9eb21",
   "metadata": {},
   "outputs": [],
   "source": [
    "def merge(arr,start,mid,end):\n",
    "    dup = arr[mid:end+1]\n",
    "    arr_ind = mid-1\n",
    "    dup_ind = len(dup)-1\n",
    "    arr_free_ind=end\n",
    "    while arr_ind>=start and dup_ind>=0:\n",
    "      if arr[arr_ind]>dup[dup_ind]:\n",
    "        arr[arr_free_ind] = arr[arr_ind]\n",
    "        arr_ind-=1\n",
    "      else:\n",
    "        arr[arr_free_ind] = dup[dup_ind]\n",
    "        dup_ind-=1\n",
    "      arr_free_ind-=1\n",
    "    if dup_ind>=0:\n",
    "      arr[start:start+dup_ind+1] = dup[:dup_ind+1]\n",
    "\n",
    "def merge_sort(arr,start,end):\n",
    "    if start==end:\n",
    "       return\n",
    "    mid = (start+end)//2\n",
    "    merge_sort(arr,start,mid)\n",
    "    merge_sort(arr,mid+1,end)\n",
    "    merge(arr,start,mid+1,end)"
   ]
  },
  {
   "cell_type": "markdown",
   "id": "653c306b",
   "metadata": {},
   "source": [
    "## Recursive Bubble sort\n"
   ]
  },
  {
   "cell_type": "code",
   "execution_count": null,
   "id": "182dd6d5",
   "metadata": {},
   "outputs": [],
   "source": [
    "def recursive_bubble_sort(arr,l=len(arr)):\n",
    "  if l==0:\n",
    "    return\n",
    "  for i in range(l-1):\n",
    "    if arr[i]>arr[i+1]:\n",
    "      arr[i],arr[i+1]=arr[i+1],arr[i]\n",
    "  recursive_bubble_sort(arr,l-1)"
   ]
  },
  {
   "cell_type": "markdown",
   "id": "f1347f58",
   "metadata": {},
   "source": [
    "## Quick Sort"
   ]
  },
  {
   "cell_type": "code",
   "execution_count": null,
   "id": "03586009",
   "metadata": {},
   "outputs": [],
   "source": [
    "from random import randint\n",
    "def partition(arr,low,high,pivot_index):\n",
    "    arr[high],arr[pivot_index]=arr[pivot_index],arr[high]\n",
    "    pivot=arr[high]\n",
    "    trail=low\n",
    "    for mov in range(low,high):\n",
    "        if arr[mov]<=pivot:\n",
    "            arr[trail],arr[mov]=arr[mov],arr[trail]\n",
    "            trail+=1\n",
    "    arr[trail], arr[high] = arr[high], arr[trail]\n",
    "    return trail\n",
    "def quick_sort( nums):\n",
    "\n",
    "    \"\"\"\n",
    "    :type nums: List[int]\n",
    "    :rtype: List[int]\n",
    "    \"\"\"\n",
    "\n",
    "    stack=[(0,len(nums)-1)]\n",
    "    while stack:\n",
    "        low,high=stack.pop()\n",
    "        if low>=high:\n",
    "            continue\n",
    "        pv=randint(low,high)\n",
    "        pivot_index=partition(nums,low,high,pv)\n",
    "        if pivot_index-1>low:stack.append((low,pivot_index-1))\n",
    "        if pivot_index+1<high:stack.append((pivot_index+1,high))\n",
    "    return nums"
   ]
  },
  {
   "cell_type": "markdown",
   "id": "9e03fd02",
   "metadata": {},
   "source": [
    "# Arrays"
   ]
  },
  {
   "cell_type": "markdown",
   "id": "2cb0ddd8",
   "metadata": {},
   "source": [
    "## Easy"
   ]
  },
  {
   "cell_type": "markdown",
   "id": "283251be",
   "metadata": {},
   "source": [
    "### Check if Array Is Sorted and Rotated"
   ]
  },
  {
   "cell_type": "code",
   "execution_count": null,
   "id": "56ab0fd7",
   "metadata": {},
   "outputs": [],
   "source": [
    "# Reasoning If an array is rotated and was sorted the no of indexes where arr[i]>arr[i+1] will only be 1 and if it was rotated the arr[0]>=arr[-1]\n",
    "# if the array was not sorted and we encounter more than 1 point where arr[i]>arr[i+1] return false and in the case where arr[i]>arr[i+1] =1 but nums[0]<nums[-1] we return False\n",
    "class Solution(object):\n",
    "    def check(self, nums):\n",
    "        \"\"\"\n",
    "        :type nums: List[int]\n",
    "        :rtype: bool\n",
    "        \"\"\"\n",
    "        if not nums:\n",
    "            return False\n",
    "        if len(nums)==1:\n",
    "            return True\n",
    "\n",
    "        nrp=0\n",
    "\n",
    "        for i in range(0,len(nums)-1):\n",
    "            if nums[i]> nums[i+1]:\n",
    "                nrp+=1\n",
    "                if nrp>1:\n",
    "                    return False\n",
    "        if nrp==0: return True\n",
    "        if nrp==1 and nums[0]>=nums[-1]: return True\n",
    "        return False"
   ]
  }
 ],
 "metadata": {
  "colab": {
   "provenance": []
  },
  "kernelspec": {
   "display_name": "base",
   "language": "python",
   "name": "python3"
  },
  "language_info": {
   "codemirror_mode": {
    "name": "ipython",
    "version": 3
   },
   "file_extension": ".py",
   "mimetype": "text/x-python",
   "name": "python",
   "nbconvert_exporter": "python",
   "pygments_lexer": "ipython3",
   "version": "3.13.2"
  },
  "papermill": {
   "default_parameters": {},
   "duration": 6.123111,
   "end_time": "2025-05-09T01:26:19.176023",
   "environment_variables": {},
   "exception": true,
   "input_path": "__notebook__.ipynb",
   "output_path": "__notebook__.ipynb",
   "parameters": {},
   "start_time": "2025-05-09T01:26:13.052912",
   "version": "2.6.0"
  }
 },
 "nbformat": 4,
 "nbformat_minor": 5
}
