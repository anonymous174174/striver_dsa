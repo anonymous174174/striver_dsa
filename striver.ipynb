{
 "cells": [
  {
   "cell_type": "markdown",
   "id": "1d3dac5f",
   "metadata": {
    "id": "94kOM2xaIlGD",
    "papermill": {
     "duration": 0.004039,
     "end_time": "2025-05-09T01:26:18.346769",
     "exception": false,
     "start_time": "2025-05-09T01:26:18.342730",
     "status": "completed"
    },
    "tags": []
   },
   "source": [
    "# Learn the basics"
   ]
  },
  {
   "cell_type": "markdown",
   "id": "c1a26f4a",
   "metadata": {
    "id": "3T2Kv1PvIteQ",
    "papermill": {
     "duration": 0.00294,
     "end_time": "2025-05-09T01:26:18.353411",
     "exception": false,
     "start_time": "2025-05-09T01:26:18.350471",
     "status": "completed"
    },
    "tags": []
   },
   "source": [
    "## Basic Recursion"
   ]
  },
  {
   "cell_type": "markdown",
   "id": "4adadeb5",
   "metadata": {
    "id": "Fz3q0BCGKWQP",
    "papermill": {
     "duration": 0.002867,
     "end_time": "2025-05-09T01:26:18.359544",
     "exception": false,
     "start_time": "2025-05-09T01:26:18.356677",
     "status": "completed"
    },
    "tags": []
   },
   "source": [
    "### reverse an array using recursion"
   ]
  },
  {
   "cell_type": "code",
   "execution_count": null,
   "id": "a2542886",
   "metadata": {
    "execution": {
     "iopub.execute_input": "2025-05-09T01:26:18.367407Z",
     "iopub.status.busy": "2025-05-09T01:26:18.367038Z",
     "iopub.status.idle": "2025-05-09T01:26:18.376482Z",
     "shell.execute_reply": "2025-05-09T01:26:18.375232Z"
    },
    "id": "-MfDNhcJG-Ss",
    "papermill": {
     "duration": 0.015796,
     "end_time": "2025-05-09T01:26:18.378522",
     "exception": false,
     "start_time": "2025-05-09T01:26:18.362726",
     "status": "completed"
    },
    "tags": []
   },
   "outputs": [
    {
     "ename": "",
     "evalue": "",
     "output_type": "error",
     "traceback": [
      "\u001b[1;31mRunning cells with 'base (Python 3.13.2)' requires the ipykernel package.\n",
      "\u001b[1;31m<a href='command:jupyter.createPythonEnvAndSelectController'>Create a Python Environment</a> with the required packages.\n",
      "\u001b[1;31mOr install 'ipykernel' using the command: 'conda install -n base ipykernel --update-deps --force-reinstall'"
     ]
    }
   ],
   "source": [
    "def reverse_array(len_array,array,i):\n",
    "  if i==len_array//2:\n",
    "    #print(array)\n",
    "    return #array\n",
    "  array[i],array[len_array-1-i]=array[len_array-1-i],array[i]\n",
    "  reverse_array(len_array,array,i+1)"
   ]
  },
  {
   "cell_type": "code",
   "execution_count": 2,
   "id": "d510c925",
   "metadata": {
    "execution": {
     "iopub.execute_input": "2025-05-09T01:26:18.387871Z",
     "iopub.status.busy": "2025-05-09T01:26:18.387506Z",
     "iopub.status.idle": "2025-05-09T01:26:18.392764Z",
     "shell.execute_reply": "2025-05-09T01:26:18.391739Z"
    },
    "id": "fqFRQyMSIiTC",
    "papermill": {
     "duration": 0.01228,
     "end_time": "2025-05-09T01:26:18.394589",
     "exception": false,
     "start_time": "2025-05-09T01:26:18.382309",
     "status": "completed"
    },
    "tags": []
   },
   "outputs": [],
   "source": [
    "arr=[1,2,3,4,5]"
   ]
  },
  {
   "cell_type": "code",
   "execution_count": 3,
   "id": "2cee41f3",
   "metadata": {
    "execution": {
     "iopub.execute_input": "2025-05-09T01:26:18.405219Z",
     "iopub.status.busy": "2025-05-09T01:26:18.404179Z",
     "iopub.status.idle": "2025-05-09T01:26:18.409708Z",
     "shell.execute_reply": "2025-05-09T01:26:18.408603Z"
    },
    "id": "DUCDojfBI-I4",
    "papermill": {
     "duration": 0.01205,
     "end_time": "2025-05-09T01:26:18.411836",
     "exception": false,
     "start_time": "2025-05-09T01:26:18.399786",
     "status": "completed"
    },
    "tags": []
   },
   "outputs": [],
   "source": [
    "reverse_array(len(arr),arr,0)"
   ]
  },
  {
   "cell_type": "code",
   "execution_count": 4,
   "id": "3c20d600",
   "metadata": {
    "colab": {
     "base_uri": "https://localhost:8080/"
    },
    "execution": {
     "iopub.execute_input": "2025-05-09T01:26:18.420376Z",
     "iopub.status.busy": "2025-05-09T01:26:18.419978Z",
     "iopub.status.idle": "2025-05-09T01:26:18.427148Z",
     "shell.execute_reply": "2025-05-09T01:26:18.426091Z"
    },
    "id": "CWnGY3TdJCG9",
    "outputId": "e2c5f427-e2b7-4027-c669-faf490045c79",
    "papermill": {
     "duration": 0.013195,
     "end_time": "2025-05-09T01:26:18.428782",
     "exception": false,
     "start_time": "2025-05-09T01:26:18.415587",
     "status": "completed"
    },
    "tags": []
   },
   "outputs": [
    {
     "data": {
      "text/plain": [
       "[5, 4, 3, 2, 1]"
      ]
     },
     "execution_count": 4,
     "metadata": {},
     "output_type": "execute_result"
    }
   ],
   "source": [
    "arr"
   ]
  },
  {
   "cell_type": "markdown",
   "id": "85612e73",
   "metadata": {
    "id": "jBaBLpcPKcjA",
    "papermill": {
     "duration": 0.003099,
     "end_time": "2025-05-09T01:26:18.435657",
     "exception": false,
     "start_time": "2025-05-09T01:26:18.432558",
     "status": "completed"
    },
    "tags": []
   },
   "source": [
    "### Palindrome Check\n",
    "\n",
    "https://leetcode.com/problems/valid-palindrome/description/"
   ]
  },
  {
   "cell_type": "code",
   "execution_count": 5,
   "id": "574cb382",
   "metadata": {
    "execution": {
     "iopub.execute_input": "2025-05-09T01:26:18.443983Z",
     "iopub.status.busy": "2025-05-09T01:26:18.443626Z",
     "iopub.status.idle": "2025-05-09T01:26:18.450592Z",
     "shell.execute_reply": "2025-05-09T01:26:18.449584Z"
    },
    "id": "6U2CDpmrK11c",
    "papermill": {
     "duration": 0.013351,
     "end_time": "2025-05-09T01:26:18.452432",
     "exception": false,
     "start_time": "2025-05-09T01:26:18.439081",
     "status": "completed"
    },
    "tags": []
   },
   "outputs": [],
   "source": [
    "class Solution:\n",
    "    def isPalindrome(self, s):\n",
    "        \"\"\"\n",
    "        :type s: str\n",
    "        :rtype: bool\n",
    "        \"\"\"\n",
    "        cs=[i.lower() for i in s if i.isalnum()]#.join(\"\")\n",
    "        lcs=len(cs)\n",
    "        if lcs==0:\n",
    "          return True\n",
    "        def rec_pal_check(i):\n",
    "\n",
    "          if cs[lcs-1-i]!=cs[i]:\n",
    "            return False\n",
    "          if i==lcs//2:\n",
    "\n",
    "            return True\n",
    "          return rec_pal_check(i+1)\n",
    "        return rec_pal_check(0)\n",
    "\n"
   ]
  },
  {
   "cell_type": "code",
   "execution_count": 6,
   "id": "f14d7fe3",
   "metadata": {
    "colab": {
     "base_uri": "https://localhost:8080/"
    },
    "execution": {
     "iopub.execute_input": "2025-05-09T01:26:18.461077Z",
     "iopub.status.busy": "2025-05-09T01:26:18.460698Z",
     "iopub.status.idle": "2025-05-09T01:26:18.467249Z",
     "shell.execute_reply": "2025-05-09T01:26:18.466164Z"
    },
    "id": "vKdsiOAFN45q",
    "outputId": "58684aad-9854-4c01-dc5b-11ce4da214c1",
    "papermill": {
     "duration": 0.012933,
     "end_time": "2025-05-09T01:26:18.468970",
     "exception": false,
     "start_time": "2025-05-09T01:26:18.456037",
     "status": "completed"
    },
    "tags": []
   },
   "outputs": [
    {
     "name": "stdout",
     "output_type": "stream",
     "text": [
      "True\n"
     ]
    }
   ],
   "source": [
    "k=Solution()\n",
    "out=k.isPalindrome( \"            !@#@    \")\n",
    "print(out)"
   ]
  },
  {
   "cell_type": "markdown",
   "id": "ab4f8863",
   "metadata": {
    "id": "wTRPYoJsQ-gG",
    "papermill": {
     "duration": 0.003349,
     "end_time": "2025-05-09T01:26:18.476093",
     "exception": false,
     "start_time": "2025-05-09T01:26:18.472744",
     "status": "completed"
    },
    "tags": []
   },
   "source": [
    "### Fibonacci Number\n",
    "https://leetcode.com/problems/fibonacci-number/"
   ]
  },
  {
   "cell_type": "code",
   "execution_count": 7,
   "id": "63a1db8f",
   "metadata": {
    "execution": {
     "iopub.execute_input": "2025-05-09T01:26:18.484822Z",
     "iopub.status.busy": "2025-05-09T01:26:18.484483Z",
     "iopub.status.idle": "2025-05-09T01:26:18.490359Z",
     "shell.execute_reply": "2025-05-09T01:26:18.489149Z"
    },
    "id": "uFM5am8sRA-f",
    "papermill": {
     "duration": 0.012377,
     "end_time": "2025-05-09T01:26:18.492154",
     "exception": false,
     "start_time": "2025-05-09T01:26:18.479777",
     "status": "completed"
    },
    "tags": []
   },
   "outputs": [],
   "source": [
    "class Solution(object):\n",
    "    def fib(self, n):\n",
    "        \"\"\"\n",
    "        :type n: int\n",
    "        :rtype: int\n",
    "        \"\"\"\n",
    "\n",
    "        def fibo(a,b,n):\n",
    "          if n==0:\n",
    "            return a\n",
    "          b,a=a+b,b\n",
    "          return fibo(a,b,n-1)\n",
    "        return fibo(0,1,n)"
   ]
  },
  {
   "cell_type": "code",
   "execution_count": 8,
   "id": "612d5eec",
   "metadata": {
    "colab": {
     "base_uri": "https://localhost:8080/"
    },
    "execution": {
     "iopub.execute_input": "2025-05-09T01:26:18.501054Z",
     "iopub.status.busy": "2025-05-09T01:26:18.500696Z",
     "iopub.status.idle": "2025-05-09T01:26:18.507036Z",
     "shell.execute_reply": "2025-05-09T01:26:18.506129Z"
    },
    "id": "rYBw1oI1R_Kv",
    "outputId": "13e63e3c-f1b1-4d87-9cbc-187c6a161c18",
    "papermill": {
     "duration": 0.012539,
     "end_time": "2025-05-09T01:26:18.508540",
     "exception": false,
     "start_time": "2025-05-09T01:26:18.496001",
     "status": "completed"
    },
    "tags": []
   },
   "outputs": [
    {
     "data": {
      "text/plain": [
       "3"
      ]
     },
     "execution_count": 8,
     "metadata": {},
     "output_type": "execute_result"
    }
   ],
   "source": [
    "s=Solution()\n",
    "s.fib(4)"
   ]
  },
  {
   "cell_type": "markdown",
   "id": "251616c8",
   "metadata": {
    "id": "0WsyGJQDSxET",
    "papermill": {
     "duration": 0.003362,
     "end_time": "2025-05-09T01:26:18.515865",
     "exception": false,
     "start_time": "2025-05-09T01:26:18.512503",
     "status": "completed"
    },
    "tags": []
   },
   "source": [
    "## Learn Basic Hashing"
   ]
  },
  {
   "cell_type": "markdown",
   "id": "0f77a7e7",
   "metadata": {
    "id": "zRnjwSQBS3G5",
    "papermill": {
     "duration": 0.003195,
     "end_time": "2025-05-09T01:26:18.522745",
     "exception": false,
     "start_time": "2025-05-09T01:26:18.519550",
     "status": "completed"
    },
    "tags": []
   },
   "source": [
    "### Frequency of the Most Frequent Element (HARD)\n",
    "https://leetcode.com/problems/frequency-of-the-most-frequent-element/description/"
   ]
  },
  {
   "cell_type": "code",
   "execution_count": null,
   "id": "8b2791b6",
   "metadata": {
    "execution": {
     "iopub.execute_input": "2025-05-09T01:26:18.532007Z",
     "iopub.status.busy": "2025-05-09T01:26:18.531679Z",
     "iopub.status.idle": "2025-05-09T01:26:18.538580Z",
     "shell.execute_reply": "2025-05-09T01:26:18.537511Z"
    },
    "id": "z6UcSmH3S1yo",
    "papermill": {
     "duration": 0.013393,
     "end_time": "2025-05-09T01:26:18.540477",
     "exception": false,
     "start_time": "2025-05-09T01:26:18.527084",
     "status": "completed"
    },
    "tags": []
   },
   "outputs": [],
   "source": [
    "#why this works but mine didn't?\n",
    "class Solution(object):\n",
    "    def maxFrequency(self, nums, k):\n",
    "        \"\"\"\n",
    "        :type nums: List[int]\n",
    "        :type k: int\n",
    "        :rtype: int\n",
    "        \"\"\"\n",
    "        nums.sort()\n",
    "        length_nums = len(nums)\n",
    "\n",
    "        total_cost_till_now = 0\n",
    "        start = 0\n",
    "        maximum_length_subarray = 0\n",
    "\n",
    "        for end in range(length_nums):\n",
    "            # Accumulate the total cost to make nums[start:end+1] all equal to nums[end]\n",
    "            total_cost_till_now += (nums[end] - nums[end - 1]) * (end - start) if end > 0 else 0\n",
    "\n",
    "            # If cost exceeds k, shrink the window\n",
    "            while total_cost_till_now > k:\n",
    "                total_cost_till_now -= nums[end] - nums[start]\n",
    "                start += 1\n",
    "\n",
    "            # Update max window size\n",
    "            maximum_length_subarray = max(maximum_length_subarray, end - start + 1)\n",
    "\n",
    "        return maximum_length_subarray"
   ]
  },
  {
   "cell_type": "code",
   "execution_count": null,
   "id": "ad51f754",
   "metadata": {
    "execution": {
     "iopub.execute_input": "2025-05-09T01:26:18.550108Z",
     "iopub.status.busy": "2025-05-09T01:26:18.549782Z",
     "iopub.status.idle": "2025-05-09T01:26:18.557344Z",
     "shell.execute_reply": "2025-05-09T01:26:18.556092Z"
    },
    "id": "ytgHczts_uWz",
    "papermill": {
     "duration": 0.014344,
     "end_time": "2025-05-09T01:26:18.559099",
     "exception": false,
     "start_time": "2025-05-09T01:26:18.544755",
     "status": "completed"
    },
    "tags": []
   },
   "outputs": [],
   "source": [
    "class Solution(object):\n",
    "    def maxFrequency(self, nums, k):\n",
    "        \"\"\"\n",
    "        :type nums: List[int]\n",
    "        :type k: int\n",
    "        :rtype: int\n",
    "        \"\"\"\n",
    "        lee=0\n",
    "        tctn=0\n",
    "        mla=1\n",
    "        nums.sort()\n",
    "        for ep in range(len(nums)):\n",
    "            tctn+= (nums[ep]-nums[ep-1])*(ep-lee) if ep>0 else 0\n",
    "            while tctn>k:\n",
    "                tctn-=(nums[ep]-nums[lee])\n",
    "                lee+=1\n",
    "            mla=max(mla,ep-lee+1)\n",
    "        return mla\n",
    "            \n",
    "\n",
    "        "
   ]
  },
  {
   "cell_type": "code",
   "execution_count": null,
   "id": "cfa11dec",
   "metadata": {
    "colab": {
     "base_uri": "https://localhost:8080/"
    },
    "execution": {
     "iopub.execute_input": "2025-05-09T01:26:18.569343Z",
     "iopub.status.busy": "2025-05-09T01:26:18.568975Z",
     "iopub.status.idle": "2025-05-09T01:26:18.649038Z",
     "shell.execute_reply": "2025-05-09T01:26:18.647645Z"
    },
    "id": "bul1G40x6jBG",
    "outputId": "a7dda1a1-4bee-456f-a9a0-d473876bae96",
    "papermill": {
     "duration": 0.086732,
     "end_time": "2025-05-09T01:26:18.650482",
     "exception": true,
     "start_time": "2025-05-09T01:26:18.563750",
     "status": "failed"
    },
    "tags": []
   },
   "outputs": [],
   "source": [
    "s=Solution()\n",
    "arr=[3,6,9]#[9926,9960,10000,9992,9917,9986,9934,9985,9977,9950,9922,9913,9971,9978,9984,9959,9934,9948,9918,9916,9967,9965,9985,9977,9988,9983,9900,9945,9913,9966,9968,9986,9939,9914,9980,9957,9921,9927,9917,9972,9974,9953,9984,9912,9975,9920,9966,9932,9921,9904,9928,9959,9993,9937,9934,9974,9937,9964,9922,9963,9991,9930,9944,9930,9982,9980,9967,9904,9955,9947,9924,9973,9997,9950,9905,9924,9990,9947,9953,9924,9977,9938,9951,9982,9932,9926,9928,9912,9917,9929,9924,9921,9987,9910,9927,9921,9929,9937,9919,9995,9949,9953]\n",
    "k=2\n",
    "s.maxFrequency(nums=arr,k=k)"
   ]
  },
  {
   "cell_type": "markdown",
   "id": "a1865b8f",
   "metadata": {},
   "source": [
    "# Learn sorting techniques"
   ]
  },
  {
   "cell_type": "markdown",
   "id": "e23459f2",
   "metadata": {},
   "source": [
    "## Sorting - 1"
   ]
  },
  {
   "cell_type": "markdown",
   "id": "5a4766f2",
   "metadata": {},
   "source": [
    "### Selection Sort"
   ]
  },
  {
   "cell_type": "code",
   "execution_count": null,
   "id": "3e353bc2",
   "metadata": {},
   "outputs": [
    {
     "ename": "",
     "evalue": "",
     "output_type": "error",
     "traceback": [
      "\u001b[1;31mRunning cells with 'base (Python 3.13.2)' requires the ipykernel package.\n",
      "\u001b[1;31m<a href='command:jupyter.createPythonEnvAndSelectController'>Create a Python Environment</a> with the required packages.\n",
      "\u001b[1;31mOr install 'ipykernel' using the command: 'conda install -n base ipykernel --update-deps --force-reinstall'"
     ]
    }
   ],
   "source": [
    "def selection_sort(arr):\n",
    "\n",
    "    behind_index=0\n",
    "    moving_index=1\n",
    "    l_arr=len(arr)\n",
    "    if l_arr==0: return\n",
    "    min_number=arr[0]\n",
    "    min_number_index=0\n",
    "    while behind_index<l_arr-1:\n",
    "        if arr[moving_index]<min_number:\n",
    "            min_number=arr[moving_index]\n",
    "            min_number_index=moving_index\n",
    "        if moving_index==l_arr-1:\n",
    "            arr[behind_index],arr[min_number_index]=arr[min_number_index],arr[behind_index]\n",
    "            behind_index+=1\n",
    "            moving_index=behind_index#+1\n",
    "            min_number=arr[behind_index]\n",
    "            min_number_index=behind_index\n",
    "        moving_index+=1\n",
    "    # print(arr)\n",
    "        # print(\"behind_index = \",behind_index)\n",
    "        # print(\"moving_index = \",moving_index)\n",
    "        # print(\"min_number = \",min_number)\n",
    "        # print(\"min_number_index = \",min_number_index)\n",
    "        # print(\"____________________________________\")\n",
    "              \n",
    "\n",
    "\n"
   ]
  },
  {
   "cell_type": "code",
   "execution_count": null,
   "id": "5afb1ce1",
   "metadata": {},
   "outputs": [],
   "source": [
    "import random\n",
    "arr = random.sample(range(-1000, 1000), 100)  # 100 unique random numbers\n",
    "expected = sorted(arr)\n",
    "selection_sort(arr)\n",
    "print(arr == expected)  # Expected: True"
   ]
  },
  {
   "cell_type": "markdown",
   "id": "fa82d87d",
   "metadata": {},
   "source": [
    "### Bubble sort"
   ]
  },
  {
   "cell_type": "code",
   "execution_count": null,
   "id": "d991cfff",
   "metadata": {},
   "outputs": [],
   "source": [
    "def bubble_sort(arr):\n",
    "  i,l=0,len(arr)-1\n",
    "  flag=0\n",
    "  while l>0 :\n",
    "    if i<l:\n",
    "      if arr[i]>arr[i+1]:\n",
    "        arr[i],arr[i+1]=arr[i+1],arr[i]\n",
    "        flag=1\n",
    "      i+=1   \n",
    "    else:\n",
    "      if flag==0:\n",
    "        print(\"array sorted early\")\n",
    "        return\n",
    "      flag=0\n",
    "      i=0\n",
    "      l-=1"
   ]
  },
  {
   "cell_type": "code",
   "execution_count": null,
   "id": "36dc95f5",
   "metadata": {},
   "outputs": [],
   "source": [
    "def bubble_sort(arr):\n",
    "    l=len(arr)-1\n",
    "    swapped=False\n",
    "    while l>0:\n",
    "        for i in range(l):\n",
    "            if arr[i]>arr[i+1]:\n",
    "                arr[i],arr[i+1]=arr[i+1],arr[i]\n",
    "                swapped = True\n",
    "        if not swapped:\n",
    "            return\n",
    "        swapped = False \n",
    "        l-=1\n",
    "\n"
   ]
  },
  {
   "cell_type": "code",
   "execution_count": null,
   "id": "f29f42c8",
   "metadata": {},
   "outputs": [],
   "source": [
    "arr = [76,43,1,45,77,54,33,28]\n",
    "bubble_sort(arr)\n",
    "print(arr)"
   ]
  },
  {
   "cell_type": "markdown",
   "id": "9fdcafba",
   "metadata": {},
   "source": [
    "### Insertion Sort"
   ]
  },
  {
   "cell_type": "code",
   "execution_count": null,
   "id": "c471c064",
   "metadata": {},
   "outputs": [],
   "source": [
    "def insertion_sort(arr):\n",
    "  i,t=1,0\n",
    "  l_i=len(arr)-1\n",
    "  while t<l_i:\n",
    "    if arr[i]<arr[i-1]:\n",
    "      arr[i],arr[i-1]=arr[i-1],arr[i]\n",
    "    else:\n",
    "      t+=1\n",
    "      i=t+1\n",
    "      continue\n",
    "    i-=1\n",
    "    if i==0:\n",
    "      t+=1\n",
    "      i=t+1\n",
    "\n"
   ]
  },
  {
   "cell_type": "code",
   "execution_count": null,
   "id": "cc7fe2b2",
   "metadata": {},
   "outputs": [],
   "source": [
    "def insertion_sort(arr):\n",
    "    l=len(arr)\n",
    "    t=0\n",
    "    while t<l-1:\n",
    "        i=t+1\n",
    "        while i!=0:\n",
    "            if arr[i]<arr[i-1]:\n",
    "                arr[i],arr[i-1]=arr[i-1],arr[i]\n",
    "            else: break\n",
    "            i-=1\n",
    "        t+=1"
   ]
  },
  {
   "cell_type": "markdown",
   "id": "ec680890",
   "metadata": {},
   "source": [
    "## Sorting 2"
   ]
  },
  {
   "cell_type": "markdown",
   "id": "7bba40cb",
   "metadata": {},
   "source": [
    "### Merge Sort"
   ]
  },
  {
   "cell_type": "code",
   "execution_count": null,
   "id": "844cd706",
   "metadata": {},
   "outputs": [
    {
     "ename": "",
     "evalue": "",
     "output_type": "error",
     "traceback": [
      "\u001b[1;31mRunning cells with 'base (Python 3.13.2)' requires the ipykernel package.\n",
      "\u001b[1;31m<a href='command:jupyter.createPythonEnvAndSelectController'>Create a Python Environment</a> with the required packages.\n",
      "\u001b[1;31mOr install 'ipykernel' using the command: 'conda install -n base ipykernel --update-deps --force-reinstall'"
     ]
    }
   ],
   "source": [
    "def merge_sort(arr,start_p=0,end_p=len(arr)-1):\n",
    "  def merge(arr,start,mid,end):\n",
    "    dup = arr[mid:end+1]\n",
    "    arr_ind = mid-1\n",
    "    dup_ind = len(dup)-1\n",
    "    arr_free_ind=end\n",
    "    while arr_ind>=start and dup_ind>=0:\n",
    "      if arr[arr_ind]>dup[dup_ind]:\n",
    "        arr[arr_free_ind] = arr[arr_ind]\n",
    "        arr_ind-=1\n",
    "      else:\n",
    "        arr[arr_free_ind] = dup[dup_ind]\n",
    "        dup_ind-=1\n",
    "      arr_free_ind-=1\n",
    "    if dup_ind>=0:\n",
    "      arr[start:start+dup_ind+1] = dup[:dup_ind+1]\n",
    "\n",
    "\n",
    "\n",
    "  l_a=end_p-start_p+1\n",
    "  if l_a==1:\n",
    "    return \n",
    "  size_of_sub_arrays=1\n",
    "  while size_of_sub_arrays<l_a:\n",
    "    for i in range(0,l_a,2*size_of_sub_arrays):\n",
    "      start=start_p+i\n",
    "      mid = min(start+size_of_sub_arrays,end_p+1)\n",
    "      end = min(start+2*size_of_sub_arrays,end_p+1)-1\n",
    "      merge(arr,start,mid,end)\n",
    "    size_of_sub_arrays*=2"
   ]
  },
  {
   "cell_type": "code",
   "execution_count": null,
   "id": "73a9eb21",
   "metadata": {},
   "outputs": [],
   "source": [
    "def merge(arr,start,mid,end):\n",
    "    dup = arr[mid:end+1]\n",
    "    arr_ind = mid-1\n",
    "    dup_ind = len(dup)-1\n",
    "    arr_free_ind=end\n",
    "    while arr_ind>=start and dup_ind>=0:\n",
    "      if arr[arr_ind]>dup[dup_ind]:\n",
    "        arr[arr_free_ind] = arr[arr_ind]\n",
    "        arr_ind-=1\n",
    "      else:\n",
    "        arr[arr_free_ind] = dup[dup_ind]\n",
    "        dup_ind-=1\n",
    "      arr_free_ind-=1\n",
    "    if dup_ind>=0:\n",
    "      arr[start:start+dup_ind+1] = dup[:dup_ind+1]\n",
    "\n",
    "def merge_sort(arr,start,end):\n",
    "    if start==end:\n",
    "       return\n",
    "    mid = (start+end)//2\n",
    "    merge_sort(arr,start,mid)\n",
    "    merge_sort(arr,mid+1,end)\n",
    "    merge(arr,start,mid+1,end)"
   ]
  },
  {
   "cell_type": "code",
   "execution_count": null,
   "id": "151613b8",
   "metadata": {},
   "outputs": [],
   "source": [
    "def merge_sort(arr,start_p,end_p):\n",
    "  assert isinstance(start_p, int)\n",
    "  assert isinstance(end_p, int)\n",
    "  def merge(arr,start,mid,end):\n",
    "    dup = arr[mid:end+1]\n",
    "    arr_ind = mid-1\n",
    "    dup_ind = len(dup)-1\n",
    "    arr_free_ind=end\n",
    "    while arr_ind>=start and dup_ind>=0:\n",
    "      if arr[arr_ind]>dup[dup_ind]:\n",
    "        arr[arr_free_ind] = arr[arr_ind]\n",
    "        arr_ind-=1\n",
    "      else:\n",
    "        arr[arr_free_ind] = dup[dup_ind]\n",
    "        dup_ind-=1\n",
    "      arr_free_ind-=1\n",
    "    if dup_ind>=0:\n",
    "      arr[start:start+dup_ind+1] = dup[:dup_ind+1]\n",
    "\n",
    "\n",
    "\n",
    "  l_a=end_p-start_p+1\n",
    "  if l_a==1:\n",
    "    return \n",
    "  subarray_size = 1\n",
    "  while subarray_size < l_a:\n",
    "        i = start_p\n",
    "        while i <= end_p:\n",
    "            start = i\n",
    "            mid = min(i + subarray_size, end_p + 1)\n",
    "            end = min(i + 2 * subarray_size - 1, end_p)\n",
    "\n",
    "            if mid <= end:  # Only merge if there's something on the right\n",
    "                merge(arr, start, mid, end)\n",
    "\n",
    "            i += 2 * subarray_size\n",
    "        subarray_size *= 2"
   ]
  },
  {
   "cell_type": "markdown",
   "id": "653c306b",
   "metadata": {},
   "source": [
    "### Recursive Bubble sort\n"
   ]
  },
  {
   "cell_type": "code",
   "execution_count": null,
   "id": "182dd6d5",
   "metadata": {},
   "outputs": [],
   "source": [
    "def recursive_bubble_sort(arr,l=len(arr)):\n",
    "  if l==0:\n",
    "    return\n",
    "  for i in range(l-1):\n",
    "    if arr[i]>arr[i+1]:\n",
    "      arr[i],arr[i+1]=arr[i+1],arr[i]\n",
    "  recursive_bubble_sort(arr,l-1)"
   ]
  },
  {
   "cell_type": "markdown",
   "id": "f1347f58",
   "metadata": {},
   "source": [
    "### Quick Sort"
   ]
  },
  {
   "cell_type": "code",
   "execution_count": null,
   "id": "03586009",
   "metadata": {},
   "outputs": [],
   "source": [
    "from random import randint\n",
    "def partition(arr,low,high,pivot_index):\n",
    "    arr[high],arr[pivot_index]=arr[pivot_index],arr[high]\n",
    "    pivot=arr[high]\n",
    "    trail=low\n",
    "    for mov in range(low,high):\n",
    "        if arr[mov]<=pivot:\n",
    "            arr[trail],arr[mov]=arr[mov],arr[trail]\n",
    "            trail+=1\n",
    "    arr[trail], arr[high] = arr[high], arr[trail]\n",
    "    return trail\n",
    "def quick_sort( nums):\n",
    "\n",
    "    \"\"\"\n",
    "    :type nums: List[int]\n",
    "    :rtype: List[int]\n",
    "    \"\"\"\n",
    "\n",
    "    stack=[(0,len(nums)-1)]\n",
    "    while stack:\n",
    "        low,high=stack.pop()\n",
    "        if low>=high:\n",
    "            continue\n",
    "        pv=randint(low,high)\n",
    "        pivot_index=partition(nums,low,high,pv)\n",
    "        if pivot_index-1>low:stack.append((low,pivot_index-1))\n",
    "        if pivot_index+1<high:stack.append((pivot_index+1,high))\n",
    "    return nums"
   ]
  },
  {
   "cell_type": "markdown",
   "id": "9e03fd02",
   "metadata": {},
   "source": [
    "# Arrays"
   ]
  },
  {
   "cell_type": "markdown",
   "id": "2cb0ddd8",
   "metadata": {},
   "source": [
    "## Easy"
   ]
  },
  {
   "cell_type": "markdown",
   "id": "283251be",
   "metadata": {},
   "source": [
    "### Check if Array Is Sorted and Rotated"
   ]
  },
  {
   "cell_type": "code",
   "execution_count": null,
   "id": "56ab0fd7",
   "metadata": {},
   "outputs": [
    {
     "ename": "",
     "evalue": "",
     "output_type": "error",
     "traceback": [
      "\u001b[1;31mRunning cells with 'base (Python 3.13.2)' requires the ipykernel package.\n",
      "\u001b[1;31m<a href='command:jupyter.createPythonEnvAndSelectController'>Create a Python Environment</a> with the required packages.\n",
      "\u001b[1;31mOr install 'ipykernel' using the command: 'conda install -n base ipykernel --update-deps --force-reinstall'"
     ]
    }
   ],
   "source": [
    "# Reasoning If an array is rotated and was sorted the no of indexes where arr[i]>arr[i+1] will only be 1 and if it was rotated the arr[0]>=arr[-1]\n",
    "# if the array was not sorted and we encounter more than 1 point where arr[i]>arr[i+1] return false and in the case where arr[i]>arr[i+1] =1 but nums[0]<nums[-1] we return False\n",
    "class Solution(object):\n",
    "    def check(self, nums):\n",
    "        \"\"\"\n",
    "        :type nums: List[int]\n",
    "        :rtype: bool\n",
    "        \"\"\"\n",
    "        if not nums:\n",
    "            return False\n",
    "        if len(nums)==1:\n",
    "            return True\n",
    "\n",
    "        nrp=0\n",
    "\n",
    "        for i in range(0,len(nums)-1):\n",
    "            if nums[i]> nums[i+1]:\n",
    "                nrp+=1\n",
    "                if nrp>1:\n",
    "                    return False\n",
    "        if nrp==0: return True\n",
    "        if nrp==1 and nums[0]>=nums[-1]: return True\n",
    "        return False"
   ]
  },
  {
   "cell_type": "markdown",
   "id": "c80508d7",
   "metadata": {},
   "source": [
    "### Remove Duplicates from Sorted Array"
   ]
  },
  {
   "cell_type": "code",
   "execution_count": null,
   "id": "2456b726",
   "metadata": {},
   "outputs": [],
   "source": [
    "# ## [1,1,1,1,2,2,2,3,3,4,4,5] 1,1\n",
    "# [1,-1,1,1,2,2,2,3,3,4,4,5] 2,1\n",
    "# [1,-1,-1,1,2,2,2,3,3,4,4,5] 3,1\n",
    "# [1,-1,-1,-1,2,2,2,3,3,4,4,5] 4,1\n",
    "# [1,2,-1,-1,-1,-2,2,3,3,4,4,5] 6,2\n",
    "# [1,2,-1,-1,-1,-2,-2,3,3,4,4,5] 7,2\n",
    "# [1,2,3,-1,-1,-2,-2,-1,-3,4,4,5] 9,3\n",
    "# [1,2,3,4,-1,-2,-2,-1,-3,-1,-4,5] 11,4\n",
    "# [1,2,3,4,-1,-2,-2,-1,-3,-1,-4,5] 11,4"
   ]
  },
  {
   "cell_type": "code",
   "execution_count": null,
   "id": "3db34a5e",
   "metadata": {},
   "outputs": [],
   "source": [
    "def removeDuplicates(nums):\n",
    "  l_a=len(nums)-1\n",
    "  if l_a==0:\n",
    "    return\n",
    "  if l_a==1:\n",
    "    if nums[0]==nums[1]:\n",
    "       nums[1]*=-1\n",
    "       return\n",
    "  i,j=1,1\n",
    "  l_a=len(nums)-1\n",
    "  while i<l_a:\n",
    "      if nums[i]==int(nums[i-1]):\n",
    "          \n",
    "          nums[i]=str(nums[i])\n",
    "          i+=1\n",
    "      elif nums[i]!=int(nums[i-1]):\n",
    "          if nums[i]==nums[i+1]:\n",
    "              nums[i+1]=str(nums[i+1])\n",
    "              nums[j],nums[i]=nums[i],nums[j]\n",
    "              j+=1\n",
    "              i+=2\n",
    "          else:\n",
    "              nums[j],nums[i]=nums[i],nums[j]\n",
    "              j+=1\n",
    "              i+=1\n",
    "          while type(nums[j])==int and j<i:\n",
    "            j+=1\n",
    "            if j>l_a:\n",
    "              return\n",
    "      #print(i,j)\n",
    "  if i<=l_a and j<=l_a:\n",
    "    nums[j],nums[i]=nums[i],nums[j]\n",
    "    for con in range(j+1,len(nums)):\n",
    "      nums[con]=int(nums[con])\n",
    "  # print(i,j)\n",
    "  # print(nums)"
   ]
  },
  {
   "cell_type": "code",
   "execution_count": null,
   "id": "96e28323",
   "metadata": {},
   "outputs": [],
   "source": [
    "def removeDuplicates(nums):\n",
    "  l_a=len(nums)-1\n",
    "  if l_a==0:\n",
    "    return\n",
    "  if l_a==1:\n",
    "    if nums[0]==nums[1]:\n",
    "       nums[1]*=-1\n",
    "       return\n",
    "  i,j=1,1\n",
    "  l_a=len(nums)-1\n",
    "  while i<l_a:\n",
    "      if nums[i]==int(nums[i-1]):\n",
    "          \n",
    "          nums[i]=str(nums[i])\n",
    "          i+=1\n",
    "      elif nums[i]!=int(nums[i-1]):\n",
    "          if nums[i]==nums[i+1]:\n",
    "              nums[i+1]=str(nums[i+1])\n",
    "              nums[j],nums[i]=nums[i],nums[j]\n",
    "              j+=1\n",
    "              i+=2\n",
    "          else:\n",
    "              nums[j],nums[i]=nums[i],nums[j]\n",
    "              j+=1\n",
    "              i+=1\n",
    "          while type(nums[j])==int and j<i:\n",
    "            j+=1\n",
    "            if j>l_a:\n",
    "              return\n",
    "      #print(i,j)\n",
    "  if i<=l_a and j<=l_a:\n",
    "    nums[j],nums[i]=nums[i],nums[j]\n",
    "    for con in range(j+1,len(nums)):\n",
    "      nums[con]=int(nums[con])\n",
    "  # print(i,j)\n",
    "  # print(nums)"
   ]
  },
  {
   "cell_type": "code",
   "execution_count": null,
   "id": "7da37b7a",
   "metadata": {},
   "outputs": [],
   "source": [
    "class Solution(object):\n",
    "    def removeDuplicates(self, nums):\n",
    "        # if not nums:\n",
    "        #     return 0\n",
    "        \n",
    "        n = len(nums)\n",
    "        # if n == 1:\n",
    "        #     return 1\n",
    "        j = 1\n",
    "        for i in range(1, n):\n",
    "            if nums[i] != nums[i - 1]:\n",
    "                nums[j] = nums[i]\n",
    "                j += 1\n",
    "\n",
    "        return j\n",
    "            \n",
    "\n",
    "        "
   ]
  },
  {
   "cell_type": "markdown",
   "id": "45acb73f",
   "metadata": {},
   "source": [
    "### Rotate Array by k\n",
    "https://leetcode.com/problems/rotate-array/description/"
   ]
  },
  {
   "cell_type": "code",
   "execution_count": null,
   "id": "76b4483f",
   "metadata": {},
   "outputs": [],
   "source": [
    "import math\n",
    "# O(n) + O(1) but only for positive numbers\n",
    "def rotate_by_k(arr,k):\n",
    "  index,r_element=0,arr[0]\n",
    "  la=len(arr)\n",
    "  k=k%la\n",
    "  for _ in range(la):\n",
    "    next_index=(k+index)%la\n",
    "    if arr[next_index]<0 or arr[next_index]==-math.inf: \n",
    "      index+=1\n",
    "      r_element=arr[index]\n",
    "      next_index=(k+index)%la\n",
    "\n",
    "    r_element,arr[next_index] = arr[next_index],r_element\n",
    "    if arr[next_index]==0:\n",
    "      arr[next_index]=-math.inf\n",
    "    else:\n",
    "      arr[next_index]*=-1\n",
    "\n",
    "    index=next_index\n",
    "  for i in range(la):\n",
    "    if arr[i]==-math.inf:\n",
    "      arr[i]=0\n",
    "    else:\n",
    "      arr[i]*=-1"
   ]
  },
  {
   "cell_type": "code",
   "execution_count": null,
   "id": "92f11692",
   "metadata": {},
   "outputs": [],
   "source": [
    "\n",
    "# O(n) + O(1)\n",
    "def rotate_by_k(arr,k):\n",
    "  index,r_element=0,arr[0]\n",
    "  la=len(arr)\n",
    "  k=k%la\n",
    "  for _ in range(la):\n",
    "    next_index=(k+index)%la\n",
    "    if type(arr[next_index])==float: \n",
    "      index+=1\n",
    "      r_element=arr[index]\n",
    "      next_index=(k+index)%la\n",
    "\n",
    "    r_element,arr[next_index] = arr[next_index],r_element\n",
    "    arr[next_index]=float(arr[next_index])\n",
    "\n",
    "    index=next_index\n",
    "  for i in range(la):\n",
    "    arr[i]=int(arr[i])\n"
   ]
  },
  {
   "cell_type": "code",
   "execution_count": null,
   "id": "ea295a16",
   "metadata": {},
   "outputs": [],
   "source": [
    "#most optimal solution\n",
    "def rotate_by_k(arr,k):\n",
    "    la=len(arr)\n",
    "    k=k%la\n",
    "    mov=0\n",
    "    for cycle in range(la):\n",
    "        if mov>=la:\n",
    "            break\n",
    "        index,re_element=cycle,arr[cycle]\n",
    "        while True:\n",
    "            next_index=(k+index)%la\n",
    "            re_element,arr[next_index]=arr[next_index],re_element\n",
    "            index=next_index\n",
    "            mov+=1\n",
    "            if index == cycle:\n",
    "                break"
   ]
  },
  {
   "cell_type": "markdown",
   "id": "7f723b4d",
   "metadata": {},
   "source": [
    "### Move Zeroes\n"
   ]
  },
  {
   "cell_type": "code",
   "execution_count": null,
   "id": "2d89b5a2",
   "metadata": {},
   "outputs": [],
   "source": [
    "class Solution(object):\n",
    "    def moveZeroes(self, nums):\n",
    "        \"\"\"\n",
    "        :type nums: List[int]\n",
    "        :rtype: None Do not return anything, modify nums in-place instead.\n",
    "        \"\"\"\n",
    "    \n",
    "        j=0\n",
    "        l_a=len(nums)\n",
    "        if l_a==1:\n",
    "            return\n",
    "        for i in range(0,l_a):\n",
    "            if nums[i]>0 or nums[i]<0:\n",
    "                nums[j]=nums[i]\n",
    "                if j<i:nums[i]=0\n",
    "                j+=1\n"
   ]
  },
  {
   "cell_type": "markdown",
   "id": "7b834357",
   "metadata": {},
   "source": [
    "### Missing Number\n",
    "https://leetcode.com/problems/missing-number/"
   ]
  },
  {
   "cell_type": "code",
   "execution_count": null,
   "id": "90cf063b",
   "metadata": {},
   "outputs": [],
   "source": [
    "class Solution(object):\n",
    "    def missingNumber(self, nums):\n",
    "        \"\"\"\n",
    "        :type nums: List[int]\n",
    "        :rtype: int\n",
    "        \"\"\"\n",
    "        n=len(nums)\n",
    "        mn=(n*(n+1))/2\n",
    "        mn = mn - sum(nums)\n",
    "        #for i in nums: mn-=i\n",
    "\n",
    "        return mn\n",
    "        "
   ]
  },
  {
   "cell_type": "markdown",
   "id": "e17ba464",
   "metadata": {},
   "source": [
    "### Max Consecutive Ones\n",
    "https://leetcode.com/problems/max-consecutive-ones/"
   ]
  },
  {
   "cell_type": "code",
   "execution_count": null,
   "id": "efc8e9ac",
   "metadata": {},
   "outputs": [],
   "source": [
    "class Solution(object):\n",
    "    def findMaxConsecutiveOnes(self, nums):\n",
    "        \"\"\"\n",
    "        :type nums: List[int]\n",
    "        :rtype: int\n",
    "        \"\"\"\n",
    "        l_a=len(nums)\n",
    "        m_o=0\n",
    "        m_t=0\n",
    "        for i in range(l_a):\n",
    "            if nums[i]==1:\n",
    "                m_o+=1\n",
    "            else:\n",
    "                if m_t<m_o:\n",
    "                    m_t=m_o\n",
    "                m_o=0\n",
    "        if m_t<m_o: m_t=m_o\n",
    "        return m_t"
   ]
  },
  {
   "cell_type": "markdown",
   "id": "aa726dc7",
   "metadata": {},
   "source": [
    "### Single Number\n",
    "https://leetcode.com/problems/single-number/"
   ]
  },
  {
   "cell_type": "code",
   "execution_count": null,
   "id": "1b0bf237",
   "metadata": {},
   "outputs": [],
   "source": [
    "class Solution(object):\n",
    "    def singleNumber(self, nums):\n",
    "        \"\"\"\n",
    "        :type nums: List[int]\n",
    "        :rtype: int\n",
    "        \"\"\"\n",
    "        n=0\n",
    "        for i in nums:\n",
    "            n^=i\n",
    "\n",
    "        return n"
   ]
  },
  {
   "cell_type": "markdown",
   "id": "b5d65bfc",
   "metadata": {},
   "source": [
    "## Medium"
   ]
  },
  {
   "cell_type": "markdown",
   "id": "8962a152",
   "metadata": {},
   "source": [
    "### Two Sum\n",
    "https://leetcode.com/problems/two-sum/"
   ]
  },
  {
   "cell_type": "code",
   "execution_count": null,
   "id": "bc30a990",
   "metadata": {},
   "outputs": [],
   "source": [
    "class Solution(object):\n",
    "    def twoSum(self, nums, target):\n",
    "        \"\"\"\n",
    "        :type nums: List[int]\n",
    "        :type target: int\n",
    "        :rtype: List[int]\n",
    "        \"\"\"\n",
    "        d={}\n",
    "        for i in range(len(nums)):\n",
    "            num =nums[i]\n",
    "            diff=target-num\n",
    "            if num in d:\n",
    "                return [d[num],i]\n",
    "            d[diff] = i"
   ]
  },
  {
   "cell_type": "markdown",
   "id": "2bee5bc7",
   "metadata": {},
   "source": [
    "### Sort Colors\n",
    "https://leetcode.com/problems/sort-colors/description/"
   ]
  },
  {
   "cell_type": "code",
   "execution_count": null,
   "id": "ad72841a",
   "metadata": {},
   "outputs": [],
   "source": [
    "class Solution(object):\n",
    "    def sortColors(self, nums):\n",
    "        \"\"\"\n",
    "        :type nums: List[int]\n",
    "        :rtype: None Do not return anything, modify nums in-place instead.\n",
    "        \"\"\"\n",
    "        # la=len(nums)\n",
    "        # lp=la-1\n",
    "        # sp=0\n",
    "        # mp=0\n",
    "        # while mp<=lp:\n",
    "        #     if nums[mp]==0:\n",
    "        #         nums[sp],nums[mp]=nums[mp],nums[sp]\n",
    "        #         mp+=1\n",
    "        #         sp+=1\n",
    "        #     elif nums[mp]==1:\n",
    "        #         mp+=1\n",
    "        #     else:\n",
    "        #         nums[lp],nums[mp]=nums[mp],nums[lp]\n",
    "        #         lp-=1\n",
    "        la=len(nums)\n",
    "        lp=la-1\n",
    "        sp=0\n",
    "        mp=la-1\n",
    "        while mp>=sp:\n",
    "            if nums[mp]==2:\n",
    "                nums[mp],nums[lp]=nums[lp],nums[mp]\n",
    "                mp-=1\n",
    "                lp-=1\n",
    "            elif nums[mp]==1:\n",
    "                mp-=1\n",
    "            else:\n",
    "                nums[mp],nums[sp]=nums[sp],nums[mp]\n",
    "                sp+=1\n",
    "            "
   ]
  },
  {
   "cell_type": "markdown",
   "id": "a459d2ea",
   "metadata": {},
   "source": [
    "### Majority Element\n",
    "https://leetcode.com/problems/majority-element/description/"
   ]
  },
  {
   "cell_type": "code",
   "execution_count": null,
   "id": "d1ff2989",
   "metadata": {},
   "outputs": [],
   "source": [
    "class Solution(object):\n",
    "    def majorityElement(self, nums):\n",
    "        \"\"\"\n",
    "        :type nums: List[int]\n",
    "        :rtype: int\n",
    "        \"\"\"\n",
    "        "
   ]
  },
  {
   "cell_type": "markdown",
   "id": "fd925b07",
   "metadata": {},
   "source": [
    "### Maximum Subarray Kadane algorithm\n",
    "https://leetcode.com/problems/maximum-subarray/description/?source=submission-ac"
   ]
  },
  {
   "cell_type": "code",
   "execution_count": null,
   "id": "ba354584",
   "metadata": {},
   "outputs": [],
   "source": [
    "class Solution(object):\n",
    "    def maxSubArray(self, nums):\n",
    "        \"\"\"\n",
    "        :type nums: List[int]\n",
    "        :rtype: int\n",
    "        \"\"\"\n",
    "\n",
    "        l_a=len(nums)\n",
    "        sum=nums[0]\n",
    "        max_sum=sum\n",
    "        for i in range(1,l_a):\n",
    "            if sum<0:\n",
    "                sum=0\n",
    "            sum = nums[i]+sum\n",
    "            if sum>max_sum: max_sum=sum\n",
    "        return max_sum\n",
    "\n",
    "        "
   ]
  },
  {
   "cell_type": "markdown",
   "id": "6dd25148",
   "metadata": {},
   "source": [
    "### Best Time to Buy and Sell Stock\n",
    "https://leetcode.com/problems/best-time-to-buy-and-sell-stock/description/"
   ]
  },
  {
   "cell_type": "code",
   "execution_count": null,
   "id": "aff12b77",
   "metadata": {},
   "outputs": [],
   "source": [
    "class Solution(object):\n",
    "    def maxProfit(self, prices):\n",
    "        \"\"\"\n",
    "        :type prices: List[int]\n",
    "        :rtype: int\n",
    "        \"\"\"\n",
    "        # profit=0\n",
    "        # buy=prices[0]\n",
    "        # for price in range(1,len(prices)):\n",
    "        #     if prices[price]<buy:\n",
    "        #         buy=prices[price]\n",
    "        #     elif prices[price]-buy>profit:\n",
    "        #         profit=prices[price]-buy\n",
    "        profit=0\n",
    "        buy=prices[0]\n",
    "        l_a=len(prices)\n",
    "        for i in range(1,l_a):\n",
    "            c=prices[i]\n",
    "            p = c-buy\n",
    "            if p>profit:profit=p\n",
    "            if buy>c: buy=c\n",
    "\n",
    "        return profit"
   ]
  },
  {
   "cell_type": "markdown",
   "id": "de56aa4f",
   "metadata": {},
   "source": [
    "### Rearrange Array Elements by Sign\n"
   ]
  },
  {
   "cell_type": "code",
   "execution_count": null,
   "id": "bf3d58ec",
   "metadata": {},
   "outputs": [],
   "source": [
    "class Solution(object):\n",
    "    def rearrangeArray(self, nums):\n",
    "        \"\"\"\n",
    "        :type nums: List[int]\n",
    "        :rtype: List[int]\n",
    "        \"\"\"\n",
    "        pos = [i for i in nums if i>0]\n",
    "        neg = [i for i in nums if i<0]\n",
    "        l_a=len(nums)\n",
    "        for i in range(l_a//2):\n",
    "            nums[2*i]=pos[i]\n",
    "            nums[2*i+1]=neg[i]\n",
    "        return nums"
   ]
  },
  {
   "cell_type": "markdown",
   "id": "4be7fd7b",
   "metadata": {},
   "source": [
    "### Next Permutation\n",
    "https://leetcode.com/problems/next-permutation/description/"
   ]
  },
  {
   "cell_type": "code",
   "execution_count": null,
   "id": "3f586b4a",
   "metadata": {},
   "outputs": [],
   "source": [
    "class Solution(object):\n",
    "    def nextPermutation(self, nums):\n",
    "        \"\"\"\n",
    "        :type nums: List[int]\n",
    "        :rtype: None Do not return anything, modify nums in-place instead.\n",
    "        \"\"\"\n",
    "        l_a=len(nums)\n",
    "        i=l_a-2\n",
    "        while nums[i]>=nums[i+1] and i>=0 :i-=1\n",
    "        if i<0: \n",
    "            nums.reverse()\n",
    "            return        \n",
    "        num=nums[i]\n",
    "        j=l_a-1\n",
    "        while nums[j]<=num:j-=1\n",
    "        nums[i],nums[j]=nums[j],nums[i]\n",
    "        l,r=i+1,l_a-1\n",
    "        while r>l:\n",
    "            nums[l],nums[r]=nums[r],nums[l]\n",
    "            r-=1\n",
    "            l+=1"
   ]
  },
  {
   "cell_type": "markdown",
   "id": "96b2d906",
   "metadata": {},
   "source": [
    "### Longest Consecutive Sequence\n",
    "https://leetcode.com/problems/longest-consecutive-sequence/submissions/1741795673/"
   ]
  },
  {
   "cell_type": "code",
   "execution_count": null,
   "id": "a351d39f",
   "metadata": {},
   "outputs": [],
   "source": [
    "class Solution(object):\n",
    "    def longestConsecutive(self, nums):\n",
    "        \"\"\"\n",
    "        :type nums: List[int]\n",
    "        :rtype: int\n",
    "        \"\"\"\n",
    "        if not nums: return 0\n",
    "        seen =set(nums)\n",
    "        ssn=[i for i in seen if i-1 not in seen ]\n",
    "        msl=1\n",
    "        for i in ssn:\n",
    "            k=i\n",
    "            while k+1 in seen: k+=1\n",
    "            if k-i+1>msl: msl=k-i+1\n",
    "        return msl \n",
    "                "
   ]
  },
  {
   "cell_type": "markdown",
   "id": "6b21617a",
   "metadata": {},
   "source": [
    "### Set Matrix Zeroes\n",
    "https://leetcode.com/problems/set-matrix-zeroes/description/"
   ]
  },
  {
   "cell_type": "code",
   "execution_count": null,
   "id": "45237535",
   "metadata": {},
   "outputs": [],
   "source": [
    "class Solution(object):\n",
    "    def setZeroes(self, matrix):\n",
    "        \"\"\"\n",
    "        :type matrix: List[List[int]]\n",
    "        :rtype: None Do not return anything, modify matrix in-place instead.\n",
    "        \"\"\"\n",
    "        m = len(matrix)\n",
    "        n = len(matrix[0])\n",
    "        nums=matrix\n",
    "        if nums[0][0]!=0:\n",
    "            for i in range(1,m):\n",
    "                if nums[i][0]==0: \n",
    "                    nums[0][0]='r'\n",
    "                    break\n",
    "            for j in range(1,n):\n",
    "                if nums[0][j]==0:\n",
    "                    if nums[0][0]=='r':\n",
    "                        nums[0][0]='rc'\n",
    "                        break\n",
    "                    else:\n",
    "                        nums[0][0]='c'\n",
    "                        break\n",
    "        else:\n",
    "            nums[0][0]='rc'\n",
    "        for i in range(1,m):\n",
    "            for j in range(1,n):\n",
    "                if nums[i][j]==0:\n",
    "                    nums[i][0]=0\n",
    "                    nums[0][j]=0\n",
    "        \n",
    "        for i in range(1,m):\n",
    "            for j in range(1,n):\n",
    "                if nums[i][0]==0 or nums[0][j]==0:\n",
    "                    nums[i][j]=0 \n",
    "        ch=nums[0][0]\n",
    "        if ch=='r':\n",
    "            for i in range(m):\n",
    "                nums[i][0]=0\n",
    "        elif ch=='c':\n",
    "            for j in range(n):\n",
    "                nums[0][j]=0\n",
    "        elif ch=='rc':\n",
    "            for i in range(m):\n",
    "                nums[i][0]=0\n",
    "            for j in range(n):\n",
    "                nums[0][j]=0"
   ]
  },
  {
   "cell_type": "markdown",
   "id": "797eda0d",
   "metadata": {},
   "source": [
    "### Rotate Image\n",
    "https://leetcode.com/problems/rotate-image/description/"
   ]
  },
  {
   "cell_type": "code",
   "execution_count": null,
   "id": "15db4eb2",
   "metadata": {},
   "outputs": [],
   "source": [
    "class Solution(object):\n",
    "    def rotate(self, matrix):\n",
    "        m=len(matrix)\n",
    "        n=len(matrix[0])\n",
    "        for i in range(m//2):\n",
    "            matrix[i],matrix[m-1-i]=matrix[m-1-i],matrix[i]\n",
    "        print(matrix)\n",
    "        for i in range(m):\n",
    "            for j in range(i+1,n):\n",
    "                matrix[i][j],matrix[j][i]=matrix[j][i],matrix[i][j]\n",
    "\n",
    "\n",
    "        # ll=len(matrix)\n",
    "        # h=0\n",
    "        # lup=0\n",
    "        # for i in range(ll-1,-1,-1):\n",
    "        #     k=[matrix[j][h] for j in range(ll+lup-1,-1+lup,-1)]\n",
    "        #     matrix.insert(h,k)\n",
    "        #     h+=1;lup+=1\n",
    "        # matrix[ll:]=[]"
   ]
  },
  {
   "cell_type": "markdown",
   "id": "7a902b10",
   "metadata": {},
   "source": [
    "### Spiral Matrix\n",
    "https://leetcode.com/problems/spiral-matrix/description/"
   ]
  },
  {
   "cell_type": "code",
   "execution_count": null,
   "id": "17de1f37",
   "metadata": {},
   "outputs": [],
   "source": [
    "class Solution(object):\n",
    "    def spiralOrder(self, matrix):\n",
    "        \"\"\"\n",
    "        :type matrix: List[List[int]]\n",
    "        :rtype: List[int]\n",
    "        \"\"\"\n",
    "        m=len(matrix)\n",
    "        n=len(matrix[0])\n",
    "        i,j=0,0\n",
    "        k=0\n",
    "        a,b,c,d=True,False,False,False\n",
    "        m_max,n_max=m-1,n-1\n",
    "        m_min,n_min=0,0\n",
    "        out=[0]*(m*n)\n",
    "        while k<=m*n-1:\n",
    "            out[k]=matrix[i][j]\n",
    "            k+=1\n",
    "            if a: \n",
    "                if j==n_max: \n",
    "                    a=False\n",
    "                    b=True\n",
    "                    m_min+=1\n",
    "                    i+=1\n",
    "                else:\n",
    "                    j+=1\n",
    "            elif b:\n",
    "                if i==m_max:\n",
    "                    b=False\n",
    "                    c=True\n",
    "                    n_max-=1\n",
    "                    j-=1\n",
    "                else: i+=1\n",
    "\n",
    "            elif c:\n",
    "                if j==n_min:\n",
    "                    c=False\n",
    "                    d=True\n",
    "                    m_max-=1\n",
    "                    i-=1\n",
    "                else: j-=1\n",
    "            elif d:\n",
    "                if i==m_min:\n",
    "                    d=False\n",
    "                    a=True\n",
    "                    n_min+=1\n",
    "                    j+=1\n",
    "                else: i-=1\n",
    "        return out"
   ]
  },
  {
   "cell_type": "markdown",
   "id": "e0bce602",
   "metadata": {},
   "source": [
    "### Subarray Sum Equals K \n",
    "https://leetcode.com/problems/subarray-sum-equals-k/description/"
   ]
  },
  {
   "cell_type": "code",
   "execution_count": null,
   "id": "ba7503a5",
   "metadata": {},
   "outputs": [],
   "source": [
    "class Solution(object):\n",
    "    def subarraySum(self, nums, k):\n",
    "        \"\"\"\n",
    "        :type nums: List[int]\n",
    "        :type k: int\n",
    "        :rtype: int\n",
    "        \"\"\"\n",
    "        if not nums: return 0\n",
    "        accum_sum_track=dict()\n",
    "        tnsa=0\n",
    "        current_sum=0\n",
    "        accum_sum_track[0]=1\n",
    "        for num in nums:\n",
    "            current_sum+=num\n",
    "            if current_sum-k in accum_sum_track:\n",
    "                tnsa+= accum_sum_track[current_sum-k]\n",
    "            \n",
    "            accum_sum_track[current_sum]=accum_sum_track.get(current_sum,0)+1\n",
    "\n",
    "        return tnsa"
   ]
  },
  {
   "cell_type": "markdown",
   "id": "09ae514b",
   "metadata": {},
   "source": [
    "## Hard Arrays"
   ]
  },
  {
   "cell_type": "markdown",
   "id": "03c6ec05",
   "metadata": {},
   "source": [
    "### Pascal's Triangle\n",
    "https://leetcode.com/problems/pascals-triangle/description/"
   ]
  },
  {
   "cell_type": "code",
   "execution_count": null,
   "id": "325f70ad",
   "metadata": {},
   "outputs": [],
   "source": [
    "class Solution(object):\n",
    "    __slots__ = ()\n",
    "    def generate_row(self,row):\n",
    "        \"\"\"\n",
    "        r-1 n-1\n",
    "        ncr = n-1cr-1 +n-1cr\n",
    "        (r-1)!/(r-c)!*(c-1)! * r-c/c -> (r-1)!/(r-c-1)!(c)!\n",
    "        \"\"\"\n",
    "        first=1\n",
    "        l=[1]\n",
    "        for c in range(1,row):\n",
    "            first = first*(row-c)\n",
    "            first = first//c\n",
    "            l.append(first)\n",
    "        return l\n",
    "\n",
    "\n",
    "    def generate(self, numRows):\n",
    "        \"\"\"\n",
    "        :type numRows: int\n",
    "        :rtype: List[List[int]]\n",
    "        \"\"\"\n",
    "        o=[]\n",
    "        for i in range(1,numRows+1):\n",
    "            o.append(self.generate_row(i))\n",
    "        return o"
   ]
  },
  {
   "cell_type": "markdown",
   "id": "d87218f6",
   "metadata": {},
   "source": [
    "### Majority Element II\n",
    "https://leetcode.com/problems/majority-element-ii/description/"
   ]
  },
  {
   "cell_type": "code",
   "execution_count": null,
   "id": "ead698d5",
   "metadata": {},
   "outputs": [],
   "source": [
    "class Solution(object):\n",
    "    def majorityElement(self, nums):\n",
    "        \"\"\"\n",
    "        :type nums: List[int]\n",
    "        :rtype: List[int]\n",
    "        \"\"\"\n",
    "        if not nums:\n",
    "            return nums\n",
    "        \n",
    "        ele1,ele2=None,None\n",
    "        c1,c2=0,0\n",
    "        l_a = len(nums)\n",
    "        for num in nums:\n",
    "            if ele1==num:\n",
    "                c1+=1\n",
    "            elif ele2==num:\n",
    "                c2+=1\n",
    "            elif c1==0:\n",
    "                ele1=num\n",
    "                c1=1\n",
    "            elif c2==0:\n",
    "                ele2=num\n",
    "                c2=1\n",
    "            else:\n",
    "                c1-=1\n",
    "                c2-=1\n",
    "        res=[]\n",
    "        cv1,cv2=0,0\n",
    "        for i in nums: \n",
    "            if i==ele1: cv1+=1 \n",
    "            elif i==ele2:cv2+=1\n",
    "        if ele1 is not None and cv1>l_a//3:res.append(ele1)\n",
    "        if ele2 is not None and cv2>l_a//3:res.append(ele2)\n",
    "        return res\n",
    "\n",
    "class Solution(object):\n",
    "    def majorityElement(self, nums):\n",
    "        \"\"\"\n",
    "        :type nums: List[int]\n",
    "        :rtype: List[int]\n",
    "        \"\"\"\n",
    "        output = []\n",
    "        nums.sort()\n",
    "        x = len(nums)/3\n",
    "        for i in range(0, len(nums)-x):\n",
    "            if nums[i] == nums[i+x]:\n",
    "                if nums[i] not in output:\n",
    "                    output.append(nums[i])\n",
    "            else:\n",
    "                pass\n",
    "            if len(output)==2:\n",
    "                break\n",
    "        return output"
   ]
  },
  {
   "cell_type": "markdown",
   "id": "1ea3f27b",
   "metadata": {},
   "source": [
    "### 3 Sum\n",
    "https://leetcode.com/problems/3sum/description/"
   ]
  },
  {
   "cell_type": "code",
   "execution_count": null,
   "id": "43a20dfe",
   "metadata": {},
   "outputs": [],
   "source": [
    "class Solution(object):\n",
    "    def threeSum(self, nums):\n",
    "        \"\"\"\n",
    "        :type nums: List[int]\n",
    "        :rtype: List[List[int]]\n",
    "        \"\"\"\n",
    "        # Hash Based Solution\n",
    "        # l_a=len(nums)\n",
    "        # triplet=set()\n",
    "        # for i in range(l_a):\n",
    "        #     seen=set()\n",
    "        #     target = -nums[i]\n",
    "        #     for j in range(i+1,l_a):\n",
    "        #         if target-nums[j] in seen:\n",
    "        #             triplet.add(tuple(sorted((nums[j],-target,-nums[j]+target))))\n",
    "        #         seen.add(nums[j])\n",
    "        # return [list(i)for i in triplet]\n",
    "        # 2 Pointer and sort\n",
    "        nums.sort()\n",
    "        triplets=[]\n",
    "        if nums[0]>0:\n",
    "            return []\n",
    "        l_a =len(nums)\n",
    "        for i in range(l_a):\n",
    "            if i>0 and nums[i]==nums[i-1]:\n",
    "                continue\n",
    "            sp=i+1\n",
    "            ep=l_a-1\n",
    "            target=nums[i]\n",
    "            if target>0:\n",
    "                break\n",
    "            \n",
    "            while ep>sp:\n",
    "                n1,n2=nums[sp],nums[ep]\n",
    "                if n1+n2+target==0:\n",
    "                    triplets.append([n1,n2,target])\n",
    "                    sp+=1\n",
    "                    ep-=1\n",
    "                    while ep>sp and nums[sp]==nums[sp-1]:sp+=1\n",
    "                    while ep>sp and nums[ep]==nums[ep+1]:ep-=1\n",
    "                elif n1+n2+target<0:\n",
    "                    sp+=1\n",
    "                elif n1+n2+target>0:\n",
    "                    ep-=1\n",
    "            \n",
    "        return triplets\n",
    "        "
   ]
  },
  {
   "cell_type": "markdown",
   "id": "27065bdf",
   "metadata": {},
   "source": [
    "### 4 Sum\n",
    "https://leetcode.com/problems/4sum/\n"
   ]
  },
  {
   "cell_type": "code",
   "execution_count": null,
   "id": "484a274c",
   "metadata": {},
   "outputs": [],
   "source": [
    "class Solution(object):\n",
    "    def fourSum(self, nums, target):\n",
    "        \"\"\"\n",
    "        :type nums: List[int]\n",
    "        :type target: int\n",
    "        :rtype: List[List[int]]\n",
    "        \"\"\"\n",
    "        nums.sort()\n",
    "        quadruples=[]\n",
    "        avg = target//4\n",
    "        if nums[0]>avg or nums[-1]<avg:\n",
    "            return []\n",
    "        l_a = len(nums)\n",
    "        for i in range(l_a):\n",
    "            if i>0 and nums[i]==nums[i-1]:\n",
    "                continue\n",
    "            for j in range(i+1,l_a):\n",
    "                if j>i+1 and nums[j]==nums[j-1]:\n",
    "                    continue\n",
    "                sp=j+1\n",
    "                ep=l_a-1\n",
    "                to_add = nums[i]+nums[j]\n",
    "                while ep>sp:\n",
    "                    n1,n2=nums[sp],nums[ep]\n",
    "                    if n1+n2+to_add == target:\n",
    "                        quadruples.append([n1,n2,nums[i],nums[j]])\n",
    "                        sp+=1\n",
    "                        ep-=1\n",
    "                        while ep>sp and nums[ep]==nums[ep+1]: ep-=1\n",
    "                        while ep>sp and nums[sp]==nums[sp-1]: sp+=1\n",
    "                    elif n1+n2+to_add<target:\n",
    "                        sp+=1\n",
    "                    else:\n",
    "                        ep-=1\n",
    "\n",
    "\n",
    "        return quadruples\n",
    "\n",
    "class Solution(object):\n",
    "    def fourSum(self, nums, target):\n",
    "      ans = []\n",
    "\n",
    "      def nSum(l, r, target, n, path, ans):\n",
    "        if r - l + 1 < n or n < 2 or target < nums[l] * n or target > nums[r] * n:\n",
    "          return\n",
    "        if n == 2:\n",
    "          while l < r:\n",
    "            summ = nums[l] + nums[r]\n",
    "            if summ == target:\n",
    "              ans.append(path + [nums[l], nums[r]])\n",
    "              l += 1\n",
    "              while nums[l] == nums[l - 1] and l < r:\n",
    "                l += 1\n",
    "            elif summ < target:\n",
    "              l += 1\n",
    "            else:\n",
    "              r -= 1\n",
    "          return\n",
    "\n",
    "        for i in range(l, r + 1):\n",
    "          if i > l and nums[i] == nums[i - 1]:\n",
    "            continue\n",
    "\n",
    "          nSum(i + 1, r, target - nums[i], n - 1, path + [nums[i]], ans)\n",
    "\n",
    "      nums.sort()\n",
    "      nSum(0, len(nums) - 1, target, 4, [], ans)\n",
    "      return ans\n",
    "\n"
   ]
  },
  {
   "cell_type": "markdown",
   "id": "1ef3f4de",
   "metadata": {},
   "source": [
    "### Largest Subarray with Sum 0\n",
    "https://takeuforward.org/plus/dsa/problems/largest-subarray-with-sum-0"
   ]
  },
  {
   "cell_type": "code",
   "execution_count": null,
   "id": "5eda0e86",
   "metadata": {},
   "outputs": [],
   "source": [
    "class Solution:\n",
    "    def maxLen(self, arr):\n",
    "        if not arr:\n",
    "            return 0\n",
    "        mls=0\n",
    "        curr_sum=0\n",
    "        accumating_sum_track={0:-1}\n",
    "        for i,num in enumerate(arr):\n",
    "            curr_sum+=num\n",
    "            if curr_sum-0 in accumating_sum_track:\n",
    "                first_index=accumating_sum_track[curr_sum-0]\n",
    "                if i-first_index>mls:\n",
    "                    mls = i-first_index\n",
    "            else:\n",
    "                accumating_sum_track[curr_sum-0]=i\n",
    "        return mls"
   ]
  },
  {
   "cell_type": "markdown",
   "id": "2e14adc1",
   "metadata": {},
   "source": [
    "### Count subarrays with given xor K\n",
    "https://takeuforward.org/plus/dsa/problems/count-subarrays-with-given-xor-k"
   ]
  },
  {
   "cell_type": "code",
   "execution_count": null,
   "id": "91b5caf1",
   "metadata": {},
   "outputs": [],
   "source": [
    "class Solution:\n",
    "    def subarraysWithXorK(self, nums, k):\n",
    "        tnsa=0\n",
    "        sum_xor=0\n",
    "        accum_xor = {0:1}\n",
    "        for num in nums:\n",
    "            sum_xor = sum_xor^num\n",
    "            if sum_xor^k in accum_xor:\n",
    "                tnsa += accum_xor[sum_xor^k]\n",
    "            accum_xor[sum_xor] = accum_xor.get(sum_xor,0)+1\n",
    "        return tnsa"
   ]
  },
  {
   "cell_type": "markdown",
   "id": "6396b9ac",
   "metadata": {},
   "source": [
    "### Merge Intervals\n",
    "https://leetcode.com/problems/merge-intervals/description/"
   ]
  },
  {
   "cell_type": "code",
   "execution_count": null,
   "id": "888220b1",
   "metadata": {},
   "outputs": [],
   "source": [
    "class Solution(object):\n",
    "    def merge(self, intervals):\n",
    "        \"\"\"\n",
    "        :type intervals: List[List[int]]\n",
    "        :rtype: List[List[int]]\n",
    "        \"\"\"\n",
    "        intervals.sort(key=lambda x:x[0])\n",
    "        i=1\n",
    "        while i<len(intervals):\n",
    "            prev_last =intervals[i-1][1]\n",
    "            if prev_last>=intervals[i][0]:\n",
    "                intervals[i-1][1]=max(prev_last,intervals[i][1])\n",
    "                intervals.pop(i)\n",
    "            else:\n",
    "                i+=1\n",
    "        return intervals"
   ]
  },
  {
   "cell_type": "markdown",
   "id": "ed44dfa8",
   "metadata": {},
   "source": []
  },
  {
   "cell_type": "code",
   "execution_count": null,
   "id": "6e03320d",
   "metadata": {},
   "outputs": [],
   "source": []
  },
  {
   "cell_type": "markdown",
   "id": "4bd018c2",
   "metadata": {},
   "source": []
  },
  {
   "cell_type": "code",
   "execution_count": null,
   "id": "95728fbf",
   "metadata": {},
   "outputs": [],
   "source": []
  }
 ],
 "metadata": {
  "colab": {
   "provenance": []
  },
  "kernelspec": {
   "display_name": "base",
   "language": "python",
   "name": "python3"
  },
  "language_info": {
   "codemirror_mode": {
    "name": "ipython",
    "version": 3
   },
   "file_extension": ".py",
   "mimetype": "text/x-python",
   "name": "python",
   "nbconvert_exporter": "python",
   "pygments_lexer": "ipython3",
   "version": "3.13.2"
  },
  "papermill": {
   "default_parameters": {},
   "duration": 6.123111,
   "end_time": "2025-05-09T01:26:19.176023",
   "environment_variables": {},
   "exception": true,
   "input_path": "__notebook__.ipynb",
   "output_path": "__notebook__.ipynb",
   "parameters": {},
   "start_time": "2025-05-09T01:26:13.052912",
   "version": "2.6.0"
  }
 },
 "nbformat": 4,
 "nbformat_minor": 5
}
